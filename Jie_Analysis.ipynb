{
 "cells": [
  {
   "cell_type": "markdown",
   "metadata": {},
   "source": [
    "# COMP 4151 Project"
   ]
  },
  {
   "cell_type": "markdown",
   "metadata": {},
   "source": [
    "### Overview\n",
    "\n",
    "The goal of this project is to apply analytics techniques learned in this course to study a real-world dataset, and if possible, build a model to make prediction.\n",
    "\n",
    "The main dataset provided is BCHI-dataset_2019-03-04.csv. More information about the data set can be found here: https://www.bigcitieshealth.org/city-data\n",
    "\n",
    "\n"
   ]
  },
  {
   "cell_type": "markdown",
   "metadata": {},
   "source": [
    "### I. Basic Understanding of the Dataset"
   ]
  },
  {
   "cell_type": "markdown",
   "metadata": {},
   "source": [
    "In this phase, make sure you understand as much as possible the data set.\n",
    "\n",
    "Here are some questions that you should answer. When you answer a question, your answer should be in English. At the same time, if applicable, the answer should consist Python code that shows how you obtain your answer.  People should be able to read and understand your answer without guessing on your behalf how to get the answer.\n",
    "\n",
    "1. What is the Indicator attribute?\n",
    "2. How many categories of Indicator are there?\n",
    "3. Explain the \"Value\" value of row 26382 in this dataset.\n",
    "4. Explain the \"Value\" value of row 7833.\n",
    "5. Explain the \"Value\" value of row 10682.  What does it mean that the \"Sex\" value is \"Both\"?\n",
    "6. Explain the \"Value\" value of row 26701.\n",
    "7. Specifically, which factors does the indicator category 'Social and Economic Factors' consist of?\n"
   ]
  },
  {
   "cell_type": "markdown",
   "metadata": {},
   "source": [
    "### II. Data Exploration"
   ]
  },
  {
   "cell_type": "markdown",
   "metadata": {},
   "source": [
    "Study obesity in both adults and high school students in this data set.\n",
    "\n",
    "Such a study may involve a number steps:\n",
    "\n",
    "* Quick exploration of the data on the subject of obesity.\n",
    "    + This requires that you ask basic questions. Many of these questions can be answered using pandas.\n",
    "    + This may also require that you draw figures to get a better understanding of the data.  seaborn should be helpful here.\n",
    "\n",
    "* Establishing a number of hypotheses about obesity (cause, effect, etc.)\n",
    "\n",
    "* Analyze, report on your hypotheses.\n",
    "\n",
    "An important goal of the project is for you to communicate effectively. Clarity in writing (English and Python) is extremely important. Readers do not want to guess how you arrive to your findings.\n",
    "\n",
    "\n"
   ]
  },
  {
   "cell_type": "markdown",
   "metadata": {},
   "source": [
    "### III. Limitations of the Data"
   ]
  },
  {
   "cell_type": "markdown",
   "metadata": {},
   "source": [
    "In this part, I would like to you think about realistic limitations about this dataset. Which attributes/factors are not included in the dataset, but can be important in understanding or effecting a health factor?"
   ]
  },
  {
   "cell_type": "markdown",
   "metadata": {},
   "source": [
    "This part requires you to think deeply and speculate larger hypotheses.\n",
    "\n",
    "It also requires your team to collect additional data not included in this dataset.\n",
    "\n",
    "Lastly, it requires you to perform analyses to prove or disprove your hypotheses.  This part should require pandas, sklearn, etc."
   ]
  },
  {
   "cell_type": "markdown",
   "metadata": {},
   "source": [
    "### IV. Project Report\n",
    "\n",
    "The report should be in stages. You should turn in notebooks with properly named. For example, COMP4151_Project_Team01_StageI.ipynb."
   ]
  },
  {
   "cell_type": "code",
   "execution_count": 1,
   "metadata": {},
   "outputs": [],
   "source": [
    "import pandas as pd\n",
    "import matplotlib.pyplot as plt\n",
    "import seaborn as sns"
   ]
  },
  {
   "cell_type": "code",
   "execution_count": 2,
   "metadata": {},
   "outputs": [],
   "source": [
    "data = pd.read_csv(\"./dataset/BCHI-dataset_2019-03-04.csv\")"
   ]
  },
  {
   "cell_type": "code",
   "execution_count": null,
   "metadata": {},
   "outputs": [],
   "source": [
    "place_to_exclude = \"U.S. Total, U.S. Total\"\n",
    "sex_to_include = \"Both\""
   ]
  },
  {
   "cell_type": "code",
   "execution_count": 10,
   "metadata": {},
   "outputs": [],
   "source": [
    "data['Value'].fillna(0,inplace=True)"
   ]
  },
  {
   "cell_type": "code",
   "execution_count": 6,
   "metadata": {},
   "outputs": [],
   "source": [
    "percent_adult_obese = data[data['Indicator'] == 'Percent of Adults Who Are Obese']\n",
    "percent_hs_obese = data[data['Indicator'] == 'Percent of High School Students Who Are Obese']\n",
    "adult_indicators = [j for j,x in enumerate(['Adult' in i for i in data['Indicator'].unique()]) if x]\n",
    "high_school_indicators = [j for j,x in enumerate(['High School' in i for i in data['Indicator'].unique()]) if x]"
   ]
  }
 ],
 "metadata": {
  "kernelspec": {
   "display_name": "Python 3",
   "language": "python",
   "name": "python3"
  },
  "language_info": {
   "codemirror_mode": {
    "name": "ipython",
    "version": 3
   },
   "file_extension": ".py",
   "mimetype": "text/x-python",
   "name": "python",
   "nbconvert_exporter": "python",
   "pygments_lexer": "ipython3",
   "version": "3.7.4"
  }
 },
 "nbformat": 4,
 "nbformat_minor": 2
}
