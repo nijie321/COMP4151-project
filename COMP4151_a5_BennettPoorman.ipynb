{
 "cells": [
  {
   "cell_type": "markdown",
   "metadata": {},
   "source": [
    "# COMP 4151 - Assignment 5\n",
    "\n",
    "## Due: 10/29/2019 at 11:59PM"
   ]
  },
  {
   "cell_type": "markdown",
   "metadata": {},
   "source": [
    "## Name: Bennett Poorman"
   ]
  },
  {
   "cell_type": "markdown",
   "metadata": {},
   "source": [
    "**Note**: \n",
    "\n",
    "- All work in this assignment must be done, created, originated from each student. \n",
    "- All external assistance must be explicitly mentioned and cited. \n",
    "- Using work done by others without explicit citation is considered cheating. \n",
    "- A student will receive a zero grade on the assignment for cheating. \n",
    "- Repeated offence will lead to additional consequences."
   ]
  },
  {
   "cell_type": "markdown",
   "metadata": {},
   "source": [
    "This assignment focuses on the first phase of the project.  The dataset can be obtained here: https://umdrive.memphis.edu/vphan/public/4151/BCHI-dataset_2019-03-04.csv\n",
    "\n",
    "Give comprehensive answers to these questions, as much as, possible.  When you answer a question, your answer should be in English. At the same time, if applicable, the answer should consist Python code that shows how you obtain your answer.  People should be able to read and understand your answer without guessing on your behalf how to get the answer.\n",
    "\n",
    "1. What is the Indicator attribute?\n",
    "2. How many categories of Indicator are there?\n",
    "3. Explain the \"Value\" value of row 26382 in this dataset.\n",
    "4. Explain the \"Value\" value of row 7833.\n",
    "5. Explain the \"Value\" value of row 10682.  What does it mean that the \"Sex\" value is \"Both\"?\n",
    "6. Explain the \"Value\" value of row 26701.\n",
    "7. Specifically, which factors does the indicator category 'Social and Economic Factors' consist of?\n",
    "8. Visualize (e.g. with seaborn) the suicide rate of some specific race in the 3 most populous and 3 least populous cities over the period of the seven years.  Explain in English each step, and show your Python code of each step."
   ]
  },
  {
   "cell_type": "code",
   "execution_count": 1,
   "metadata": {},
   "outputs": [],
   "source": [
    "import pandas as pd\n",
    "import seaborn as sns\n",
    "import numpy as np\n",
    "from matplotlib import pyplot"
   ]
  },
  {
   "cell_type": "code",
   "execution_count": 2,
   "metadata": {},
   "outputs": [],
   "source": [
    "data_src = 'BCHI-dataset_2019-03-04.csv'\n",
    "df = pd.read_csv(data_src)\n",
    "df = df.rename(columns={'Race/Ethnicity':'Race_Ethnicity'})"
   ]
  },
  {
   "cell_type": "code",
   "execution_count": 3,
   "metadata": {},
   "outputs": [
    {
     "data": {
      "text/html": [
       "<div>\n",
       "<style scoped>\n",
       "    .dataframe tbody tr th:only-of-type {\n",
       "        vertical-align: middle;\n",
       "    }\n",
       "\n",
       "    .dataframe tbody tr th {\n",
       "        vertical-align: top;\n",
       "    }\n",
       "\n",
       "    .dataframe thead th {\n",
       "        text-align: right;\n",
       "    }\n",
       "</style>\n",
       "<table border=\"1\" class=\"dataframe\">\n",
       "  <thead>\n",
       "    <tr style=\"text-align: right;\">\n",
       "      <th></th>\n",
       "      <th>Indicator Category</th>\n",
       "      <th>Indicator</th>\n",
       "      <th>Year</th>\n",
       "      <th>Sex</th>\n",
       "      <th>Race_Ethnicity</th>\n",
       "      <th>Value</th>\n",
       "      <th>Place</th>\n",
       "      <th>BCHC Requested Methodology</th>\n",
       "      <th>Source</th>\n",
       "      <th>Methods</th>\n",
       "      <th>Notes</th>\n",
       "      <th>90% Confidence Level - Low</th>\n",
       "      <th>90% Confidence Level - High</th>\n",
       "      <th>95% Confidence Level - Low</th>\n",
       "      <th>95% Confidence Level - High</th>\n",
       "    </tr>\n",
       "  </thead>\n",
       "  <tbody>\n",
       "    <tr>\n",
       "      <th>12984</th>\n",
       "      <td>Food Safety</td>\n",
       "      <td>Rate of Laboratory Confirmed Infections Caused...</td>\n",
       "      <td>2012</td>\n",
       "      <td>Both</td>\n",
       "      <td>Other</td>\n",
       "      <td>5.7</td>\n",
       "      <td>Cleveland, OH</td>\n",
       "      <td>Rate of lab-confirmed infections caused by Sal...</td>\n",
       "      <td>Ohio Disease Reporting System (Ohio Department...</td>\n",
       "      <td>NaN</td>\n",
       "      <td>NaN</td>\n",
       "      <td>NaN</td>\n",
       "      <td>NaN</td>\n",
       "      <td>NaN</td>\n",
       "      <td>NaN</td>\n",
       "    </tr>\n",
       "    <tr>\n",
       "      <th>11207</th>\n",
       "      <td>Demographics</td>\n",
       "      <td>Race/Ethnicity (Percent)</td>\n",
       "      <td>2012</td>\n",
       "      <td>Both</td>\n",
       "      <td>Hispanic</td>\n",
       "      <td>10.5</td>\n",
       "      <td>Minneapolis, MN</td>\n",
       "      <td>Percentage of race/ethnicity population distri...</td>\n",
       "      <td>US Census Bureau, American Community Survey 1-...</td>\n",
       "      <td>NaN</td>\n",
       "      <td>FIPS code 2743000 was used to isolate data for...</td>\n",
       "      <td>9.4</td>\n",
       "      <td>11.6</td>\n",
       "      <td>NaN</td>\n",
       "      <td>NaN</td>\n",
       "    </tr>\n",
       "    <tr>\n",
       "      <th>6334</th>\n",
       "      <td>Chronic Disease</td>\n",
       "      <td>Heart Disease Mortality Rate (Age-Adjusted; Pe...</td>\n",
       "      <td>2015</td>\n",
       "      <td>Both</td>\n",
       "      <td>Black</td>\n",
       "      <td>177.5</td>\n",
       "      <td>San Diego County, CA</td>\n",
       "      <td>Heart disease related mortality rate per 100,0...</td>\n",
       "      <td>Centers for Disease Control and Prevention, Na...</td>\n",
       "      <td>All data was pulled using the CDC WONDER morta...</td>\n",
       "      <td>NaN</td>\n",
       "      <td>NaN</td>\n",
       "      <td>NaN</td>\n",
       "      <td>153.8</td>\n",
       "      <td>201.2</td>\n",
       "    </tr>\n",
       "  </tbody>\n",
       "</table>\n",
       "</div>"
      ],
      "text/plain": [
       "      Indicator Category                                          Indicator  \\\n",
       "12984        Food Safety  Rate of Laboratory Confirmed Infections Caused...   \n",
       "11207       Demographics                           Race/Ethnicity (Percent)   \n",
       "6334     Chronic Disease  Heart Disease Mortality Rate (Age-Adjusted; Pe...   \n",
       "\n",
       "       Year   Sex Race_Ethnicity  Value                 Place  \\\n",
       "12984  2012  Both          Other    5.7         Cleveland, OH   \n",
       "11207  2012  Both       Hispanic   10.5       Minneapolis, MN   \n",
       "6334   2015  Both          Black  177.5  San Diego County, CA   \n",
       "\n",
       "                              BCHC Requested Methodology  \\\n",
       "12984  Rate of lab-confirmed infections caused by Sal...   \n",
       "11207  Percentage of race/ethnicity population distri...   \n",
       "6334   Heart disease related mortality rate per 100,0...   \n",
       "\n",
       "                                                  Source  \\\n",
       "12984  Ohio Disease Reporting System (Ohio Department...   \n",
       "11207  US Census Bureau, American Community Survey 1-...   \n",
       "6334   Centers for Disease Control and Prevention, Na...   \n",
       "\n",
       "                                                 Methods  \\\n",
       "12984                                                NaN   \n",
       "11207                                                NaN   \n",
       "6334   All data was pulled using the CDC WONDER morta...   \n",
       "\n",
       "                                                   Notes  \\\n",
       "12984                                                NaN   \n",
       "11207  FIPS code 2743000 was used to isolate data for...   \n",
       "6334                                                 NaN   \n",
       "\n",
       "       90% Confidence Level - Low  90% Confidence Level - High  \\\n",
       "12984                         NaN                          NaN   \n",
       "11207                         9.4                         11.6   \n",
       "6334                          NaN                          NaN   \n",
       "\n",
       "       95% Confidence Level - Low  95% Confidence Level - High  \n",
       "12984                         NaN                          NaN  \n",
       "11207                         NaN                          NaN  \n",
       "6334                        153.8                        201.2  "
      ]
     },
     "execution_count": 3,
     "metadata": {},
     "output_type": "execute_result"
    }
   ],
   "source": [
    "df.sample(3)"
   ]
  },
  {
   "cell_type": "markdown",
   "metadata": {},
   "source": [
    "## 1. What is the Indicator attribute?"
   ]
  },
  {
   "cell_type": "code",
   "execution_count": 4,
   "metadata": {},
   "outputs": [
    {
     "data": {
      "text/plain": [
       "array(['Opioid-Related Unintentional Drug Overdose Mortality Rate (Age-Adjusted; Per 100,000 people)',\n",
       "       'Percent of Adults Who Binge Drank',\n",
       "       'Percent of High School Students Who Binge Drank',\n",
       "       'All Types of Cancer Mortality Rate (Age-Adjusted; Per 100,000 people)',\n",
       "       'Female Breast Cancer Mortality Rate (Age-Adjusted; Per 100,000 people)',\n",
       "       'Lung Cancer Mortality Rate (Age-Adjusted; Per 100,000 people)',\n",
       "       'Asthma Emergency Department Visit Rate (Age-Adjusted; Per 10,000)',\n",
       "       'Diabetes Mortality Rate (Age-Adjusted; Per 100,000 people)',\n",
       "       'Heart Disease Mortality Rate (Age-Adjusted; Per 100,000 people)',\n",
       "       'Percent of Adults Who Are Obese'], dtype=object)"
      ]
     },
     "execution_count": 4,
     "metadata": {},
     "output_type": "execute_result"
    }
   ],
   "source": [
    "df['Indicator'].unique()[0:10]"
   ]
  },
  {
   "cell_type": "markdown",
   "metadata": {},
   "source": [
    "The indicator attribute specifies what attribute of the population is being measured for a given data point."
   ]
  },
  {
   "cell_type": "markdown",
   "metadata": {},
   "source": [
    "## 2. How many categories of Indicator are there?"
   ]
  },
  {
   "cell_type": "code",
   "execution_count": 5,
   "metadata": {},
   "outputs": [
    {
     "data": {
      "text/plain": [
       "13"
      ]
     },
     "execution_count": 5,
     "metadata": {},
     "output_type": "execute_result"
    }
   ],
   "source": [
    "len(df['Indicator Category'].unique())"
   ]
  },
  {
   "cell_type": "markdown",
   "metadata": {},
   "source": [
    "There are 13 categories of Indicator."
   ]
  },
  {
   "cell_type": "markdown",
   "metadata": {},
   "source": [
    "## 3. Explain the \"Value\" of row 26382 in this dataset."
   ]
  },
  {
   "cell_type": "code",
   "execution_count": 6,
   "metadata": {},
   "outputs": [
    {
     "data": {
      "text/plain": [
       "Indicator Category                                 Maternal and Child Health\n",
       "Indicator                      Infant Mortality Rate (Per 1,000 live births)\n",
       "Year                                                                    2010\n",
       "Sex                                                                     Both\n",
       "Race_Ethnicity                                                      Asian/PI\n",
       "Value                                                                      2\n",
       "Place                                                             Denver, CO\n",
       "BCHC Requested Methodology              Infant deaths per 1,000 live births.\n",
       "Source                                                         Vital Records\n",
       "Methods                                                                  NaN\n",
       "Notes                                                                    NaN\n",
       "90% Confidence Level - Low                                               NaN\n",
       "90% Confidence Level - High                                              NaN\n",
       "95% Confidence Level - Low                                               NaN\n",
       "95% Confidence Level - High                                              NaN\n",
       "Name: 26382, dtype: object"
      ]
     },
     "execution_count": 6,
     "metadata": {},
     "output_type": "execute_result"
    }
   ],
   "source": [
    "df.iloc[26382]"
   ]
  },
  {
   "cell_type": "markdown",
   "metadata": {},
   "source": [
    "The value of row 26382 in this dataset gives the number of Asian/PI infant deaths per 1,000 live births in 2010 in Denver, CO."
   ]
  },
  {
   "cell_type": "markdown",
   "metadata": {},
   "source": [
    "## 4. Explain the \"Value\" value of row 7833."
   ]
  },
  {
   "cell_type": "code",
   "execution_count": 7,
   "metadata": {},
   "outputs": [
    {
     "data": {
      "text/plain": [
       "Indicator Category                                               Chronic Disease\n",
       "Indicator                      Percent of Adults Who Meet CDC-Recommended Phy...\n",
       "Year                                                                        2011\n",
       "Sex                                                                         Both\n",
       "Race_Ethnicity                                                          Hispanic\n",
       "Value                                                                       44.2\n",
       "Place                                               Oakland (Alameda County), CA\n",
       "BCHC Requested Methodology     BRFSS (or similar survey). Percent of populati...\n",
       "Source                                                          CHIS- 2005, 2009\n",
       "Methods                        Adults 18+ years, Moderate physical activity a...\n",
       "Notes                                                                        NaN\n",
       "90% Confidence Level - Low                                                   NaN\n",
       "90% Confidence Level - High                                                  NaN\n",
       "95% Confidence Level - Low                                                   NaN\n",
       "95% Confidence Level - High                                                  NaN\n",
       "Name: 7833, dtype: object"
      ]
     },
     "execution_count": 7,
     "metadata": {},
     "output_type": "execute_result"
    }
   ],
   "source": [
    "df.iloc[7833]"
   ]
  },
  {
   "cell_type": "code",
   "execution_count": 8,
   "metadata": {},
   "outputs": [
    {
     "data": {
      "text/plain": [
       "'Percent of Adults Who Meet CDC-Recommended Physical Activity Levels'"
      ]
     },
     "execution_count": 8,
     "metadata": {},
     "output_type": "execute_result"
    }
   ],
   "source": [
    "df.iloc[7833]['Indicator']"
   ]
  },
  {
   "cell_type": "code",
   "execution_count": 9,
   "metadata": {},
   "outputs": [
    {
     "data": {
      "text/plain": [
       "'BRFSS (or similar survey). Percent of population 18 years and over that meets CDC physical activity recommendations: 18 and over get at least 2 hrs, 30 mins of moderate intensity aerobic activity every week for good health; 1 hr, 15 mins of vigorous intensity aerobic activity; or an equivalent mix of moderate and vigorous.'"
      ]
     },
     "execution_count": 9,
     "metadata": {},
     "output_type": "execute_result"
    }
   ],
   "source": [
    "df.iloc[7833]['BCHC Requested Methodology']"
   ]
  },
  {
   "cell_type": "markdown",
   "metadata": {},
   "source": [
    "The value of row 7833 in the dataset gives the percentage of Hispanic adults who met CDC-recommened physical activity levels in 2011 in Oakland (Alameda County), CA."
   ]
  },
  {
   "cell_type": "markdown",
   "metadata": {},
   "source": [
    "## 5. Explain the \"Value\" of row 10682. What does it mean that the \"Sex\" value is \"Both\"?"
   ]
  },
  {
   "cell_type": "code",
   "execution_count": 10,
   "metadata": {},
   "outputs": [
    {
     "data": {
      "text/plain": [
       "Indicator Category                                                  Demographics\n",
       "Indicator                                Percent of Population with a Disability\n",
       "Year                                                                        2016\n",
       "Sex                                                                         Both\n",
       "Race_Ethnicity                                                          Hispanic\n",
       "Value                                                                        8.9\n",
       "Place                                                            Los Angeles, CA\n",
       "BCHC Requested Methodology     Percentage of the population with a disability...\n",
       "Source                         US Census Bureau, American Community Survey 1-...\n",
       "Methods                                                                      NaN\n",
       "Notes                                                                        NaN\n",
       "90% Confidence Level - Low                                                   NaN\n",
       "90% Confidence Level - High                                                  NaN\n",
       "95% Confidence Level - Low                                                   NaN\n",
       "95% Confidence Level - High                                                  NaN\n",
       "Name: 10682, dtype: object"
      ]
     },
     "execution_count": 10,
     "metadata": {},
     "output_type": "execute_result"
    }
   ],
   "source": [
    "value = df.iloc[10682]\n",
    "value"
   ]
  },
  {
   "cell_type": "code",
   "execution_count": 11,
   "metadata": {},
   "outputs": [
    {
     "data": {
      "text/plain": [
       "'Percentage of the population with a disability (including hearing, vision, cognitive, ambulatory, self-care, or independent living difficulties), using US Census, American Community Survey 1-year estimates or something similar.'"
      ]
     },
     "execution_count": 11,
     "metadata": {},
     "output_type": "execute_result"
    }
   ],
   "source": [
    "value['BCHC Requested Methodology']"
   ]
  },
  {
   "cell_type": "markdown",
   "metadata": {},
   "source": [
    "The value of row 10682 gives the percentage of Hispanic people in Los Angeles, CA in 2016 who had a disability."
   ]
  },
  {
   "cell_type": "code",
   "execution_count": 12,
   "metadata": {},
   "outputs": [
    {
     "data": {
      "text/html": [
       "<div>\n",
       "<style scoped>\n",
       "    .dataframe tbody tr th:only-of-type {\n",
       "        vertical-align: middle;\n",
       "    }\n",
       "\n",
       "    .dataframe tbody tr th {\n",
       "        vertical-align: top;\n",
       "    }\n",
       "\n",
       "    .dataframe thead th {\n",
       "        text-align: right;\n",
       "    }\n",
       "</style>\n",
       "<table border=\"1\" class=\"dataframe\">\n",
       "  <thead>\n",
       "    <tr style=\"text-align: right;\">\n",
       "      <th></th>\n",
       "      <th></th>\n",
       "      <th>Sex</th>\n",
       "      <th>Both</th>\n",
       "      <th>Female</th>\n",
       "      <th>Male</th>\n",
       "    </tr>\n",
       "    <tr>\n",
       "      <th>Indicator</th>\n",
       "      <th>Place</th>\n",
       "      <th>Year</th>\n",
       "      <th></th>\n",
       "      <th></th>\n",
       "      <th></th>\n",
       "    </tr>\n",
       "  </thead>\n",
       "  <tbody>\n",
       "    <tr>\n",
       "      <th>Life Expectancy at Birth (Years)</th>\n",
       "      <th>San Antonio, TX</th>\n",
       "      <th>2013</th>\n",
       "      <td>79.4</td>\n",
       "      <td>81.7</td>\n",
       "      <td>76.8</td>\n",
       "    </tr>\n",
       "    <tr>\n",
       "      <th>Percent of Population 65 and Over</th>\n",
       "      <th>San Jose, CA</th>\n",
       "      <th>2014</th>\n",
       "      <td>11.7</td>\n",
       "      <td>NaN</td>\n",
       "      <td>NaN</td>\n",
       "    </tr>\n",
       "    <tr>\n",
       "      <th>Rate of Laboratory Confirmed Infections Caused by Salmonella (Per 100,000 people)</th>\n",
       "      <th>Washington, DC</th>\n",
       "      <th>2013</th>\n",
       "      <td>11.6</td>\n",
       "      <td>6.3</td>\n",
       "      <td>5.2</td>\n",
       "    </tr>\n",
       "    <tr>\n",
       "      <th>Percent of Population Uninsured</th>\n",
       "      <th>Long Beach, CA</th>\n",
       "      <th>2014</th>\n",
       "      <td>14.8</td>\n",
       "      <td>13.2</td>\n",
       "      <td>16.5</td>\n",
       "    </tr>\n",
       "    <tr>\n",
       "      <th>Pneumonia and Influenza Mortality Rate (Age-Adjusted; Per 100,000 people)</th>\n",
       "      <th>Fort Worth (Tarrant County), TX</th>\n",
       "      <th>2013</th>\n",
       "      <td>13.0</td>\n",
       "      <td>12.1</td>\n",
       "      <td>14.6</td>\n",
       "    </tr>\n",
       "  </tbody>\n",
       "</table>\n",
       "</div>"
      ],
      "text/plain": [
       "Sex                                                                                      Both  \\\n",
       "Indicator                                          Place                           Year         \n",
       "Life Expectancy at Birth (Years)                   San Antonio, TX                 2013  79.4   \n",
       "Percent of Population 65 and Over                  San Jose, CA                    2014  11.7   \n",
       "Rate of Laboratory Confirmed Infections Caused ... Washington, DC                  2013  11.6   \n",
       "Percent of Population Uninsured                    Long Beach, CA                  2014  14.8   \n",
       "Pneumonia and Influenza Mortality Rate (Age-Adj... Fort Worth (Tarrant County), TX 2013  13.0   \n",
       "\n",
       "Sex                                                                                      Female  \\\n",
       "Indicator                                          Place                           Year           \n",
       "Life Expectancy at Birth (Years)                   San Antonio, TX                 2013    81.7   \n",
       "Percent of Population 65 and Over                  San Jose, CA                    2014     NaN   \n",
       "Rate of Laboratory Confirmed Infections Caused ... Washington, DC                  2013     6.3   \n",
       "Percent of Population Uninsured                    Long Beach, CA                  2014    13.2   \n",
       "Pneumonia and Influenza Mortality Rate (Age-Adj... Fort Worth (Tarrant County), TX 2013    12.1   \n",
       "\n",
       "Sex                                                                                      Male  \n",
       "Indicator                                          Place                           Year        \n",
       "Life Expectancy at Birth (Years)                   San Antonio, TX                 2013  76.8  \n",
       "Percent of Population 65 and Over                  San Jose, CA                    2014   NaN  \n",
       "Rate of Laboratory Confirmed Infections Caused ... Washington, DC                  2013   5.2  \n",
       "Percent of Population Uninsured                    Long Beach, CA                  2014  16.5  \n",
       "Pneumonia and Influenza Mortality Rate (Age-Adj... Fort Worth (Tarrant County), TX 2013  14.6  "
      ]
     },
     "execution_count": 12,
     "metadata": {},
     "output_type": "execute_result"
    }
   ],
   "source": [
    "disabled = pd.pivot_table(df, values='Value', index=['Race_Ethnicity', 'Indicator', 'Place', 'Year'], \\\n",
    "                          columns=['Sex'], aggfunc=np.mean)\n",
    "disabled.loc['All'].sample(5)"
   ]
  },
  {
   "cell_type": "code",
   "execution_count": 13,
   "metadata": {},
   "outputs": [
    {
     "name": "stdout",
     "output_type": "stream",
     "text": [
      "Sex\n",
      "Both      15.8\n",
      "Female    16.3\n",
      "Male      15.3\n",
      "Name: (All, Percent of Population with a Disability, Philadelphia, PA, 2016), dtype: float64\n",
      "\n",
      "Average value between Female and Male: 15.8\n"
     ]
    }
   ],
   "source": [
    "philly2016 = disabled.loc[('All', 'Percent of Population with a Disability', 'Philadelphia, PA', 2016)]\n",
    "female_male_average = (philly2016['Female'] + philly2016['Male']) / 2\n",
    "print(philly2016)\n",
    "print('\\n', 'Average value between Female and Male: ', female_male_average, sep='')"
   ]
  },
  {
   "cell_type": "markdown",
   "metadata": {},
   "source": [
    "The \"Sex\" value being \"Both\" means that the measurement value for that data point represents both men and women. We can test this using a (Race_Ethnicity, Indicator, Place, Year) combination that has \"Sex\" values for \"Female\", \"Male\", and \"Both\". For example, in the code above I checked the values for (Race_Ethnicity = \"All\", Indicator = \"Percent of Population with a Disability\", Place = \"Philadelphia, PA\", Year = 2016). For this combination, the \"Sex\" values are\n",
    "* \"Female\" = 16.3\n",
    "* \"Male\" = 15.3\n",
    "* \"Both\" = 15.8\n",
    "  \n",
    "If you average the values of \"Female\" and \"Male\", you get 15.8, which is the same value as \"Both\". You can check other data points like this, and you will find that averaging \"Female\" and \"Male\" gives you approximately the same value as \"Both\" as long as the values of \"Race_Ethnicity\", \"Indicator\", \"Place\", and \"Year\" are the same."
   ]
  },
  {
   "cell_type": "markdown",
   "metadata": {},
   "source": [
    "## 6. Explain the \"Value\" value of row 26701."
   ]
  },
  {
   "cell_type": "code",
   "execution_count": 14,
   "metadata": {},
   "outputs": [
    {
     "data": {
      "text/plain": [
       "Indicator Category                                     Maternal and Child Health\n",
       "Indicator                          Infant Mortality Rate (Per 1,000 live births)\n",
       "Year                                                                        2012\n",
       "Sex                                                                         Both\n",
       "Race_Ethnicity                                                             White\n",
       "Value                                                                          5\n",
       "Place                                                            San Antonio, TX\n",
       "BCHC Requested Methodology                  Infant deaths per 1,000 live births.\n",
       "Source                         Bexar County resident, SA Metro Health Birth a...\n",
       "Methods                                                                      NaN\n",
       "Notes                                                     Bexar County Residents\n",
       "90% Confidence Level - Low                                                   NaN\n",
       "90% Confidence Level - High                                                  NaN\n",
       "95% Confidence Level - Low                                                   NaN\n",
       "95% Confidence Level - High                                                  NaN\n",
       "Name: 26701, dtype: object"
      ]
     },
     "execution_count": 14,
     "metadata": {},
     "output_type": "execute_result"
    }
   ],
   "source": [
    "df.iloc[26701]"
   ]
  },
  {
   "cell_type": "markdown",
   "metadata": {},
   "source": [
    "The value of row 26701 gives the number of White infant deaths per 1,000 live births in 2012 in San Antonio, TX."
   ]
  },
  {
   "cell_type": "markdown",
   "metadata": {},
   "source": [
    "## 7. Specifically, which factors does the indicator category 'Social and Economic Factors' consist of?"
   ]
  },
  {
   "cell_type": "code",
   "execution_count": 15,
   "metadata": {},
   "outputs": [
    {
     "data": {
      "text/plain": [
       "array(['Median Household Income (Dollars)',\n",
       "       'Percent Living Below 200% Poverty Level',\n",
       "       'Percent of 3 and 4 Year Olds Currently Enrolled in Preschool',\n",
       "       'Percent of Children Living in Poverty',\n",
       "       'Percent of High School Graduates (Over Age 18)',\n",
       "       'Percent of Households Whose Housing Costs Exceed 35% of Income',\n",
       "       'Percent of Population Uninsured', 'Percent Unemployed'],\n",
       "      dtype=object)"
      ]
     },
     "execution_count": 15,
     "metadata": {},
     "output_type": "execute_result"
    }
   ],
   "source": [
    "df.loc[df['Indicator Category'] == 'Social and Economic Factors']['Indicator'].unique()"
   ]
  },
  {
   "cell_type": "markdown",
   "metadata": {},
   "source": [
    "The indicator category 'Social and Economic Factors' consists of the following factors:\n",
    "* Median Household Income (Dollars)\n",
    "* Percent Living Below 200% Poverty Level\n",
    "* Percent of 3 and 4 Year Olds Currently Enrolled in Preschool\n",
    "* Percent of Children Living in Poverty\n",
    "* Percent of High School Graduates (Over Age 18)\n",
    "* Percent of Households Whose Housing Costs Exceed 35% of Income\n",
    "* Percent of Population Uninsured\n",
    "* Percent Unemployed"
   ]
  },
  {
   "cell_type": "markdown",
   "metadata": {},
   "source": [
    "## 8. Visualize (e.g. with seaborn) the suicide rate of some specific race in the 3 most populous and 3 least populous cities over the period of the seven years. Explain in English each step, and show your Python code of each step."
   ]
  },
  {
   "cell_type": "markdown",
   "metadata": {},
   "source": [
    "### Step 1: Clean up the data for this objective"
   ]
  },
  {
   "cell_type": "code",
   "execution_count": 16,
   "metadata": {},
   "outputs": [
    {
     "data": {
      "text/html": [
       "<div>\n",
       "<style scoped>\n",
       "    .dataframe tbody tr th:only-of-type {\n",
       "        vertical-align: middle;\n",
       "    }\n",
       "\n",
       "    .dataframe tbody tr th {\n",
       "        vertical-align: top;\n",
       "    }\n",
       "\n",
       "    .dataframe thead th {\n",
       "        text-align: right;\n",
       "    }\n",
       "</style>\n",
       "<table border=\"1\" class=\"dataframe\">\n",
       "  <thead>\n",
       "    <tr style=\"text-align: right;\">\n",
       "      <th></th>\n",
       "      <th>Year</th>\n",
       "      <th>Sex</th>\n",
       "      <th>Race_Ethnicity</th>\n",
       "      <th>Value</th>\n",
       "      <th>Place</th>\n",
       "    </tr>\n",
       "  </thead>\n",
       "  <tbody>\n",
       "    <tr>\n",
       "      <th>12322</th>\n",
       "      <td>2014</td>\n",
       "      <td>Both</td>\n",
       "      <td>All</td>\n",
       "      <td>8491079.0</td>\n",
       "      <td>New York City, NY</td>\n",
       "    </tr>\n",
       "    <tr>\n",
       "      <th>12264</th>\n",
       "      <td>2012</td>\n",
       "      <td>Both</td>\n",
       "      <td>All</td>\n",
       "      <td>3857786.0</td>\n",
       "      <td>Los Angeles, CA</td>\n",
       "    </tr>\n",
       "    <tr>\n",
       "      <th>12339</th>\n",
       "      <td>2015</td>\n",
       "      <td>Both</td>\n",
       "      <td>All</td>\n",
       "      <td>1034070.0</td>\n",
       "      <td>Charlotte, NC</td>\n",
       "    </tr>\n",
       "    <tr>\n",
       "      <th>12374</th>\n",
       "      <td>2016</td>\n",
       "      <td>Both</td>\n",
       "      <td>All</td>\n",
       "      <td>1567872.0</td>\n",
       "      <td>Philadelphia, PA</td>\n",
       "    </tr>\n",
       "    <tr>\n",
       "      <th>12292</th>\n",
       "      <td>2013</td>\n",
       "      <td>Both</td>\n",
       "      <td>All</td>\n",
       "      <td>316128839.0</td>\n",
       "      <td>U.S. Total, U.S. Total</td>\n",
       "    </tr>\n",
       "  </tbody>\n",
       "</table>\n",
       "</div>"
      ],
      "text/plain": [
       "       Year   Sex Race_Ethnicity        Value                   Place\n",
       "12322  2014  Both            All    8491079.0       New York City, NY\n",
       "12264  2012  Both            All    3857786.0         Los Angeles, CA\n",
       "12339  2015  Both            All    1034070.0           Charlotte, NC\n",
       "12374  2016  Both            All    1567872.0        Philadelphia, PA\n",
       "12292  2013  Both            All  316128839.0  U.S. Total, U.S. Total"
      ]
     },
     "execution_count": 16,
     "metadata": {},
     "output_type": "execute_result"
    }
   ],
   "source": [
    "pop = df.loc[df['Indicator'] == 'Total Population (People)']\n",
    "pop = pop[['Year', 'Sex', 'Race_Ethnicity', 'Value', 'Place']]\n",
    "pop.sample(5)"
   ]
  },
  {
   "cell_type": "code",
   "execution_count": 17,
   "metadata": {},
   "outputs": [
    {
     "name": "stdout",
     "output_type": "stream",
     "text": [
      "[2010 2011 2012 2013 2014 2015 2016 2018 2017]\n",
      "[2012 2013 2014 2015 2016]\n"
     ]
    }
   ],
   "source": [
    "print(df['Year'].unique())\n",
    "print(pop['Year'].unique())"
   ]
  },
  {
   "cell_type": "markdown",
   "metadata": {},
   "source": [
    "No total population data exists for the following years:\n",
    "* 2010\n",
    "* 2011\n",
    "* 2017\n",
    "* 2018"
   ]
  },
  {
   "cell_type": "code",
   "execution_count": 18,
   "metadata": {},
   "outputs": [
    {
     "name": "stdout",
     "output_type": "stream",
     "text": [
      "['Both']\n",
      "['All']\n"
     ]
    }
   ],
   "source": [
    "print(pop['Sex'].unique())\n",
    "print(pop['Race_Ethnicity'].unique())"
   ]
  },
  {
   "cell_type": "markdown",
   "metadata": {},
   "source": [
    "Note that the indicator \"Total Population (People)\" only has values of \"Both\" for \"Sex\" and values of \"All\" for \"Race_Ethnicity\". Therefore, we can drop these two columns, since they do not provide any useful information."
   ]
  },
  {
   "cell_type": "code",
   "execution_count": 19,
   "metadata": {},
   "outputs": [],
   "source": [
    "pop = pop.drop(columns=['Sex', 'Race_Ethnicity'])"
   ]
  },
  {
   "cell_type": "code",
   "execution_count": 20,
   "metadata": {},
   "outputs": [
    {
     "data": {
      "text/html": [
       "<div>\n",
       "<style scoped>\n",
       "    .dataframe tbody tr th:only-of-type {\n",
       "        vertical-align: middle;\n",
       "    }\n",
       "\n",
       "    .dataframe tbody tr th {\n",
       "        vertical-align: top;\n",
       "    }\n",
       "\n",
       "    .dataframe thead th {\n",
       "        text-align: right;\n",
       "    }\n",
       "</style>\n",
       "<table border=\"1\" class=\"dataframe\">\n",
       "  <thead>\n",
       "    <tr style=\"text-align: right;\">\n",
       "      <th></th>\n",
       "      <th>Year</th>\n",
       "      <th>Value</th>\n",
       "      <th>Place</th>\n",
       "    </tr>\n",
       "  </thead>\n",
       "  <tbody>\n",
       "    <tr>\n",
       "      <th>12377</th>\n",
       "      <td>2016</td>\n",
       "      <td>2155664.0</td>\n",
       "      <td>Las Vegas (Clark County), NV</td>\n",
       "    </tr>\n",
       "    <tr>\n",
       "      <th>12334</th>\n",
       "      <td>2015</td>\n",
       "      <td>684443.0</td>\n",
       "      <td>Seattle, WA</td>\n",
       "    </tr>\n",
       "    <tr>\n",
       "      <th>12304</th>\n",
       "      <td>2014</td>\n",
       "      <td>776712.0</td>\n",
       "      <td>Portland (Multnomah County), OR</td>\n",
       "    </tr>\n",
       "    <tr>\n",
       "      <th>12335</th>\n",
       "      <td>2015</td>\n",
       "      <td>790294.0</td>\n",
       "      <td>Portland (Multnomah County), OR</td>\n",
       "    </tr>\n",
       "    <tr>\n",
       "      <th>12352</th>\n",
       "      <td>2015</td>\n",
       "      <td>3971896.0</td>\n",
       "      <td>Los Angeles, CA</td>\n",
       "    </tr>\n",
       "  </tbody>\n",
       "</table>\n",
       "</div>"
      ],
      "text/plain": [
       "       Year      Value                            Place\n",
       "12377  2016  2155664.0     Las Vegas (Clark County), NV\n",
       "12334  2015   684443.0                      Seattle, WA\n",
       "12304  2014   776712.0  Portland (Multnomah County), OR\n",
       "12335  2015   790294.0  Portland (Multnomah County), OR\n",
       "12352  2015  3971896.0                  Los Angeles, CA"
      ]
     },
     "execution_count": 20,
     "metadata": {},
     "output_type": "execute_result"
    }
   ],
   "source": [
    "pop.sample(5)"
   ]
  },
  {
   "cell_type": "markdown",
   "metadata": {},
   "source": [
    "Now, let's create a dataframe that has the \"Place\" values as indices and has, for each place, the average total population across the years for that place. "
   ]
  },
  {
   "cell_type": "code",
   "execution_count": 21,
   "metadata": {},
   "outputs": [],
   "source": [
    "pop = pd.pivot_table(pop, values='Value', index=['Place'], aggfunc=np.mean)"
   ]
  },
  {
   "cell_type": "code",
   "execution_count": 22,
   "metadata": {},
   "outputs": [
    {
     "data": {
      "text/html": [
       "<div>\n",
       "<style scoped>\n",
       "    .dataframe tbody tr th:only-of-type {\n",
       "        vertical-align: middle;\n",
       "    }\n",
       "\n",
       "    .dataframe tbody tr th {\n",
       "        vertical-align: top;\n",
       "    }\n",
       "\n",
       "    .dataframe thead th {\n",
       "        text-align: right;\n",
       "    }\n",
       "</style>\n",
       "<table border=\"1\" class=\"dataframe\">\n",
       "  <thead>\n",
       "    <tr style=\"text-align: right;\">\n",
       "      <th></th>\n",
       "      <th>Value</th>\n",
       "    </tr>\n",
       "    <tr>\n",
       "      <th>Place</th>\n",
       "      <th></th>\n",
       "    </tr>\n",
       "  </thead>\n",
       "  <tbody>\n",
       "    <tr>\n",
       "      <th>Minneapolis, MN</th>\n",
       "      <td>404942.2</td>\n",
       "    </tr>\n",
       "    <tr>\n",
       "      <th>Houston, TX</th>\n",
       "      <td>2240574.4</td>\n",
       "    </tr>\n",
       "    <tr>\n",
       "      <th>Baltimore, MD</th>\n",
       "      <td>620550.4</td>\n",
       "    </tr>\n",
       "    <tr>\n",
       "      <th>Las Vegas (Clark County), NV</th>\n",
       "      <td>2073754.6</td>\n",
       "    </tr>\n",
       "    <tr>\n",
       "      <th>San Francisco, CA</th>\n",
       "      <td>850295.4</td>\n",
       "    </tr>\n",
       "  </tbody>\n",
       "</table>\n",
       "</div>"
      ],
      "text/plain": [
       "                                  Value\n",
       "Place                                  \n",
       "Minneapolis, MN                404942.2\n",
       "Houston, TX                   2240574.4\n",
       "Baltimore, MD                  620550.4\n",
       "Las Vegas (Clark County), NV  2073754.6\n",
       "San Francisco, CA              850295.4"
      ]
     },
     "execution_count": 22,
     "metadata": {},
     "output_type": "execute_result"
    }
   ],
   "source": [
    "pop.sample(5)"
   ]
  },
  {
   "cell_type": "markdown",
   "metadata": {},
   "source": [
    "Sort the data so that the most populated cities are at the top of the data frame and the least populated cities are at the bottom."
   ]
  },
  {
   "cell_type": "code",
   "execution_count": 23,
   "metadata": {},
   "outputs": [],
   "source": [
    "pop = pop.sort_values(by=['Value'], ascending=False)"
   ]
  },
  {
   "cell_type": "code",
   "execution_count": 24,
   "metadata": {},
   "outputs": [
    {
     "data": {
      "text/html": [
       "<div>\n",
       "<style scoped>\n",
       "    .dataframe tbody tr th:only-of-type {\n",
       "        vertical-align: middle;\n",
       "    }\n",
       "\n",
       "    .dataframe tbody tr th {\n",
       "        vertical-align: top;\n",
       "    }\n",
       "\n",
       "    .dataframe thead th {\n",
       "        text-align: right;\n",
       "    }\n",
       "</style>\n",
       "<table border=\"1\" class=\"dataframe\">\n",
       "  <thead>\n",
       "    <tr style=\"text-align: right;\">\n",
       "      <th></th>\n",
       "      <th>Value</th>\n",
       "    </tr>\n",
       "    <tr>\n",
       "      <th>Place</th>\n",
       "      <th></th>\n",
       "    </tr>\n",
       "  </thead>\n",
       "  <tbody>\n",
       "    <tr>\n",
       "      <th>U.S. Total, U.S. Total</th>\n",
       "      <td>318689254.2</td>\n",
       "    </tr>\n",
       "    <tr>\n",
       "      <th>New York City, NY</th>\n",
       "      <td>8464338.2</td>\n",
       "    </tr>\n",
       "    <tr>\n",
       "      <th>Los Angeles, CA</th>\n",
       "      <td>3923834.6</td>\n",
       "    </tr>\n",
       "    <tr>\n",
       "      <th>San Diego County, CA</th>\n",
       "      <td>3253803.2</td>\n",
       "    </tr>\n",
       "    <tr>\n",
       "      <th>Chicago, Il</th>\n",
       "      <td>2716312.2</td>\n",
       "    </tr>\n",
       "  </tbody>\n",
       "</table>\n",
       "</div>"
      ],
      "text/plain": [
       "                              Value\n",
       "Place                              \n",
       "U.S. Total, U.S. Total  318689254.2\n",
       "New York City, NY         8464338.2\n",
       "Los Angeles, CA           3923834.6\n",
       "San Diego County, CA      3253803.2\n",
       "Chicago, Il               2716312.2"
      ]
     },
     "execution_count": 24,
     "metadata": {},
     "output_type": "execute_result"
    }
   ],
   "source": [
    "pop.head()"
   ]
  },
  {
   "cell_type": "markdown",
   "metadata": {},
   "source": [
    "We do not need the value \"U.S. Total, U.S. Total\", so let's get rid of it."
   ]
  },
  {
   "cell_type": "code",
   "execution_count": 25,
   "metadata": {},
   "outputs": [],
   "source": [
    "pop = pop.drop(['U.S. Total, U.S. Total'])"
   ]
  },
  {
   "cell_type": "code",
   "execution_count": 26,
   "metadata": {},
   "outputs": [
    {
     "data": {
      "text/html": [
       "<div>\n",
       "<style scoped>\n",
       "    .dataframe tbody tr th:only-of-type {\n",
       "        vertical-align: middle;\n",
       "    }\n",
       "\n",
       "    .dataframe tbody tr th {\n",
       "        vertical-align: top;\n",
       "    }\n",
       "\n",
       "    .dataframe thead th {\n",
       "        text-align: right;\n",
       "    }\n",
       "</style>\n",
       "<table border=\"1\" class=\"dataframe\">\n",
       "  <thead>\n",
       "    <tr style=\"text-align: right;\">\n",
       "      <th></th>\n",
       "      <th>Value</th>\n",
       "    </tr>\n",
       "    <tr>\n",
       "      <th>Place</th>\n",
       "      <th></th>\n",
       "    </tr>\n",
       "  </thead>\n",
       "  <tbody>\n",
       "    <tr>\n",
       "      <th>New York City, NY</th>\n",
       "      <td>8464338.2</td>\n",
       "    </tr>\n",
       "    <tr>\n",
       "      <th>Los Angeles, CA</th>\n",
       "      <td>3923834.6</td>\n",
       "    </tr>\n",
       "    <tr>\n",
       "      <th>San Diego County, CA</th>\n",
       "      <td>3253803.2</td>\n",
       "    </tr>\n",
       "    <tr>\n",
       "      <th>Chicago, Il</th>\n",
       "      <td>2716312.2</td>\n",
       "    </tr>\n",
       "    <tr>\n",
       "      <th>Miami (Miami-Dade County), FL</th>\n",
       "      <td>2655429.4</td>\n",
       "    </tr>\n",
       "  </tbody>\n",
       "</table>\n",
       "</div>"
      ],
      "text/plain": [
       "                                   Value\n",
       "Place                                   \n",
       "New York City, NY              8464338.2\n",
       "Los Angeles, CA                3923834.6\n",
       "San Diego County, CA           3253803.2\n",
       "Chicago, Il                    2716312.2\n",
       "Miami (Miami-Dade County), FL  2655429.4"
      ]
     },
     "execution_count": 26,
     "metadata": {},
     "output_type": "execute_result"
    }
   ],
   "source": [
    "pop.head()"
   ]
  },
  {
   "cell_type": "markdown",
   "metadata": {},
   "source": [
    "### Step 2: Find the 3 most populous cities and the 3 least populous cities"
   ]
  },
  {
   "cell_type": "markdown",
   "metadata": {},
   "source": [
    "pop.head(3) will give us the 3 most populous cities and pop.tail(3) will give us the 3 least populous cities."
   ]
  },
  {
   "cell_type": "code",
   "execution_count": 27,
   "metadata": {},
   "outputs": [
    {
     "data": {
      "text/html": [
       "<div>\n",
       "<style scoped>\n",
       "    .dataframe tbody tr th:only-of-type {\n",
       "        vertical-align: middle;\n",
       "    }\n",
       "\n",
       "    .dataframe tbody tr th {\n",
       "        vertical-align: top;\n",
       "    }\n",
       "\n",
       "    .dataframe thead th {\n",
       "        text-align: right;\n",
       "    }\n",
       "</style>\n",
       "<table border=\"1\" class=\"dataframe\">\n",
       "  <thead>\n",
       "    <tr style=\"text-align: right;\">\n",
       "      <th></th>\n",
       "      <th>Value</th>\n",
       "    </tr>\n",
       "    <tr>\n",
       "      <th>Place</th>\n",
       "      <th></th>\n",
       "    </tr>\n",
       "  </thead>\n",
       "  <tbody>\n",
       "    <tr>\n",
       "      <th>New York City, NY</th>\n",
       "      <td>8464338.2</td>\n",
       "    </tr>\n",
       "    <tr>\n",
       "      <th>Los Angeles, CA</th>\n",
       "      <td>3923834.6</td>\n",
       "    </tr>\n",
       "    <tr>\n",
       "      <th>San Diego County, CA</th>\n",
       "      <td>3253803.2</td>\n",
       "    </tr>\n",
       "  </tbody>\n",
       "</table>\n",
       "</div>"
      ],
      "text/plain": [
       "                          Value\n",
       "Place                          \n",
       "New York City, NY     8464338.2\n",
       "Los Angeles, CA       3923834.6\n",
       "San Diego County, CA  3253803.2"
      ]
     },
     "execution_count": 27,
     "metadata": {},
     "output_type": "execute_result"
    }
   ],
   "source": [
    "pop.head(3)"
   ]
  },
  {
   "cell_type": "code",
   "execution_count": 28,
   "metadata": {},
   "outputs": [
    {
     "data": {
      "text/html": [
       "<div>\n",
       "<style scoped>\n",
       "    .dataframe tbody tr th:only-of-type {\n",
       "        vertical-align: middle;\n",
       "    }\n",
       "\n",
       "    .dataframe tbody tr th {\n",
       "        vertical-align: top;\n",
       "    }\n",
       "\n",
       "    .dataframe thead th {\n",
       "        text-align: right;\n",
       "    }\n",
       "</style>\n",
       "<table border=\"1\" class=\"dataframe\">\n",
       "  <thead>\n",
       "    <tr style=\"text-align: right;\">\n",
       "      <th></th>\n",
       "      <th>Value</th>\n",
       "    </tr>\n",
       "    <tr>\n",
       "      <th>Place</th>\n",
       "      <th></th>\n",
       "    </tr>\n",
       "  </thead>\n",
       "  <tbody>\n",
       "    <tr>\n",
       "      <th>Oakland (Alameda County), CA</th>\n",
       "      <td>412003.0</td>\n",
       "    </tr>\n",
       "    <tr>\n",
       "      <th>Minneapolis, MN</th>\n",
       "      <td>404942.2</td>\n",
       "    </tr>\n",
       "    <tr>\n",
       "      <th>Cleveland, OH</th>\n",
       "      <td>388884.4</td>\n",
       "    </tr>\n",
       "  </tbody>\n",
       "</table>\n",
       "</div>"
      ],
      "text/plain": [
       "                                 Value\n",
       "Place                                 \n",
       "Oakland (Alameda County), CA  412003.0\n",
       "Minneapolis, MN               404942.2\n",
       "Cleveland, OH                 388884.4"
      ]
     },
     "execution_count": 28,
     "metadata": {},
     "output_type": "execute_result"
    }
   ],
   "source": [
    "pop.tail(3)"
   ]
  },
  {
   "cell_type": "code",
   "execution_count": 29,
   "metadata": {},
   "outputs": [
    {
     "data": {
      "text/html": [
       "<div>\n",
       "<style scoped>\n",
       "    .dataframe tbody tr th:only-of-type {\n",
       "        vertical-align: middle;\n",
       "    }\n",
       "\n",
       "    .dataframe tbody tr th {\n",
       "        vertical-align: top;\n",
       "    }\n",
       "\n",
       "    .dataframe thead th {\n",
       "        text-align: right;\n",
       "    }\n",
       "</style>\n",
       "<table border=\"1\" class=\"dataframe\">\n",
       "  <thead>\n",
       "    <tr style=\"text-align: right;\">\n",
       "      <th></th>\n",
       "      <th>Value</th>\n",
       "    </tr>\n",
       "    <tr>\n",
       "      <th>Place</th>\n",
       "      <th></th>\n",
       "    </tr>\n",
       "  </thead>\n",
       "  <tbody>\n",
       "    <tr>\n",
       "      <th>New York City, NY</th>\n",
       "      <td>8464338.2</td>\n",
       "    </tr>\n",
       "    <tr>\n",
       "      <th>Los Angeles, CA</th>\n",
       "      <td>3923834.6</td>\n",
       "    </tr>\n",
       "    <tr>\n",
       "      <th>San Diego County, CA</th>\n",
       "      <td>3253803.2</td>\n",
       "    </tr>\n",
       "    <tr>\n",
       "      <th>Oakland (Alameda County), CA</th>\n",
       "      <td>412003.0</td>\n",
       "    </tr>\n",
       "    <tr>\n",
       "      <th>Minneapolis, MN</th>\n",
       "      <td>404942.2</td>\n",
       "    </tr>\n",
       "    <tr>\n",
       "      <th>Cleveland, OH</th>\n",
       "      <td>388884.4</td>\n",
       "    </tr>\n",
       "  </tbody>\n",
       "</table>\n",
       "</div>"
      ],
      "text/plain": [
       "                                  Value\n",
       "Place                                  \n",
       "New York City, NY             8464338.2\n",
       "Los Angeles, CA               3923834.6\n",
       "San Diego County, CA          3253803.2\n",
       "Oakland (Alameda County), CA   412003.0\n",
       "Minneapolis, MN                404942.2\n",
       "Cleveland, OH                  388884.4"
      ]
     },
     "execution_count": 29,
     "metadata": {},
     "output_type": "execute_result"
    }
   ],
   "source": [
    "cities = pop.head(3).append(pop.tail(3))\n",
    "cities"
   ]
  },
  {
   "cell_type": "code",
   "execution_count": 30,
   "metadata": {},
   "outputs": [],
   "source": [
    "cities = cities.index.values"
   ]
  },
  {
   "cell_type": "code",
   "execution_count": 31,
   "metadata": {},
   "outputs": [
    {
     "data": {
      "text/plain": [
       "array(['New York City, NY', 'Los Angeles, CA', 'San Diego County, CA',\n",
       "       'Oakland (Alameda County), CA', 'Minneapolis, MN', 'Cleveland, OH'],\n",
       "      dtype=object)"
      ]
     },
     "execution_count": 31,
     "metadata": {},
     "output_type": "execute_result"
    }
   ],
   "source": [
    "cities"
   ]
  },
  {
   "cell_type": "code",
   "execution_count": 32,
   "metadata": {},
   "outputs": [
    {
     "data": {
      "text/plain": [
       "numpy.ndarray"
      ]
     },
     "execution_count": 32,
     "metadata": {},
     "output_type": "execute_result"
    }
   ],
   "source": [
    "type(cities)"
   ]
  },
  {
   "cell_type": "markdown",
   "metadata": {},
   "source": [
    "\"cities\" is a numpy array containing our 6 cities of interest. We will use this array in Step 3."
   ]
  },
  {
   "cell_type": "markdown",
   "metadata": {},
   "source": [
    "### Step 3: Visualize the suicide rate of some specific race in these 6 cities"
   ]
  },
  {
   "cell_type": "code",
   "execution_count": 33,
   "metadata": {},
   "outputs": [
    {
     "data": {
      "text/html": [
       "<div>\n",
       "<style scoped>\n",
       "    .dataframe tbody tr th:only-of-type {\n",
       "        vertical-align: middle;\n",
       "    }\n",
       "\n",
       "    .dataframe tbody tr th {\n",
       "        vertical-align: top;\n",
       "    }\n",
       "\n",
       "    .dataframe thead th {\n",
       "        text-align: right;\n",
       "    }\n",
       "</style>\n",
       "<table border=\"1\" class=\"dataframe\">\n",
       "  <thead>\n",
       "    <tr style=\"text-align: right;\">\n",
       "      <th></th>\n",
       "      <th>Year</th>\n",
       "      <th>Sex</th>\n",
       "      <th>Race_Ethnicity</th>\n",
       "      <th>Value</th>\n",
       "      <th>Place</th>\n",
       "    </tr>\n",
       "  </thead>\n",
       "  <tbody>\n",
       "    <tr>\n",
       "      <th>24420</th>\n",
       "      <td>2012</td>\n",
       "      <td>Female</td>\n",
       "      <td>All</td>\n",
       "      <td>3.9</td>\n",
       "      <td>Cleveland, OH</td>\n",
       "    </tr>\n",
       "    <tr>\n",
       "      <th>24933</th>\n",
       "      <td>2016</td>\n",
       "      <td>Male</td>\n",
       "      <td>All</td>\n",
       "      <td>28.2</td>\n",
       "      <td>Denver, CO</td>\n",
       "    </tr>\n",
       "    <tr>\n",
       "      <th>24860</th>\n",
       "      <td>2015</td>\n",
       "      <td>Male</td>\n",
       "      <td>All</td>\n",
       "      <td>19.0</td>\n",
       "      <td>Minneapolis, MN</td>\n",
       "    </tr>\n",
       "    <tr>\n",
       "      <th>24909</th>\n",
       "      <td>2016</td>\n",
       "      <td>Both</td>\n",
       "      <td>White</td>\n",
       "      <td>9.9</td>\n",
       "      <td>Minneapolis, MN</td>\n",
       "    </tr>\n",
       "    <tr>\n",
       "      <th>24796</th>\n",
       "      <td>2015</td>\n",
       "      <td>Both</td>\n",
       "      <td>Hispanic</td>\n",
       "      <td>4.8</td>\n",
       "      <td>San Diego County, CA</td>\n",
       "    </tr>\n",
       "  </tbody>\n",
       "</table>\n",
       "</div>"
      ],
      "text/plain": [
       "       Year     Sex Race_Ethnicity  Value                 Place\n",
       "24420  2012  Female            All    3.9         Cleveland, OH\n",
       "24933  2016    Male            All   28.2            Denver, CO\n",
       "24860  2015    Male            All   19.0       Minneapolis, MN\n",
       "24909  2016    Both          White    9.9       Minneapolis, MN\n",
       "24796  2015    Both       Hispanic    4.8  San Diego County, CA"
      ]
     },
     "execution_count": 33,
     "metadata": {},
     "output_type": "execute_result"
    }
   ],
   "source": [
    "suicide = df.loc[df['Indicator'] == 'Suicide Rate (Age-Adjusted; Per 100,000 people)']\n",
    "suicide = suicide[['Year', 'Sex', 'Race_Ethnicity', 'Value', 'Place']]\n",
    "suicide.sample(5)"
   ]
  },
  {
   "cell_type": "markdown",
   "metadata": {},
   "source": [
    "Create an array of boolean values in order to select only the data points relating to a city of interest."
   ]
  },
  {
   "cell_type": "code",
   "execution_count": 34,
   "metadata": {},
   "outputs": [],
   "source": [
    "boolean_selection = [False] * len(suicide)\n",
    "i = 0\n",
    "for index, row in suicide.iterrows():\n",
    "    if row['Place'] in cities:\n",
    "        boolean_selection[i] = True\n",
    "    i += 1"
   ]
  },
  {
   "cell_type": "code",
   "execution_count": 35,
   "metadata": {},
   "outputs": [],
   "source": [
    "suicide = suicide.loc[boolean_selection]"
   ]
  },
  {
   "cell_type": "code",
   "execution_count": 36,
   "metadata": {},
   "outputs": [
    {
     "data": {
      "text/plain": [
       "array(['Los Angeles, CA', 'Minneapolis, MN',\n",
       "       'Oakland (Alameda County), CA', 'Cleveland, OH',\n",
       "       'San Diego County, CA', 'New York City, NY'], dtype=object)"
      ]
     },
     "execution_count": 36,
     "metadata": {},
     "output_type": "execute_result"
    }
   ],
   "source": [
    "suicide['Place'].unique()"
   ]
  },
  {
   "cell_type": "markdown",
   "metadata": {},
   "source": [
    "The suicide dataframe contains only our 6 cities of interest."
   ]
  },
  {
   "cell_type": "markdown",
   "metadata": {},
   "source": [
    "Now, let's visualize the suicide rate of white people in these 6 cities."
   ]
  },
  {
   "cell_type": "code",
   "execution_count": 37,
   "metadata": {},
   "outputs": [],
   "source": [
    "suicide = suicide.loc[suicide['Race_Ethnicity'] == 'White']"
   ]
  },
  {
   "cell_type": "code",
   "execution_count": 38,
   "metadata": {},
   "outputs": [],
   "source": [
    "suicide = suicide.rename(columns={'Value':'Suicide Rate'})"
   ]
  },
  {
   "cell_type": "code",
   "execution_count": 39,
   "metadata": {},
   "outputs": [
    {
     "data": {
      "text/html": [
       "<div>\n",
       "<style scoped>\n",
       "    .dataframe tbody tr th:only-of-type {\n",
       "        vertical-align: middle;\n",
       "    }\n",
       "\n",
       "    .dataframe tbody tr th {\n",
       "        vertical-align: top;\n",
       "    }\n",
       "\n",
       "    .dataframe thead th {\n",
       "        text-align: right;\n",
       "    }\n",
       "</style>\n",
       "<table border=\"1\" class=\"dataframe\">\n",
       "  <thead>\n",
       "    <tr style=\"text-align: right;\">\n",
       "      <th></th>\n",
       "      <th>Year</th>\n",
       "      <th>Sex</th>\n",
       "      <th>Race_Ethnicity</th>\n",
       "      <th>Suicide Rate</th>\n",
       "      <th>Place</th>\n",
       "    </tr>\n",
       "  </thead>\n",
       "  <tbody>\n",
       "    <tr>\n",
       "      <th>24106</th>\n",
       "      <td>2010</td>\n",
       "      <td>Both</td>\n",
       "      <td>White</td>\n",
       "      <td>8.0</td>\n",
       "      <td>Minneapolis, MN</td>\n",
       "    </tr>\n",
       "    <tr>\n",
       "      <th>24392</th>\n",
       "      <td>2012</td>\n",
       "      <td>Both</td>\n",
       "      <td>White</td>\n",
       "      <td>10.6</td>\n",
       "      <td>Oakland (Alameda County), CA</td>\n",
       "    </tr>\n",
       "    <tr>\n",
       "      <th>24830</th>\n",
       "      <td>2015</td>\n",
       "      <td>Both</td>\n",
       "      <td>White</td>\n",
       "      <td>20.9</td>\n",
       "      <td>Oakland (Alameda County), CA</td>\n",
       "    </tr>\n",
       "    <tr>\n",
       "      <th>24399</th>\n",
       "      <td>2012</td>\n",
       "      <td>Both</td>\n",
       "      <td>White</td>\n",
       "      <td>16.2</td>\n",
       "      <td>Cleveland, OH</td>\n",
       "    </tr>\n",
       "    <tr>\n",
       "      <th>24705</th>\n",
       "      <td>2014</td>\n",
       "      <td>Both</td>\n",
       "      <td>White</td>\n",
       "      <td>17.7</td>\n",
       "      <td>San Diego County, CA</td>\n",
       "    </tr>\n",
       "  </tbody>\n",
       "</table>\n",
       "</div>"
      ],
      "text/plain": [
       "       Year   Sex Race_Ethnicity  Suicide Rate                         Place\n",
       "24106  2010  Both          White           8.0               Minneapolis, MN\n",
       "24392  2012  Both          White          10.6  Oakland (Alameda County), CA\n",
       "24830  2015  Both          White          20.9  Oakland (Alameda County), CA\n",
       "24399  2012  Both          White          16.2                 Cleveland, OH\n",
       "24705  2014  Both          White          17.7          San Diego County, CA"
      ]
     },
     "execution_count": 39,
     "metadata": {},
     "output_type": "execute_result"
    }
   ],
   "source": [
    "suicide.sample(5)"
   ]
  },
  {
   "cell_type": "code",
   "execution_count": 40,
   "metadata": {},
   "outputs": [],
   "source": [
    "sns.set(rc={'figure.figsize':(18, 9)})"
   ]
  },
  {
   "cell_type": "code",
   "execution_count": 41,
   "metadata": {},
   "outputs": [
    {
     "data": {
      "text/plain": [
       "<matplotlib.axes._subplots.AxesSubplot at 0x7f5c7159bfd0>"
      ]
     },
     "execution_count": 41,
     "metadata": {},
     "output_type": "execute_result"
    },
    {
     "data": {
      "image/png": "[encoded data removed]",
      "text/plain": [
       "<Figure size 1296x648 with 1 Axes>"
      ]
     },
     "metadata": {},
     "output_type": "display_data"
    }
   ],
   "source": [
    "sns.barplot(x='Place', y='Suicide Rate', hue='Year', data=suicide)"
   ]
  },
  {
   "cell_type": "code",
   "execution_count": 42,
   "metadata": {},
   "outputs": [
    {
     "data": {
      "text/plain": [
       "<matplotlib.axes._subplots.AxesSubplot at 0x7f5c710daef0>"
      ]
     },
     "execution_count": 42,
     "metadata": {},
     "output_type": "execute_result"
    },
    {
     "data": {
      "image/png": "[encoded data removed]",
      "text/plain": [
       "<Figure size 1296x648 with 1 Axes>"
      ]
     },
     "metadata": {},
     "output_type": "display_data"
    }
   ],
   "source": [
    "sns.barplot(x='Year', y='Suicide Rate', hue='Place', data=suicide)"
   ]
  }
 ],
 "metadata": {
  "anaconda-cloud": {},
  "kernelspec": {
   "display_name": "Python 3",
   "language": "python",
   "name": "python3"
  },
  "language_info": {
   "codemirror_mode": {
    "name": "ipython",
    "version": 3
   },
   "file_extension": ".py",
   "mimetype": "text/x-python",
   "name": "python",
   "nbconvert_exporter": "python",
   "pygments_lexer": "ipython3",
   "version": "3.7.3"
  }
 },
 "nbformat": 4,
 "nbformat_minor": 2
}
