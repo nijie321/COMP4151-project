{
 "cells": [
  {
   "cell_type": "code",
   "execution_count": 29,
   "metadata": {},
   "outputs": [
    {
     "data": {
      "text/plain": [
       "<seaborn.axisgrid.FacetGrid at 0x7faf64329278>"
      ]
     },
     "execution_count": 29,
     "metadata": {},
     "output_type": "execute_result"
    },
    {
     "data": {
      "image/png": "[encoded data removed]",
      "text/plain": [
       "<Figure size 360x360 with 1 Axes>"
      ]
     },
     "metadata": {
      "needs_background": "light"
     },
     "output_type": "display_data"
    }
   ],
   "source": [
    "import pandas\n",
    "\n",
    "data = []\n",
    "\n",
    "with open(\"USA.Mx_1x1.txt\", 'r') as fp:\n",
    "    # skip header lines\n",
    "    next(fp)\n",
    "    next(fp)\n",
    "    next(fp)\n",
    "    for line in fp:\n",
    "        splits = line.split()\n",
    "        if (splits[1] == '110+'):\n",
    "            splits[1] = \"110\"\n",
    "        cv = (int(splits[0]), int(splits[1]), float(splits[2]), float(splits[3]), float(splits[4]))\n",
    "        data.append(cv)\n",
    "        \n",
    "\n",
    "df = pandas.DataFrame(data, columns=['Year','Age','Female','Male','Both'])\n",
    "\n",
    "infant = df[df['Age'] == 50]\n",
    "infant.head()\n",
    "\n",
    "import seaborn\n",
    "\n",
    "seaborn.relplot(x=\"Year\", y=\"Both\", data=infant)"
   ]
  },
  {
   "cell_type": "code",
   "execution_count": null,
   "metadata": {},
   "outputs": [],
   "source": []
  }
 ],
 "metadata": {
  "kernelspec": {
   "display_name": "Python 3",
   "language": "python",
   "name": "python3"
  },
  "language_info": {
   "codemirror_mode": {
    "name": "ipython",
    "version": 3
   },
   "file_extension": ".py",
   "mimetype": "text/x-python",
   "name": "python",
   "nbconvert_exporter": "python",
   "pygments_lexer": "ipython3",
   "version": "3.7.3"
  }
 },
 "nbformat": 4,
 "nbformat_minor": 2
}
