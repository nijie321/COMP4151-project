{
 "cells": [
  {
   "cell_type": "markdown",
   "metadata": {},
   "source": [
    "# COMP 4151 - Project Report 1\n"
   ]
  },
  {
   "cell_type": "markdown",
   "metadata": {},
   "source": [
    "## Group member: Jie Ni, Michael Porter, Bennett Poorman"
   ]
  },
  {
   "cell_type": "markdown",
   "metadata": {},
   "source": [
    "**Note**: \n",
    "\n",
    "- All work in this assignment must be done, created, originated from each student. \n",
    "- All external assistance must be explicitly mentioned and cited. \n",
    "- Using work done by others without explicit citation is considered cheating. \n",
    "- A student will receive a zero grade on the assignment for cheating. \n",
    "- Repeated offence will lead to additional consequences."
   ]
  },
  {
   "cell_type": "markdown",
   "metadata": {},
   "source": [
    "This assignment focuses on the first phase of the project.  The dataset can be obtained here: https://umdrive.memphis.edu/vphan/public/4151/BCHI-dataset_2019-03-04.csv\n",
    "\n",
    "Give comprehensive answers to these questions, as much as, possible.  When you answer a question, your answer should be in English. At the same time, if applicable, the answer should consist Python code that shows how you obtain your answer.  People should be able to read and understand your answer without guessing on your behalf how to get the answer.\n",
    "\n",
    "1. What is the Indicator attribute?\n",
    "2. How many categories of Indicator are there?\n",
    "3. Explain the \"Value\" value of row 26382 in this dataset.\n",
    "4. Explain the \"Value\" value of row 7833.\n",
    "5. Explain the \"Value\" value of row 10682.  What does it mean that the \"Sex\" value is \"Both\"?\n",
    "6. Explain the \"Value\" value of row 26701.\n",
    "7. Specifically, which factors does the indicator category 'Social and Economic Factors' consist of?\n",
    "8. Visualize (e.g. with seaborn) the suicide rate of some specific race in the 3 most populous and 3 least populous cities over the period of the seven years.  Explain in English each step, and show your Python code of each step."
   ]
  },
  {
   "cell_type": "markdown",
   "metadata": {},
   "source": [
    "\n",
    "Assume **data** = **pandas.read_csv(\"https://umdrive.memphis.edu/vphan/public/4151/BCHI-dataset_2019-03-04.csv\")**\n",
    "\n",
    "\n",
    "### 1. What is the Indicator attribute?\n",
    "\n",
    "+ The indicator attribute specifies what attribute of the population is being measured for a given data point.\n",
    "\n",
    "### 2. How many categories of Indicator are there?\n",
    "\n",
    "\n",
    "> Flowing python codes return the value of 'Indicator Category' and 'Indicator' columns respectively.\n",
    "\n",
    "```python\n",
    "\n",
    "data['Indicator Category']\n",
    "\n",
    "data['Indicator']\n",
    "\n",
    "```\n",
    "\n",
    "> Using the below python codes, we can find that there are 13 unique 'Indicator Category' and 61 unique 'Indicator' and, from this information, we also know that a particular one or more 'Indicator' fall (can be described) in  'Indicator Category'.\n",
    "\n",
    "```python\n",
    "data['Indicator Category'].nunique() # output -> 13\n",
    "data['Indicator'].nunique() # output -> 61\n",
    "```\n",
    "\n",
    "\n",
    "### 3. Explain the \"Value\" value of row 26382 in this dataset.\n",
    "\n",
    "\n",
    "```python\n",
    "data.iloc[[26382]] # returns the 26382th record as a dataframe\n",
    "# As explained in the \"BCHC Requested Methodology\" column, the value represents the rate of death of infant per 1000 live births.\n",
    "\n",
    "data.iloc[[26382],5]\n",
    "# Taking in consideration of columns 'Year', 'Race/Ethnicity', 'Value', 'Place', 'BCHC Requested Methodology', this particular record convey the message: the rate of death for infant at birth is about 2 per 1000 (2/1000) for Asian population in 2010, Denver, CO.\n",
    "```\n",
    "\n",
    "### 4. Explain the \"Value\" value of row 7833.\n",
    "\n",
    "```python\n",
    "data.iloc[[7833]] # returns the 7833th record as a dataframe\n",
    "# As explained in the \"BCHC Requested Methodology\" column, the value represents the percentage of adults who meets \"CDC-Recommended Physical Activity Levels\".\n",
    "\n",
    "data.iloc[[7833],5]\n",
    "# Taking in consideration of columns 'Year', 'Race/Ethnicity', 'Value', 'Place', 'BCHC Requested Methodology', this particular record convey the message: the percentage of physical activity for Hispanic adult population of 2011, in Oakland (Alameda County), CA, is about 44.2%.\n",
    "```\n",
    "\n",
    "### 5. Explain the \"Value\" value of row 10682. What does it mean that the \"Sex\" value is \"Both\"?\n",
    "\n",
    "```python\n",
    "data.iloc[[10682]] # returns the 10682th recird as a dataframe\n",
    "# As explained in the \"BCHC Requested Methodology\" column, the value represents the percentage of population with a disability \"(including hearing, vision, cognitive, ambulatory, self-care, or independent living difficulties\")\"\n",
    "\n",
    "data.iloc[[10682],5]\n",
    "# Taking in considering of columns 'Year', 'Race/Ethnicity', 'Value', 'Place', 'BCHC Requested Methodology', this particular record convey the message: In 2016, the percentage Hispanic population, in Los Angeles, CA, is about 8.9%.\n",
    "```\n",
    "\n",
    "> The value of \"Both\" in the \"Sex\" column means that both gender (Male and Female) are taking into account.\n",
    "\n",
    "### 6. Explain the \"Value\" value of row 26701.\n",
    "\n",
    "```python\n",
    "data.iloc[[26701]] # returns the 26701th recird as a dataframe\n",
    "# This is same as the answer from question #3.\n",
    "\n",
    "data.iloc[[26701],5]\n",
    "# Taking in considering of columns 'Year', 'Race/Ethnicity', 'Value', 'Place', 'BCHC Requested Methodology', this particular record convey the message: the rate of death for infant at birth is about 5 per 1000 (5/1000) for White population in 2012, San Antonio, TX.\n",
    "```\n",
    "\n",
    "### 7. Specifically, which factors does the indicator category 'Social and Economic Factors' consist of?\n",
    "\n",
    "```python\n",
    "data.loc[data['Indicator Category'] == \"Social and Economic Factors\", 'Indicator'].unique()\n",
    "\n",
    "# Below is the output\n",
    "\n",
    "# [\n",
    "#        'Median Household Income (Dollars)',\n",
    "#        'Percent Living Below 200% Poverty Level',\n",
    "#        'Percent of 3 and 4 Year Olds Currently Enrolled in Preschool',\n",
    "#        'Percent of Children Living in Poverty',\n",
    "#        'Percent of High School Graduates (Over Age 18)',\n",
    "#        'Percent of Households Whose Housing Costs Exceed 35% of Income',\n",
    "#        'Percent of Population Uninsured', 'Percent Unemployed'\n",
    "# ]\n",
    "\n",
    "```\n",
    "\n",
    "### 8. Visualize (e.g. with seaborn) the suicide rate of some specific race in the 3 most populous and 3 least populous cities over the period of the seven years. Explain in English each step, and show your Python code of each step.\n",
    "\n",
    "```python\n",
    "exclude_place = 'U.S. Total, U.S. Total'\n",
    "population_data = data[(data['Indicator'] == 'Total Population (People)') & (data['Place'] != exclude_place)]\n",
    "\n",
    "suicide_data = data[(data['Indicator'] == \"Suicide Rate (Age-Adjusted; Per 100,000 people)\") & (data['Place'] != exclude_place)]\n",
    "\n",
    "# merge two data (suicide and population) together based on (year, sex, race/ethnicity, and place)\n",
    "# then sort the value by year and population (both ascending) and get the top 3 value after group it by year.\n",
    "# this will give us the 3 least populous cities from period [2012 to 2016] \n",
    "#(Note that some years were excluded because some data was missing in the \"Indicator\" column and we match two data frame by year, sex(\"both\"), race/ethnicity, and place)\n",
    "least_populous_data = pd.merge(population_data,suicide_data, on=['Year','Sex','Race/Ethnicity','Place'], suffixes=(\"_pop\",\"_suicide\")).sort_values(by=['Year','Value_pop'],ascending=[True,True]).groupby(\"Year\").head(3)\n",
    "\n",
    "# similarily, the data for 3 most populous cities on different time period\n",
    "most_populous_data = pd.merge(population_data,suicide_data, on=['Year','Sex','Race/Ethnicity','Place'], suffixes=(\"_pop\",\"_suicide\")).sort_values(by=['Year','Value_pop'],ascending=[True,False]).groupby(\"Year\").head(3)\n",
    "\n",
    "\n",
    "import seaborn as sns\n",
    "import matplotlib.pyplot as plt\n",
    "sns.set(style=\"whitegrid\")\n",
    "\n",
    "# the order of city population is ascending (from left to right: less populous to more populous)\n",
    "fig, axes = plt.subplots(5,figsize=(10,10))\n",
    "j = 0\n",
    "for year in least_populous_data['Year'].unique():\n",
    "    sns.barplot(x='Place',y='Value_suicide',data=least_populous_data[least_populous_data['Year']==year],ax=axes[j])\n",
    "    j += 1\n",
    "    \n",
    "# the order of city population is descending (from left to right: more populous to less populous)\n",
    "fig, axes = plt.subplots(5,figsize=(10,10))\n",
    "j = 0\n",
    "for year in most_populous_data['Year'].unique():\n",
    "    sns.barplot(x='Place',y='Value_suicide',data=most_populous_data[most_populous_data['Year']==year],ax=axes[j])\n",
    "    j += 1\n",
    "```\n"
   ]
  },
  {
   "cell_type": "markdown",
   "metadata": {},
   "source": [
    "# COMP 4151 - Project Report 2"
   ]
  },
  {
   "cell_type": "markdown",
   "metadata": {},
   "source": [
    "### Hypothesis testing and model evaluation\n",
    "> In part two of our project report, we will try different models on the hypothesis that we came up with. We will use regression models to test our hypothesis since our goal is to predict obesity rate (continuous data).\n",
    "\n",
    "#### Following are three main steps we follow\n",
    "+ First, each member in the team pose a hypothesis that he think might contribute to obesity rate.\n",
    "+ Second, we use the regression methods that we learned in class to fit our data\n",
    "+ Third, we evaluate our model (regressors because the variable of interest is continuous) and show the result.\n",
    "\n",
    "#### Following are the models that we will be using to fit\n",
    "+ Decision Tree Regressor\n",
    "+ Random Forest Regressor\n",
    "+ Linear Regression\n",
    "+ Lasso Regression\n",
    "+ Ridge Regression\n",
    "+ K nearest neighbor regressor\n",
    "+ Support Vector Regressor\n",
    "\n",
    "\n",
    "### Our Hypothesis\n",
    "\n",
    "+ There exists a positive linear relationship between disability rate and obesity rate. In other word, higher disability rates correlates with higher obesity rates.\n",
    "+ There exists a linear relationship between smoking and obesity.\n",
    "+ There exists a linear relationship between income and obesity"
   ]
  },
  {
   "cell_type": "markdown",
   "metadata": {},
   "source": [
    "# Disability V.S. Obesity (Bennett Poorman)"
   ]
  },
  {
   "cell_type": "code",
   "execution_count": 490,
   "metadata": {},
   "outputs": [],
   "source": [
    "import pandas as pd\n",
    "import seaborn as sns"
   ]
  },
  {
   "cell_type": "code",
   "execution_count": 491,
   "metadata": {},
   "outputs": [],
   "source": [
    "data_src = 'dataset/BCHI-dataset_2019-03-04.csv'\n",
    "df = pd.read_csv(data_src) \\\n",
    "       .rename(columns={'Race/Ethnicity': 'Race_Ethnicity'})"
   ]
  },
  {
   "cell_type": "code",
   "execution_count": 492,
   "metadata": {},
   "outputs": [],
   "source": [
    "obese_adult = df.loc[df['Indicator'] == 'Percent of Adults Who Are Obese'] \\\n",
    "                .rename(columns={'Value': 'Obesity_Rate'})\n",
    "\n",
    "obese_hs = df.loc[df['Indicator'] == 'Percent of High School Students Who Are Obese'] \\\n",
    "             .rename(columns={'Value': 'Obesity_Rate'})\n",
    "\n",
    "disabled = df.loc[df['Indicator'] == 'Percent of Population with a Disability'] \\\n",
    "             .rename(columns={'Value': 'Disability_Rate'})"
   ]
  },
  {
   "cell_type": "code",
   "execution_count": 493,
   "metadata": {},
   "outputs": [],
   "source": [
    "obese_adult =  obese_adult[['Year', 'Sex', 'Race_Ethnicity', 'Place', 'Obesity_Rate']]\n",
    "obese_hs = obese_hs[['Year', 'Sex', 'Race_Ethnicity', 'Place', 'Obesity_Rate']]\n",
    "disabled = disabled[['Year', 'Sex', 'Race_Ethnicity', 'Place', 'Disability_Rate']]\n",
    "\n",
    "obese_adult = obese_adult.dropna()\n",
    "obese_hs = obese_hs.dropna()\n",
    "disabled = disabled.dropna()\n",
    "\n",
    "obese_adult['Status'] = 'Adult'\n",
    "obese_hs['Status'] = 'HS Student'\n",
    "\n",
    "obese_all = pd.concat([obese_adult, obese_hs])\n",
    "\n",
    "obese_all = obese_all[['Year', 'Sex', 'Race_Ethnicity', 'Place', 'Status', 'Obesity_Rate']]\n",
    "\n",
    "obese_adult = obese_adult.drop(columns=['Status'])\n",
    "obese_hs = obese_hs.drop(columns=['Status'])"
   ]
  },
  {
   "cell_type": "code",
   "execution_count": 494,
   "metadata": {},
   "outputs": [
    {
     "data": {
      "text/html": [
       "<div>\n",
       "<style scoped>\n",
       "    .dataframe tbody tr th:only-of-type {\n",
       "        vertical-align: middle;\n",
       "    }\n",
       "\n",
       "    .dataframe tbody tr th {\n",
       "        vertical-align: top;\n",
       "    }\n",
       "\n",
       "    .dataframe thead th {\n",
       "        text-align: right;\n",
       "    }\n",
       "</style>\n",
       "<table border=\"1\" class=\"dataframe\">\n",
       "  <thead>\n",
       "    <tr style=\"text-align: right;\">\n",
       "      <th></th>\n",
       "      <th>Year</th>\n",
       "      <th>Sex</th>\n",
       "      <th>Race_Ethnicity</th>\n",
       "      <th>Place</th>\n",
       "      <th>Obesity_Rate</th>\n",
       "      <th>Disability_Rate</th>\n",
       "    </tr>\n",
       "  </thead>\n",
       "  <tbody>\n",
       "    <tr>\n",
       "      <td>286</td>\n",
       "      <td>2015</td>\n",
       "      <td>Both</td>\n",
       "      <td>All</td>\n",
       "      <td>San Francisco, CA</td>\n",
       "      <td>18.4</td>\n",
       "      <td>10.5</td>\n",
       "    </tr>\n",
       "    <tr>\n",
       "      <td>322</td>\n",
       "      <td>2015</td>\n",
       "      <td>Both</td>\n",
       "      <td>Other</td>\n",
       "      <td>San Diego County, CA</td>\n",
       "      <td>24.5</td>\n",
       "      <td>6.8</td>\n",
       "    </tr>\n",
       "    <tr>\n",
       "      <td>52</td>\n",
       "      <td>2012</td>\n",
       "      <td>Both</td>\n",
       "      <td>Other</td>\n",
       "      <td>Detroit, MI</td>\n",
       "      <td>43.2</td>\n",
       "      <td>7.9</td>\n",
       "    </tr>\n",
       "  </tbody>\n",
       "</table>\n",
       "</div>"
      ],
      "text/plain": [
       "     Year   Sex Race_Ethnicity                 Place  Obesity_Rate  \\\n",
       "286  2015  Both            All     San Francisco, CA          18.4   \n",
       "322  2015  Both          Other  San Diego County, CA          24.5   \n",
       "52   2012  Both          Other           Detroit, MI          43.2   \n",
       "\n",
       "     Disability_Rate  \n",
       "286             10.5  \n",
       "322              6.8  \n",
       "52               7.9  "
      ]
     },
     "execution_count": 494,
     "metadata": {},
     "output_type": "execute_result"
    }
   ],
   "source": [
    "obese_disabled_adult = obese_adult.merge(disabled)\n",
    "obese_disabled_adult.sample(3)"
   ]
  },
  {
   "cell_type": "code",
   "execution_count": 495,
   "metadata": {},
   "outputs": [
    {
     "data": {
      "text/html": [
       "<div>\n",
       "<style scoped>\n",
       "    .dataframe tbody tr th:only-of-type {\n",
       "        vertical-align: middle;\n",
       "    }\n",
       "\n",
       "    .dataframe tbody tr th {\n",
       "        vertical-align: top;\n",
       "    }\n",
       "\n",
       "    .dataframe thead th {\n",
       "        text-align: right;\n",
       "    }\n",
       "</style>\n",
       "<table border=\"1\" class=\"dataframe\">\n",
       "  <thead>\n",
       "    <tr style=\"text-align: right;\">\n",
       "      <th></th>\n",
       "      <th>Year</th>\n",
       "      <th>Sex</th>\n",
       "      <th>Race_Ethnicity</th>\n",
       "      <th>Place</th>\n",
       "      <th>Obesity_Rate</th>\n",
       "      <th>Disability_Rate</th>\n",
       "    </tr>\n",
       "  </thead>\n",
       "  <tbody>\n",
       "    <tr>\n",
       "      <td>135</td>\n",
       "      <td>2015</td>\n",
       "      <td>Both</td>\n",
       "      <td>White</td>\n",
       "      <td>U.S. Total, U.S. Total</td>\n",
       "      <td>12.4</td>\n",
       "      <td>13.6</td>\n",
       "    </tr>\n",
       "    <tr>\n",
       "      <td>68</td>\n",
       "      <td>2013</td>\n",
       "      <td>Female</td>\n",
       "      <td>All</td>\n",
       "      <td>Boston, MA</td>\n",
       "      <td>12.7</td>\n",
       "      <td>12.2</td>\n",
       "    </tr>\n",
       "    <tr>\n",
       "      <td>31</td>\n",
       "      <td>2013</td>\n",
       "      <td>Both</td>\n",
       "      <td>Black</td>\n",
       "      <td>Los Angeles, CA</td>\n",
       "      <td>13.7</td>\n",
       "      <td>16.0</td>\n",
       "    </tr>\n",
       "  </tbody>\n",
       "</table>\n",
       "</div>"
      ],
      "text/plain": [
       "     Year     Sex Race_Ethnicity                   Place  Obesity_Rate  \\\n",
       "135  2015    Both          White  U.S. Total, U.S. Total          12.4   \n",
       "68   2013  Female            All              Boston, MA          12.7   \n",
       "31   2013    Both          Black         Los Angeles, CA          13.7   \n",
       "\n",
       "     Disability_Rate  \n",
       "135             13.6  \n",
       "68              12.2  \n",
       "31              16.0  "
      ]
     },
     "execution_count": 495,
     "metadata": {},
     "output_type": "execute_result"
    }
   ],
   "source": [
    "obese_disabled_hs = obese_hs.merge(disabled)\n",
    "obese_disabled_hs.sample(3)"
   ]
  },
  {
   "cell_type": "code",
   "execution_count": 496,
   "metadata": {},
   "outputs": [
    {
     "data": {
      "text/html": [
       "<div>\n",
       "<style scoped>\n",
       "    .dataframe tbody tr th:only-of-type {\n",
       "        vertical-align: middle;\n",
       "    }\n",
       "\n",
       "    .dataframe tbody tr th {\n",
       "        vertical-align: top;\n",
       "    }\n",
       "\n",
       "    .dataframe thead th {\n",
       "        text-align: right;\n",
       "    }\n",
       "</style>\n",
       "<table border=\"1\" class=\"dataframe\">\n",
       "  <thead>\n",
       "    <tr style=\"text-align: right;\">\n",
       "      <th></th>\n",
       "      <th>Year</th>\n",
       "      <th>Sex</th>\n",
       "      <th>Race_Ethnicity</th>\n",
       "      <th>Place</th>\n",
       "      <th>Status</th>\n",
       "      <th>Obesity_Rate</th>\n",
       "    </tr>\n",
       "  </thead>\n",
       "  <tbody>\n",
       "    <tr>\n",
       "      <td>8182</td>\n",
       "      <td>2011</td>\n",
       "      <td>Both</td>\n",
       "      <td>Asian/PI</td>\n",
       "      <td>Philadelphia, PA</td>\n",
       "      <td>HS Student</td>\n",
       "      <td>8.6</td>\n",
       "    </tr>\n",
       "    <tr>\n",
       "      <td>7143</td>\n",
       "      <td>2015</td>\n",
       "      <td>Male</td>\n",
       "      <td>All</td>\n",
       "      <td>Columbus, OH</td>\n",
       "      <td>Adult</td>\n",
       "      <td>37.6</td>\n",
       "    </tr>\n",
       "    <tr>\n",
       "      <td>8224</td>\n",
       "      <td>2011</td>\n",
       "      <td>Male</td>\n",
       "      <td>All</td>\n",
       "      <td>Boston, MA</td>\n",
       "      <td>HS Student</td>\n",
       "      <td>14.4</td>\n",
       "    </tr>\n",
       "  </tbody>\n",
       "</table>\n",
       "</div>"
      ],
      "text/plain": [
       "      Year   Sex Race_Ethnicity             Place      Status  Obesity_Rate\n",
       "8182  2011  Both       Asian/PI  Philadelphia, PA  HS Student           8.6\n",
       "7143  2015  Male            All      Columbus, OH       Adult          37.6\n",
       "8224  2011  Male            All        Boston, MA  HS Student          14.4"
      ]
     },
     "execution_count": 496,
     "metadata": {},
     "output_type": "execute_result"
    }
   ],
   "source": [
    "obese_all.sample(3)"
   ]
  },
  {
   "cell_type": "code",
   "execution_count": 497,
   "metadata": {},
   "outputs": [
    {
     "data": {
      "text/html": [
       "<div>\n",
       "<style scoped>\n",
       "    .dataframe tbody tr th:only-of-type {\n",
       "        vertical-align: middle;\n",
       "    }\n",
       "\n",
       "    .dataframe tbody tr th {\n",
       "        vertical-align: top;\n",
       "    }\n",
       "\n",
       "    .dataframe thead th {\n",
       "        text-align: right;\n",
       "    }\n",
       "</style>\n",
       "<table border=\"1\" class=\"dataframe\">\n",
       "  <thead>\n",
       "    <tr style=\"text-align: right;\">\n",
       "      <th></th>\n",
       "      <th>Year</th>\n",
       "      <th>Sex</th>\n",
       "      <th>Race_Ethnicity</th>\n",
       "      <th>Place</th>\n",
       "      <th>Disability_Rate</th>\n",
       "    </tr>\n",
       "  </thead>\n",
       "  <tbody>\n",
       "    <tr>\n",
       "      <td>10109</td>\n",
       "      <td>2014</td>\n",
       "      <td>Both</td>\n",
       "      <td>Hispanic</td>\n",
       "      <td>Seattle, WA</td>\n",
       "      <td>7.6</td>\n",
       "    </tr>\n",
       "    <tr>\n",
       "      <td>10567</td>\n",
       "      <td>2016</td>\n",
       "      <td>Both</td>\n",
       "      <td>All</td>\n",
       "      <td>San Diego County, CA</td>\n",
       "      <td>10.1</td>\n",
       "    </tr>\n",
       "    <tr>\n",
       "      <td>10741</td>\n",
       "      <td>2016</td>\n",
       "      <td>Both</td>\n",
       "      <td>Other</td>\n",
       "      <td>U.S. Total, U.S. Total</td>\n",
       "      <td>8.3</td>\n",
       "    </tr>\n",
       "  </tbody>\n",
       "</table>\n",
       "</div>"
      ],
      "text/plain": [
       "       Year   Sex Race_Ethnicity                   Place  Disability_Rate\n",
       "10109  2014  Both       Hispanic             Seattle, WA              7.6\n",
       "10567  2016  Both            All    San Diego County, CA             10.1\n",
       "10741  2016  Both          Other  U.S. Total, U.S. Total              8.3"
      ]
     },
     "execution_count": 497,
     "metadata": {},
     "output_type": "execute_result"
    }
   ],
   "source": [
    "disabled.sample(3)"
   ]
  },
  {
   "cell_type": "code",
   "execution_count": 498,
   "metadata": {},
   "outputs": [
    {
     "data": {
      "text/html": [
       "<div>\n",
       "<style scoped>\n",
       "    .dataframe tbody tr th:only-of-type {\n",
       "        vertical-align: middle;\n",
       "    }\n",
       "\n",
       "    .dataframe tbody tr th {\n",
       "        vertical-align: top;\n",
       "    }\n",
       "\n",
       "    .dataframe thead th {\n",
       "        text-align: right;\n",
       "    }\n",
       "</style>\n",
       "<table border=\"1\" class=\"dataframe\">\n",
       "  <thead>\n",
       "    <tr style=\"text-align: right;\">\n",
       "      <th></th>\n",
       "      <th>Year</th>\n",
       "      <th>Sex</th>\n",
       "      <th>Race_Ethnicity</th>\n",
       "      <th>Place</th>\n",
       "      <th>Status</th>\n",
       "      <th>Obesity_Rate</th>\n",
       "      <th>Disability_Rate</th>\n",
       "    </tr>\n",
       "  </thead>\n",
       "  <tbody>\n",
       "    <tr>\n",
       "      <td>386</td>\n",
       "      <td>2015</td>\n",
       "      <td>Both</td>\n",
       "      <td>Black</td>\n",
       "      <td>Denver, CO</td>\n",
       "      <td>HS Student</td>\n",
       "      <td>12.6</td>\n",
       "      <td>13.2</td>\n",
       "    </tr>\n",
       "    <tr>\n",
       "      <td>105</td>\n",
       "      <td>2013</td>\n",
       "      <td>Both</td>\n",
       "      <td>All</td>\n",
       "      <td>San Francisco, CA</td>\n",
       "      <td>HS Student</td>\n",
       "      <td>7.7</td>\n",
       "      <td>10.6</td>\n",
       "    </tr>\n",
       "    <tr>\n",
       "      <td>417</td>\n",
       "      <td>2015</td>\n",
       "      <td>Both</td>\n",
       "      <td>White</td>\n",
       "      <td>Seattle, WA</td>\n",
       "      <td>Adult</td>\n",
       "      <td>15.7</td>\n",
       "      <td>8.9</td>\n",
       "    </tr>\n",
       "  </tbody>\n",
       "</table>\n",
       "</div>"
      ],
      "text/plain": [
       "     Year   Sex Race_Ethnicity              Place      Status  Obesity_Rate  \\\n",
       "386  2015  Both          Black         Denver, CO  HS Student          12.6   \n",
       "105  2013  Both            All  San Francisco, CA  HS Student           7.7   \n",
       "417  2015  Both          White        Seattle, WA       Adult          15.7   \n",
       "\n",
       "     Disability_Rate  \n",
       "386             13.2  \n",
       "105             10.6  \n",
       "417              8.9  "
      ]
     },
     "execution_count": 498,
     "metadata": {},
     "output_type": "execute_result"
    }
   ],
   "source": [
    "obese_disabled_all = obese_all.merge(disabled)\n",
    "obese_disabled_all.sample(3)"
   ]
  },
  {
   "cell_type": "code",
   "execution_count": 499,
   "metadata": {},
   "outputs": [
    {
     "data": {
      "text/plain": [
       "<seaborn.axisgrid.FacetGrid at 0x7f5c64a4bc50>"
      ]
     },
     "execution_count": 499,
     "metadata": {},
     "output_type": "execute_result"
    },
    {
     "data": {
      "image/png": "[encoded data removed]",
      "text/plain": [
       "<Figure size 360x360 with 1 Axes>"
      ]
     },
     "metadata": {},
     "output_type": "display_data"
    }
   ],
   "source": [
    "sns.relplot(x='Disability_Rate', y='Obesity_Rate', data=obese_disabled_adult)"
   ]
  },
  {
   "cell_type": "code",
   "execution_count": 500,
   "metadata": {},
   "outputs": [
    {
     "data": {
      "text/html": [
       "<div>\n",
       "<style scoped>\n",
       "    .dataframe tbody tr th:only-of-type {\n",
       "        vertical-align: middle;\n",
       "    }\n",
       "\n",
       "    .dataframe tbody tr th {\n",
       "        vertical-align: top;\n",
       "    }\n",
       "\n",
       "    .dataframe thead th {\n",
       "        text-align: right;\n",
       "    }\n",
       "</style>\n",
       "<table border=\"1\" class=\"dataframe\">\n",
       "  <thead>\n",
       "    <tr style=\"text-align: right;\">\n",
       "      <th></th>\n",
       "      <th>Obesity_Rate</th>\n",
       "      <th>Disability_Rate</th>\n",
       "    </tr>\n",
       "  </thead>\n",
       "  <tbody>\n",
       "    <tr>\n",
       "      <td>Obesity_Rate</td>\n",
       "      <td>1.000000</td>\n",
       "      <td>0.578036</td>\n",
       "    </tr>\n",
       "    <tr>\n",
       "      <td>Disability_Rate</td>\n",
       "      <td>0.578036</td>\n",
       "      <td>1.000000</td>\n",
       "    </tr>\n",
       "  </tbody>\n",
       "</table>\n",
       "</div>"
      ],
      "text/plain": [
       "                 Obesity_Rate  Disability_Rate\n",
       "Obesity_Rate         1.000000         0.578036\n",
       "Disability_Rate      0.578036         1.000000"
      ]
     },
     "execution_count": 500,
     "metadata": {},
     "output_type": "execute_result"
    }
   ],
   "source": [
    "obese_disabled_adult[['Obesity_Rate', 'Disability_Rate']].corr()"
   ]
  },
  {
   "cell_type": "code",
   "execution_count": 501,
   "metadata": {},
   "outputs": [
    {
     "data": {
      "text/plain": [
       "<seaborn.axisgrid.FacetGrid at 0x7f5c64ab3150>"
      ]
     },
     "execution_count": 501,
     "metadata": {},
     "output_type": "execute_result"
    },
    {
     "data": {
      "image/png": "[encoded data removed]",
      "text/plain": [
       "<Figure size 360x360 with 1 Axes>"
      ]
     },
     "metadata": {},
     "output_type": "display_data"
    }
   ],
   "source": [
    "sns.relplot(x='Disability_Rate', y='Obesity_Rate', data=obese_disabled_hs)"
   ]
  },
  {
   "cell_type": "code",
   "execution_count": 502,
   "metadata": {},
   "outputs": [
    {
     "data": {
      "text/html": [
       "<div>\n",
       "<style scoped>\n",
       "    .dataframe tbody tr th:only-of-type {\n",
       "        vertical-align: middle;\n",
       "    }\n",
       "\n",
       "    .dataframe tbody tr th {\n",
       "        vertical-align: top;\n",
       "    }\n",
       "\n",
       "    .dataframe thead th {\n",
       "        text-align: right;\n",
       "    }\n",
       "</style>\n",
       "<table border=\"1\" class=\"dataframe\">\n",
       "  <thead>\n",
       "    <tr style=\"text-align: right;\">\n",
       "      <th></th>\n",
       "      <th>Obesity_Rate</th>\n",
       "      <th>Disability_Rate</th>\n",
       "    </tr>\n",
       "  </thead>\n",
       "  <tbody>\n",
       "    <tr>\n",
       "      <td>Obesity_Rate</td>\n",
       "      <td>1.000000</td>\n",
       "      <td>0.376346</td>\n",
       "    </tr>\n",
       "    <tr>\n",
       "      <td>Disability_Rate</td>\n",
       "      <td>0.376346</td>\n",
       "      <td>1.000000</td>\n",
       "    </tr>\n",
       "  </tbody>\n",
       "</table>\n",
       "</div>"
      ],
      "text/plain": [
       "                 Obesity_Rate  Disability_Rate\n",
       "Obesity_Rate         1.000000         0.376346\n",
       "Disability_Rate      0.376346         1.000000"
      ]
     },
     "execution_count": 502,
     "metadata": {},
     "output_type": "execute_result"
    }
   ],
   "source": [
    "obese_disabled_hs[['Obesity_Rate', 'Disability_Rate']].corr()"
   ]
  },
  {
   "cell_type": "code",
   "execution_count": 503,
   "metadata": {},
   "outputs": [
    {
     "data": {
      "text/plain": [
       "<seaborn.axisgrid.FacetGrid at 0x7f5c6485c710>"
      ]
     },
     "execution_count": 503,
     "metadata": {},
     "output_type": "execute_result"
    },
    {
     "data": {
      "image/png": "[encoded data removed]",
      "text/plain": [
       "<Figure size 360x360 with 1 Axes>"
      ]
     },
     "metadata": {},
     "output_type": "display_data"
    }
   ],
   "source": [
    "sns.relplot(x='Disability_Rate', y='Obesity_Rate', data=obese_disabled_all)"
   ]
  },
  {
   "cell_type": "code",
   "execution_count": 504,
   "metadata": {},
   "outputs": [
    {
     "data": {
      "text/html": [
       "<div>\n",
       "<style scoped>\n",
       "    .dataframe tbody tr th:only-of-type {\n",
       "        vertical-align: middle;\n",
       "    }\n",
       "\n",
       "    .dataframe tbody tr th {\n",
       "        vertical-align: top;\n",
       "    }\n",
       "\n",
       "    .dataframe thead th {\n",
       "        text-align: right;\n",
       "    }\n",
       "</style>\n",
       "<table border=\"1\" class=\"dataframe\">\n",
       "  <thead>\n",
       "    <tr style=\"text-align: right;\">\n",
       "      <th></th>\n",
       "      <th>Obesity_Rate</th>\n",
       "      <th>Disability_Rate</th>\n",
       "    </tr>\n",
       "  </thead>\n",
       "  <tbody>\n",
       "    <tr>\n",
       "      <td>Obesity_Rate</td>\n",
       "      <td>1.000000</td>\n",
       "      <td>0.405618</td>\n",
       "    </tr>\n",
       "    <tr>\n",
       "      <td>Disability_Rate</td>\n",
       "      <td>0.405618</td>\n",
       "      <td>1.000000</td>\n",
       "    </tr>\n",
       "  </tbody>\n",
       "</table>\n",
       "</div>"
      ],
      "text/plain": [
       "                 Obesity_Rate  Disability_Rate\n",
       "Obesity_Rate         1.000000         0.405618\n",
       "Disability_Rate      0.405618         1.000000"
      ]
     },
     "execution_count": 504,
     "metadata": {},
     "output_type": "execute_result"
    }
   ],
   "source": [
    "obese_disabled_all[['Obesity_Rate', 'Disability_Rate']].corr()"
   ]
  },
  {
   "cell_type": "code",
   "execution_count": 505,
   "metadata": {},
   "outputs": [
    {
     "data": {
      "text/plain": [
       "<seaborn.axisgrid.FacetGrid at 0x7f5c6481b890>"
      ]
     },
     "execution_count": 505,
     "metadata": {},
     "output_type": "execute_result"
    },
    {
     "data": {
      "image/png": "[encoded data removed]",
      "text/plain": [
       "<Figure size 455.975x360 with 1 Axes>"
      ]
     },
     "metadata": {},
     "output_type": "display_data"
    }
   ],
   "source": [
    "sns.relplot(x='Disability_Rate', y='Obesity_Rate', hue='Status', data=obese_disabled_all)"
   ]
  },
  {
   "cell_type": "code",
   "execution_count": 506,
   "metadata": {},
   "outputs": [],
   "source": [
    "from sklearn.model_selection import cross_validate, ShuffleSplit, train_test_split\n",
    "from sklearn.tree import DecisionTreeRegressor\n",
    "from sklearn.ensemble import RandomForestRegressor\n",
    "from sklearn.linear_model import LinearRegression, Lasso, Ridge\n",
    "from sklearn.svm import SVR"
   ]
  },
  {
   "cell_type": "code",
   "execution_count": 507,
   "metadata": {},
   "outputs": [],
   "source": [
    "adult_obesity_rate_X = obese_disabled_adult[['Obesity_Rate']]\n",
    "hs_obesity_rate_X = obese_disabled_hs[['Obesity_Rate']]\n",
    "all_obesity_rate_X = obese_disabled_all[['Obesity_Rate']]\n",
    "\n",
    "adult_obesity_rate_y = obese_disabled_adult['Obesity_Rate']\n",
    "hs_obesity_rate_y = obese_disabled_hs['Obesity_Rate']\n",
    "all_obesity_rate_y = obese_disabled_all['Obesity_Rate']\n",
    "\n",
    "adult_disability_rate_X = obese_disabled_adult[['Disability_Rate']]\n",
    "hs_disability_rate_X = obese_disabled_hs[['Disability_Rate']]\n",
    "all_disability_rate_X = obese_disabled_all[['Disability_Rate']]\n",
    "\n",
    "adult_disability_rate_y = obese_disabled_adult['Disability_Rate']\n",
    "hs_disability_rate_y = obese_disabled_hs['Disability_Rate']\n",
    "all_disability_rate_y = obese_disabled_all['Disability_Rate']\n",
    "\n",
    "cv = ShuffleSplit(n_splits=50)"
   ]
  },
  {
   "cell_type": "code",
   "execution_count": 508,
   "metadata": {},
   "outputs": [],
   "source": [
    "dtr = DecisionTreeRegressor()\n",
    "rfr = RandomForestRegressor(n_estimators=100)\n",
    "lr = LinearRegression()\n",
    "lasso = Lasso()\n",
    "ridge = Ridge()\n",
    "svm_lin = SVR(kernel='linear', gamma='auto')\n",
    "svm_poly = SVR(kernel='poly', degree=2, gamma='auto')"
   ]
  },
  {
   "cell_type": "code",
   "execution_count": 509,
   "metadata": {},
   "outputs": [],
   "source": [
    "def evaluate(model):\n",
    "    score = round(cross_validate(model, adult_disability_rate_X, adult_obesity_rate_y, scoring='r2', cv=cv)['test_score'].mean(), 2)\n",
    "    print('X = Disability Rate, y = Adult Obesity Rate, score = ', score)\n",
    "    score = round(cross_validate(model, adult_obesity_rate_X, adult_disability_rate_y, scoring='r2', cv=cv)['test_score'].mean(), 2)\n",
    "    print('X = Adult Obesity Rate, y = Disability Rate, score = ', score)\n",
    "    score = round(cross_validate(model, hs_disability_rate_X, hs_obesity_rate_y, scoring='r2', cv=cv)['test_score'].mean(), 2)\n",
    "    print('X = Disability Rate, y = HS Obesity Rate, score = ', score)\n",
    "    score = round(cross_validate(model, hs_obesity_rate_X, hs_disability_rate_y, scoring='r2', cv=cv)['test_score'].mean(), 2)\n",
    "    print('X = HS Obesity Rate, y = Disability Rate, score = ', score)\n",
    "    score = round(cross_validate(model, all_disability_rate_X, all_obesity_rate_y, scoring='r2', cv=cv)['test_score'].mean(), 2)\n",
    "    print('X = Disability Rate, y = All Obesity Rate, score = ', score)\n",
    "    score = round(cross_validate(model, all_obesity_rate_X, all_disability_rate_y, scoring='r2', cv=cv)['test_score'].mean(), 2)\n",
    "    print('X = All Obesity Rate, y = Disability Rate, score = ', score)"
   ]
  },
  {
   "cell_type": "code",
   "execution_count": 510,
   "metadata": {},
   "outputs": [
    {
     "name": "stdout",
     "output_type": "stream",
     "text": [
      "Decision Tree Regressor Scores:\n",
      "X = Disability Rate, y = Adult Obesity Rate, score =  0.13\n",
      "X = Adult Obesity Rate, y = Disability Rate, score =  -0.08\n",
      "X = Disability Rate, y = HS Obesity Rate, score =  -0.76\n",
      "X = HS Obesity Rate, y = Disability Rate, score =  -0.75\n",
      "X = Disability Rate, y = All Obesity Rate, score =  -0.11\n",
      "X = All Obesity Rate, y = Disability Rate, score =  -0.43\n"
     ]
    }
   ],
   "source": [
    "print('Decision Tree Regressor Scores:')\n",
    "evaluate(dtr)"
   ]
  },
  {
   "cell_type": "code",
   "execution_count": 511,
   "metadata": {},
   "outputs": [
    {
     "name": "stdout",
     "output_type": "stream",
     "text": [
      "Random Forest Regressor Scores:\n",
      "X = Disability Rate, y = Adult Obesity Rate, score =  0.23\n",
      "X = Adult Obesity Rate, y = Disability Rate, score =  0.07\n",
      "X = Disability Rate, y = HS Obesity Rate, score =  -0.19\n",
      "X = HS Obesity Rate, y = Disability Rate, score =  -0.44\n",
      "X = Disability Rate, y = All Obesity Rate, score =  -0.06\n",
      "X = All Obesity Rate, y = Disability Rate, score =  -0.11\n"
     ]
    }
   ],
   "source": [
    "print('Random Forest Regressor Scores:')\n",
    "evaluate(rfr)"
   ]
  },
  {
   "cell_type": "code",
   "execution_count": 512,
   "metadata": {},
   "outputs": [
    {
     "name": "stdout",
     "output_type": "stream",
     "text": [
      "Linear Regression Scores:\n",
      "X = Disability Rate, y = Adult Obesity Rate, score =  0.29\n",
      "X = Adult Obesity Rate, y = Disability Rate, score =  0.31\n",
      "X = Disability Rate, y = HS Obesity Rate, score =  0.09\n",
      "X = HS Obesity Rate, y = Disability Rate, score =  0.01\n",
      "X = Disability Rate, y = All Obesity Rate, score =  0.13\n",
      "X = All Obesity Rate, y = Disability Rate, score =  0.15\n"
     ]
    }
   ],
   "source": [
    "print('Linear Regression Scores:')\n",
    "evaluate(lr)"
   ]
  },
  {
   "cell_type": "code",
   "execution_count": 513,
   "metadata": {},
   "outputs": [
    {
     "name": "stdout",
     "output_type": "stream",
     "text": [
      "Lasso Scores:\n",
      "X = Disability Rate, y = Adult Obesity Rate, score =  0.29\n",
      "X = Adult Obesity Rate, y = Disability Rate, score =  0.3\n",
      "X = Disability Rate, y = HS Obesity Rate, score =  -0.0\n",
      "X = HS Obesity Rate, y = Disability Rate, score =  -0.01\n",
      "X = Disability Rate, y = All Obesity Rate, score =  0.15\n",
      "X = All Obesity Rate, y = Disability Rate, score =  0.15\n"
     ]
    }
   ],
   "source": [
    "print('Lasso Scores:')\n",
    "evaluate(lasso)"
   ]
  },
  {
   "cell_type": "code",
   "execution_count": 514,
   "metadata": {},
   "outputs": [
    {
     "name": "stdout",
     "output_type": "stream",
     "text": [
      "Ridge Scores:\n",
      "X = Disability Rate, y = Adult Obesity Rate, score =  0.31\n",
      "X = Adult Obesity Rate, y = Disability Rate, score =  0.29\n",
      "X = Disability Rate, y = HS Obesity Rate, score =  0.06\n",
      "X = HS Obesity Rate, y = Disability Rate, score =  -0.04\n",
      "X = Disability Rate, y = All Obesity Rate, score =  0.12\n",
      "X = All Obesity Rate, y = Disability Rate, score =  0.13\n"
     ]
    }
   ],
   "source": [
    "print('Ridge Scores:')\n",
    "evaluate(ridge)"
   ]
  },
  {
   "cell_type": "code",
   "execution_count": 515,
   "metadata": {},
   "outputs": [
    {
     "name": "stdout",
     "output_type": "stream",
     "text": [
      "Linear Support Vector Machine Scores:\n",
      "X = Disability Rate, y = Adult Obesity Rate, score =  0.31\n",
      "X = Adult Obesity Rate, y = Disability Rate, score =  0.28\n",
      "X = Disability Rate, y = HS Obesity Rate, score =  0.03\n",
      "X = HS Obesity Rate, y = Disability Rate, score =  0.03\n",
      "X = Disability Rate, y = All Obesity Rate, score =  0.13\n",
      "X = All Obesity Rate, y = Disability Rate, score =  0.11\n"
     ]
    }
   ],
   "source": [
    "print('Linear Support Vector Machine Scores:')\n",
    "evaluate(svm_lin)"
   ]
  },
  {
   "cell_type": "code",
   "execution_count": 516,
   "metadata": {},
   "outputs": [
    {
     "name": "stdout",
     "output_type": "stream",
     "text": [
      "Polynomial (Degree 2) Support Vector Machine Scores:\n",
      "X = Disability Rate, y = Adult Obesity Rate, score =  0.23\n",
      "X = Adult Obesity Rate, y = Disability Rate, score =  0.37\n",
      "X = Disability Rate, y = HS Obesity Rate, score =  0.14\n",
      "X = HS Obesity Rate, y = Disability Rate, score =  -0.07\n",
      "X = Disability Rate, y = All Obesity Rate, score =  0.05\n",
      "X = All Obesity Rate, y = Disability Rate, score =  0.16\n"
     ]
    }
   ],
   "source": [
    "model = svm_poly\n",
    "\n",
    "print('Polynomial (Degree 2) Support Vector Machine Scores:')\n",
    "\n",
    "X_train, X_test, y_train, y_test = train_test_split(adult_disability_rate_X, adult_obesity_rate_y, test_size=0.33)\n",
    "model.fit(X_train, y_train)\n",
    "score = round(model.score(X_test, y_test), 2)\n",
    "print('X = Disability Rate, y = Adult Obesity Rate, score = ', score)\n",
    "\n",
    "X_train, X_test, y_train, y_test = train_test_split(adult_obesity_rate_X, adult_disability_rate_y, test_size=0.33)\n",
    "model.fit(X_train, y_train)\n",
    "score = round(model.score(X_test, y_test), 2)\n",
    "print('X = Adult Obesity Rate, y = Disability Rate, score = ', score)\n",
    "\n",
    "X_train, X_test, y_train, y_test = train_test_split(hs_disability_rate_X, hs_obesity_rate_y, test_size=0.33)\n",
    "model.fit(X_train, y_train)\n",
    "score = round(model.score(X_test, y_test), 2)\n",
    "print('X = Disability Rate, y = HS Obesity Rate, score = ', score)\n",
    "\n",
    "X_train, X_test, y_train, y_test = train_test_split(hs_obesity_rate_X, hs_disability_rate_y, test_size=0.33)\n",
    "model.fit(X_train, y_train)\n",
    "score = round(model.score(X_test, y_test), 2)\n",
    "print('X = HS Obesity Rate, y = Disability Rate, score = ', score)\n",
    "\n",
    "X_train, X_test, y_train, y_test = train_test_split(all_disability_rate_X, all_obesity_rate_y, test_size=0.33)\n",
    "model.fit(X_train, y_train)\n",
    "score = round(model.score(X_test, y_test), 2)\n",
    "print('X = Disability Rate, y = All Obesity Rate, score = ', score)\n",
    "\n",
    "X_train, X_test, y_train, y_test = train_test_split(all_obesity_rate_X, all_disability_rate_y, test_size=0.33)\n",
    "model.fit(X_train, y_train)\n",
    "score = round(model.score(X_test, y_test), 2)\n",
    "print('X = All Obesity Rate, y = Disability Rate, score = ', score)"
   ]
  },
  {
   "cell_type": "code",
   "execution_count": 517,
   "metadata": {},
   "outputs": [
    {
     "name": "stdout",
     "output_type": "stream",
     "text": [
      "X = Disability Rate, y = Adult Obesity Rate, score =  0.38\n"
     ]
    }
   ],
   "source": [
    "model = SVR(kernel='linear')\n",
    "X_train, X_test, y_train, y_test = train_test_split(adult_disability_rate_X, adult_obesity_rate_y, test_size=0.33)\n",
    "model.fit(X_train, y_train)\n",
    "score = round(model.score(X_test, y_test), 2)\n",
    "print('X = Disability Rate, y = Adult Obesity Rate, score = ', score)"
   ]
  },
  {
   "cell_type": "code",
   "execution_count": 518,
   "metadata": {},
   "outputs": [],
   "source": [
    "ob_dis = obese_disabled_adult.copy(deep=True)\n",
    "ob_dis = ob_dis[['Year', 'Sex', 'Race_Ethnicity', 'Place', 'Disability_Rate', 'Obesity_Rate']]\n",
    "predictions = model.predict(ob_dis[['Disability_Rate']])\n",
    "ob_dis['Predicted_Obesity_Rate'] = predictions"
   ]
  },
  {
   "cell_type": "markdown",
   "metadata": {},
   "source": [
    "## Summary of Obesity/Disability Hypothesis"
   ]
  },
  {
   "cell_type": "code",
   "execution_count": 519,
   "metadata": {},
   "outputs": [
    {
     "data": {
      "text/html": [
       "<div>\n",
       "<style scoped>\n",
       "    .dataframe tbody tr th:only-of-type {\n",
       "        vertical-align: middle;\n",
       "    }\n",
       "\n",
       "    .dataframe tbody tr th {\n",
       "        vertical-align: top;\n",
       "    }\n",
       "\n",
       "    .dataframe thead th {\n",
       "        text-align: right;\n",
       "    }\n",
       "</style>\n",
       "<table border=\"1\" class=\"dataframe\">\n",
       "  <thead>\n",
       "    <tr style=\"text-align: right;\">\n",
       "      <th></th>\n",
       "      <th>Disability_Rate</th>\n",
       "    </tr>\n",
       "  </thead>\n",
       "  <tbody>\n",
       "    <tr>\n",
       "      <td>Obesity_Rate</td>\n",
       "      <td>0.578036</td>\n",
       "    </tr>\n",
       "  </tbody>\n",
       "</table>\n",
       "</div>"
      ],
      "text/plain": [
       "              Disability_Rate\n",
       "Obesity_Rate         0.578036"
      ]
     },
     "execution_count": 519,
     "metadata": {},
     "output_type": "execute_result"
    }
   ],
   "source": [
    "obese_disabled_adult.corr() \\\n",
    "                    .loc[['Obesity_Rate']] \\\n",
    "                    .drop(columns=['Year', 'Obesity_Rate'])"
   ]
  },
  {
   "cell_type": "code",
   "execution_count": 520,
   "metadata": {},
   "outputs": [
    {
     "data": {
      "text/html": [
       "<div>\n",
       "<style scoped>\n",
       "    .dataframe tbody tr th:only-of-type {\n",
       "        vertical-align: middle;\n",
       "    }\n",
       "\n",
       "    .dataframe tbody tr th {\n",
       "        vertical-align: top;\n",
       "    }\n",
       "\n",
       "    .dataframe thead th {\n",
       "        text-align: right;\n",
       "    }\n",
       "</style>\n",
       "<table border=\"1\" class=\"dataframe\">\n",
       "  <thead>\n",
       "    <tr style=\"text-align: right;\">\n",
       "      <th></th>\n",
       "      <th>Disability_Rate</th>\n",
       "    </tr>\n",
       "  </thead>\n",
       "  <tbody>\n",
       "    <tr>\n",
       "      <td>Obesity_Rate</td>\n",
       "      <td>0.376346</td>\n",
       "    </tr>\n",
       "  </tbody>\n",
       "</table>\n",
       "</div>"
      ],
      "text/plain": [
       "              Disability_Rate\n",
       "Obesity_Rate         0.376346"
      ]
     },
     "execution_count": 520,
     "metadata": {},
     "output_type": "execute_result"
    }
   ],
   "source": [
    "obese_disabled_hs.corr() \\\n",
    "                 .loc[['Obesity_Rate']] \\\n",
    "                 .drop(columns=['Year', 'Obesity_Rate'])"
   ]
  },
  {
   "cell_type": "code",
   "execution_count": 521,
   "metadata": {},
   "outputs": [
    {
     "data": {
      "text/html": [
       "<div>\n",
       "<style scoped>\n",
       "    .dataframe tbody tr th:only-of-type {\n",
       "        vertical-align: middle;\n",
       "    }\n",
       "\n",
       "    .dataframe tbody tr th {\n",
       "        vertical-align: top;\n",
       "    }\n",
       "\n",
       "    .dataframe thead th {\n",
       "        text-align: right;\n",
       "    }\n",
       "</style>\n",
       "<table border=\"1\" class=\"dataframe\">\n",
       "  <thead>\n",
       "    <tr style=\"text-align: right;\">\n",
       "      <th></th>\n",
       "      <th>Disability_Rate</th>\n",
       "    </tr>\n",
       "  </thead>\n",
       "  <tbody>\n",
       "    <tr>\n",
       "      <td>Obesity_Rate</td>\n",
       "      <td>0.405618</td>\n",
       "    </tr>\n",
       "  </tbody>\n",
       "</table>\n",
       "</div>"
      ],
      "text/plain": [
       "              Disability_Rate\n",
       "Obesity_Rate         0.405618"
      ]
     },
     "execution_count": 521,
     "metadata": {},
     "output_type": "execute_result"
    }
   ],
   "source": [
    "obese_disabled_all.corr() \\\n",
    "                  .loc[['Obesity_Rate']] \\\n",
    "                  .drop(columns=['Year', 'Obesity_Rate'])"
   ]
  },
  {
   "cell_type": "code",
   "execution_count": 522,
   "metadata": {},
   "outputs": [
    {
     "name": "stdout",
     "output_type": "stream",
     "text": [
      "X = Disability Rate, y = Adult Obesity Rate, score =  0.28\n",
      "X = Adult Obesity Rate, y = Disability Rate, score =  0.32\n",
      "X = Disability Rate, y = HS Obesity Rate, score =  0.04\n",
      "X = HS Obesity Rate, y = Disability Rate, score =  0.0\n",
      "X = Disability Rate, y = All Obesity Rate, score =  0.12\n",
      "X = All Obesity Rate, y = Disability Rate, score =  0.14\n"
     ]
    }
   ],
   "source": [
    "evaluate(SVR(kernel='linear'))"
   ]
  },
  {
   "cell_type": "markdown",
   "metadata": {},
   "source": [
    "**Hypothesis:** Obesity rate shares a direct correlation with disability rate. \n",
    "\n",
    "**Testing Method:** Compute the correlation between obesity rates in high-school students and disability rates in the population sample. Compute the correlation between obesity rates in adults and disability rates in the population sample. Compute the correlation between obesity rates in the population sample (both high-school students and adults) and disability rates in the population sample. Finally, test different regression models on these variables.\n",
    "\n",
    "**Conclusion:**\n",
    "There is a $58 \\%$ correlation between obesity rates in adults and disability rates in the population sample. There is a $38 \\%$ correlation between obesity rates in high school students and disability rates in the population sample. There is a $41 \\%$ correlation between obesity rates in the population sample (both high-school students and adults) and disability rates in the population sample. <br>\n",
    "When building the regression models, when the feature is chosen to be the disability rate and the target is chosen to be the adult obesity rate, the $R^2$ score tends to fall in the range from $20 \\%$ to $40 \\%$."
   ]
  },
  {
   "cell_type": "code",
   "execution_count": null,
   "metadata": {},
   "outputs": [],
   "source": []
  },
  {
   "cell_type": "code",
   "execution_count": null,
   "metadata": {},
   "outputs": [],
   "source": []
  },
  {
   "cell_type": "markdown",
   "metadata": {},
   "source": [
    "# Binge Drinking V.S. Obesity (Jie Ni)"
   ]
  },
  {
   "cell_type": "code",
   "execution_count": 440,
   "metadata": {},
   "outputs": [],
   "source": [
    "# house keeping stuffs, importing necessary methods from sklearn and pandas\n",
    "import pandas as pd\n",
    "from sklearn.linear_model import LinearRegression, Ridge, Lasso\n",
    "from sklearn.svm import SVR\n",
    "from sklearn.neighbors import KNeighborsRegressor\n",
    "from sklearn.tree import DecisionTreeRegressor\n",
    "from sklearn.ensemble import RandomForestRegressor"
   ]
  },
  {
   "cell_type": "code",
   "execution_count": 311,
   "metadata": {},
   "outputs": [],
   "source": [
    "import seaborn as sns; sns.set()"
   ]
  },
  {
   "cell_type": "code",
   "execution_count": 312,
   "metadata": {},
   "outputs": [],
   "source": [
    "from sklearn.model_selection import ShuffleSplit, cross_validate"
   ]
  },
  {
   "cell_type": "code",
   "execution_count": 313,
   "metadata": {},
   "outputs": [],
   "source": [
    "# loading data\n",
    "data = pd.read_csv(\"https://umdrive.memphis.edu/vphan/public/4151/BCHI-dataset_2019-03-04.csv\")"
   ]
  },
  {
   "cell_type": "code",
   "execution_count": 314,
   "metadata": {},
   "outputs": [],
   "source": [
    "# data filtering\n",
    "high_school_smoke = data[data['Indicator'] == 'Percent of High School Students Who Currently Smoke']\n",
    "adult_smoke = data[data['Indicator'] == 'Percent of Adults Who Currently Smoke']\n",
    "high_school_obese = data[data['Indicator'] == 'Percent of High School Students Who Are Obese']\n",
    "#high_school_obese['high_school/adult'] = \"high_school\"\n",
    "adult_obese = data[data['Indicator'] == 'Percent of Adults Who Are Obese']\n",
    "#adult_obese['high_school/adult'] = \"adult\""
   ]
  },
  {
   "cell_type": "code",
   "execution_count": 315,
   "metadata": {
    "scrolled": true
   },
   "outputs": [
    {
     "name": "stderr",
     "output_type": "stream",
     "text": [
      "/home/geekj3t/anaconda3/lib/python3.7/site-packages/pandas/core/frame.py:4223: SettingWithCopyWarning: \n",
      "A value is trying to be set on a copy of a slice from a DataFrame\n",
      "\n",
      "See the caveats in the documentation: http://pandas.pydata.org/pandas-docs/stable/user_guide/indexing.html#returning-a-view-versus-a-copy\n",
      "  return super().rename(**kwargs)\n"
     ]
    }
   ],
   "source": [
    "high_school_smoke.rename(columns={\"Value\":\"smoking_rate\"},inplace=True)\n",
    "high_school_obese.rename(columns={\"Value\":\"obesity_rate\"},inplace=True)\n",
    "\n",
    "adult_smoke.rename(columns={\"Value\":\"smoking_rate\"},inplace=True)\n",
    "adult_obese.rename(columns={\"Value\":\"obesity_rate\"},inplace=True)\n"
   ]
  },
  {
   "cell_type": "code",
   "execution_count": 536,
   "metadata": {
    "scrolled": true
   },
   "outputs": [
    {
     "data": {
      "text/html": [
       "<div>\n",
       "<style scoped>\n",
       "    .dataframe tbody tr th:only-of-type {\n",
       "        vertical-align: middle;\n",
       "    }\n",
       "\n",
       "    .dataframe tbody tr th {\n",
       "        vertical-align: top;\n",
       "    }\n",
       "\n",
       "    .dataframe thead th {\n",
       "        text-align: right;\n",
       "    }\n",
       "</style>\n",
       "<table border=\"1\" class=\"dataframe\">\n",
       "  <thead>\n",
       "    <tr style=\"text-align: right;\">\n",
       "      <th></th>\n",
       "      <th>Year</th>\n",
       "      <th>smoking_rate</th>\n",
       "      <th>obesity_rate</th>\n",
       "    </tr>\n",
       "  </thead>\n",
       "  <tbody>\n",
       "    <tr>\n",
       "      <td>Year</td>\n",
       "      <td>1.000000</td>\n",
       "      <td>-0.30237</td>\n",
       "      <td>-0.008559</td>\n",
       "    </tr>\n",
       "    <tr>\n",
       "      <td>smoking_rate</td>\n",
       "      <td>-0.302370</td>\n",
       "      <td>1.00000</td>\n",
       "      <td>-0.105880</td>\n",
       "    </tr>\n",
       "    <tr>\n",
       "      <td>obesity_rate</td>\n",
       "      <td>-0.008559</td>\n",
       "      <td>-0.10588</td>\n",
       "      <td>1.000000</td>\n",
       "    </tr>\n",
       "  </tbody>\n",
       "</table>\n",
       "</div>"
      ],
      "text/plain": [
       "                  Year  smoking_rate  obesity_rate\n",
       "Year          1.000000      -0.30237     -0.008559\n",
       "smoking_rate -0.302370       1.00000     -0.105880\n",
       "obesity_rate -0.008559      -0.10588      1.000000"
      ]
     },
     "execution_count": 536,
     "metadata": {},
     "output_type": "execute_result"
    },
    {
     "data": {
      "image/png": "[encoded data removed]",
      "text/plain": [
       "<Figure size 432x288 with 1 Axes>"
      ]
     },
     "metadata": {},
     "output_type": "display_data"
    }
   ],
   "source": [
    "# high school data\n",
    "high_school_combined = high_school_smoke.merge(high_school_obese,on=[\"Year\",\"Sex\",\"Race/Ethnicity\",\"Place\"])\n",
    "high_school_combined = high_school_combined.loc[:,['Year','Sex','Race/Ethnicity','Place','smoking_rate','obesity_rate']]\n",
    "sns.scatterplot(x='smoking_rate',y='obesity_rate',data=high_school_combined)\n",
    "# correlation matrix for higher school\n",
    "high_school_combined.corr()"
   ]
  },
  {
   "cell_type": "code",
   "execution_count": 537,
   "metadata": {
    "scrolled": true
   },
   "outputs": [
    {
     "data": {
      "text/html": [
       "<div>\n",
       "<style scoped>\n",
       "    .dataframe tbody tr th:only-of-type {\n",
       "        vertical-align: middle;\n",
       "    }\n",
       "\n",
       "    .dataframe tbody tr th {\n",
       "        vertical-align: top;\n",
       "    }\n",
       "\n",
       "    .dataframe thead th {\n",
       "        text-align: right;\n",
       "    }\n",
       "</style>\n",
       "<table border=\"1\" class=\"dataframe\">\n",
       "  <thead>\n",
       "    <tr style=\"text-align: right;\">\n",
       "      <th></th>\n",
       "      <th>Year</th>\n",
       "      <th>smoking_rate</th>\n",
       "      <th>obesity_rate</th>\n",
       "    </tr>\n",
       "  </thead>\n",
       "  <tbody>\n",
       "    <tr>\n",
       "      <td>Year</td>\n",
       "      <td>1.000000</td>\n",
       "      <td>0.001464</td>\n",
       "      <td>-0.074200</td>\n",
       "    </tr>\n",
       "    <tr>\n",
       "      <td>smoking_rate</td>\n",
       "      <td>0.001464</td>\n",
       "      <td>1.000000</td>\n",
       "      <td>0.429293</td>\n",
       "    </tr>\n",
       "    <tr>\n",
       "      <td>obesity_rate</td>\n",
       "      <td>-0.074200</td>\n",
       "      <td>0.429293</td>\n",
       "      <td>1.000000</td>\n",
       "    </tr>\n",
       "  </tbody>\n",
       "</table>\n",
       "</div>"
      ],
      "text/plain": [
       "                  Year  smoking_rate  obesity_rate\n",
       "Year          1.000000      0.001464     -0.074200\n",
       "smoking_rate  0.001464      1.000000      0.429293\n",
       "obesity_rate -0.074200      0.429293      1.000000"
      ]
     },
     "execution_count": 537,
     "metadata": {},
     "output_type": "execute_result"
    },
    {
     "data": {
      "image/png": "[encoded data removed]",
      "text/plain": [
       "<Figure size 432x288 with 1 Axes>"
      ]
     },
     "metadata": {},
     "output_type": "display_data"
    }
   ],
   "source": [
    "# adult data\n",
    "adult_combined = adult_smoke.merge(adult_obese,on=[\"Year\",\"Sex\",\"Race/Ethnicity\",\"Place\"])\n",
    "adult_combined = adult_combined.loc[:,['Year','Sex','Race/Ethnicity','Place','smoking_rate','obesity_rate']]\n",
    "sns.scatterplot(x='smoking_rate',y='obesity_rate',data=adult_combined)\n",
    "# correlation matrix for adult\n",
    "adult_combined.corr()"
   ]
  },
  {
   "cell_type": "code",
   "execution_count": 358,
   "metadata": {},
   "outputs": [],
   "source": [
    "def model_evaluate(X, y , model, cv):\n",
    "    score = cross_validate(model,X,y, cv=cv)['test_score']\n",
    "    return score.mean()\n",
    "    #print(score.mean())"
   ]
  },
  {
   "cell_type": "code",
   "execution_count": 455,
   "metadata": {},
   "outputs": [],
   "source": [
    "# this function returns the optimal split to use and the\n",
    "# corresponding test score of using that number of splits\n",
    "def return_max_split_score(splits,X,y,model):\n",
    "    max_split = 2\n",
    "    max_score = 0\n",
    "    for nth_split in range(2,splits):\n",
    "        cv = ShuffleSplit(n_splits=nth_split,test_size=0.3,random_state=5)\n",
    "        score = model_evaluate(X,y, model,cv)\n",
    "        if(score > max_score):\n",
    "            max_split = nth_split\n",
    "            max_score = score\n",
    "    return max_split, max_score\n",
    "    #print(f'max_split={max_split}, max_score={max_score}')"
   ]
  },
  {
   "cell_type": "code",
   "execution_count": 535,
   "metadata": {},
   "outputs": [
    {
     "name": "stdout",
     "output_type": "stream",
     "text": [
      "                  Year  smoking_rate  obesity_rate\n",
      "Year          1.000000     -0.123025     -0.125568\n",
      "smoking_rate -0.123025      1.000000      0.615890\n",
      "obesity_rate -0.125568      0.615890      1.000000\n"
     ]
    }
   ],
   "source": [
    "# combin adult and high school data\n",
    "combined = pd.concat([adult_combined,high_school_combined])\n",
    "combined.dropna(inplace=True)\n",
    "# correlation\n",
    "print(combined.corr())\n",
    "X = combined[['smoking_rate']]\n",
    "y = combined['obesity_rate']"
   ]
  },
  {
   "cell_type": "code",
   "execution_count": 489,
   "metadata": {
    "scrolled": true
   },
   "outputs": [
    {
     "name": "stdout",
     "output_type": "stream",
     "text": [
      "classifier name:linear_regression\n",
      "max_split:33\n",
      "max_score:0.3737\n",
      "\n",
      "classifier name:ridge_regression\n",
      "max_split:33\n",
      "max_score:0.3737\n",
      "\n",
      "classifier name:lasso_regression\n",
      "max_split:33\n",
      "max_score:0.3737\n",
      "\n",
      "classifier name:KNN_regression\n",
      "max_split:27\n",
      "max_score:0.2826\n",
      "\n",
      "classifier name:decision_tree_regression\n",
      "max_split:23\n",
      "max_score:0.096\n",
      "\n",
      "classifier name:linear_SVR\n",
      "max_split:33\n",
      "max_score:0.3714\n",
      "\n"
     ]
    }
   ],
   "source": [
    "# store regression models in a key,value pair dictionary\n",
    "classifiers = {\n",
    "    'linear_regression': LinearRegression(),\n",
    "    'ridge_regression': Ridge(random_state=0),\n",
    "    'lasso_regression': Lasso(random_state=0),\n",
    "    'KNN_regression': KNeighborsRegressor(n_neighbors=6),\n",
    "    'decision_tree_regression': DecisionTreeRegressor(random_state=0),\n",
    "    # uncomment the following line if you want to try \n",
    "    # random forest regressor; it was commented out because\n",
    "    # it took too long to run and the result we got isn't \n",
    "    # satifying\n",
    "    #'random_forest_regression': RandomForestRegressor(random_state=0,n_estimators=100)\n",
    "    'linear_SVR': SVR(kernel=\"linear\"),\n",
    "    # same goes here (uncomment to try). \n",
    "    # 'poly_SVR': SVR(kernel=\"poly\")\n",
    "}\n",
    "\n",
    "# try each classifier and see the performance\n",
    "for name, classifier in classifiers.items():\n",
    "    max_split,max_score = return_max_split_score(50,X,y,classifier)\n",
    "    print(f'classifier name:{name}\\nmax_split:{max_split}\\nmax_score:{round(max_score,4)}\\n')"
   ]
  },
  {
   "cell_type": "markdown",
   "metadata": {},
   "source": [
    "### As you can see from the above result, there's a tie between linear regression, ridge regression, and lasso regression model"
   ]
  },
  {
   "cell_type": "markdown",
   "metadata": {},
   "source": [
    "# Income V.S. Obesity (Michael Porter)"
   ]
  },
  {
   "cell_type": "code",
   "execution_count": 525,
   "metadata": {},
   "outputs": [],
   "source": [
    "import pandas\n",
    "\n",
    "df = pandas.read_csv(\"dataset/BCHI-dataset_2019-03-04.csv\")"
   ]
  },
  {
   "cell_type": "code",
   "execution_count": 526,
   "metadata": {
    "scrolled": true
   },
   "outputs": [
    {
     "data": {
      "text/html": [
       "<div>\n",
       "<style scoped>\n",
       "    .dataframe tbody tr th:only-of-type {\n",
       "        vertical-align: middle;\n",
       "    }\n",
       "\n",
       "    .dataframe tbody tr th {\n",
       "        vertical-align: top;\n",
       "    }\n",
       "\n",
       "    .dataframe thead th {\n",
       "        text-align: right;\n",
       "    }\n",
       "</style>\n",
       "<table border=\"1\" class=\"dataframe\">\n",
       "  <thead>\n",
       "    <tr style=\"text-align: right;\">\n",
       "      <th></th>\n",
       "      <th>Indicator Category</th>\n",
       "      <th>Indicator</th>\n",
       "      <th>Year</th>\n",
       "      <th>Sex</th>\n",
       "      <th>Race/Ethnicity</th>\n",
       "      <th>Value</th>\n",
       "      <th>Place</th>\n",
       "      <th>BCHC Requested Methodology</th>\n",
       "      <th>Source</th>\n",
       "      <th>Methods</th>\n",
       "      <th>Notes</th>\n",
       "      <th>90% Confidence Level - Low</th>\n",
       "      <th>90% Confidence Level - High</th>\n",
       "      <th>95% Confidence Level - Low</th>\n",
       "      <th>95% Confidence Level - High</th>\n",
       "    </tr>\n",
       "  </thead>\n",
       "  <tbody>\n",
       "    <tr>\n",
       "      <td>31919</td>\n",
       "      <td>Social and Economic Factors</td>\n",
       "      <td>Median Household Income (Dollars)</td>\n",
       "      <td>2012</td>\n",
       "      <td>Both</td>\n",
       "      <td>All</td>\n",
       "      <td>23600.0</td>\n",
       "      <td>Detroit, MI</td>\n",
       "      <td>Median household income (in 2012 inflation-adj...</td>\n",
       "      <td>US Census Bureau, American Community Survey 1-...</td>\n",
       "      <td>NaN</td>\n",
       "      <td>FIPS code 2622000 was used to isolate data for...</td>\n",
       "      <td>NaN</td>\n",
       "      <td>NaN</td>\n",
       "      <td>NaN</td>\n",
       "      <td>NaN</td>\n",
       "    </tr>\n",
       "    <tr>\n",
       "      <td>31920</td>\n",
       "      <td>Social and Economic Factors</td>\n",
       "      <td>Median Household Income (Dollars)</td>\n",
       "      <td>2012</td>\n",
       "      <td>Both</td>\n",
       "      <td>All</td>\n",
       "      <td>24257.0</td>\n",
       "      <td>Cleveland, OH</td>\n",
       "      <td>Median household income (in 2012 inflation-adj...</td>\n",
       "      <td>US Census Bureau, American Community Survey 1-...</td>\n",
       "      <td>NaN</td>\n",
       "      <td>FIPS code 3916000 was used to isolate data for...</td>\n",
       "      <td>NaN</td>\n",
       "      <td>NaN</td>\n",
       "      <td>NaN</td>\n",
       "      <td>NaN</td>\n",
       "    </tr>\n",
       "    <tr>\n",
       "      <td>31921</td>\n",
       "      <td>Social and Economic Factors</td>\n",
       "      <td>Median Household Income (Dollars)</td>\n",
       "      <td>2012</td>\n",
       "      <td>Both</td>\n",
       "      <td>All</td>\n",
       "      <td>35386.0</td>\n",
       "      <td>Philadelphia, PA</td>\n",
       "      <td>Median household income (in 2012 inflation-adj...</td>\n",
       "      <td>US Census Bureau, American Community Survey 1-...</td>\n",
       "      <td>NaN</td>\n",
       "      <td>FIPS code 4260000 was used to isolate data for...</td>\n",
       "      <td>NaN</td>\n",
       "      <td>NaN</td>\n",
       "      <td>NaN</td>\n",
       "      <td>NaN</td>\n",
       "    </tr>\n",
       "    <tr>\n",
       "      <td>31922</td>\n",
       "      <td>Social and Economic Factors</td>\n",
       "      <td>Median Household Income (Dollars)</td>\n",
       "      <td>2012</td>\n",
       "      <td>Both</td>\n",
       "      <td>All</td>\n",
       "      <td>39241.0</td>\n",
       "      <td>Baltimore, MD</td>\n",
       "      <td>Median household income (in 2012 inflation-adj...</td>\n",
       "      <td>US Census Bureau, American Community Survey 1-...</td>\n",
       "      <td>NaN</td>\n",
       "      <td>FIPS code 2404000 was used to isolate data for...</td>\n",
       "      <td>NaN</td>\n",
       "      <td>NaN</td>\n",
       "      <td>NaN</td>\n",
       "      <td>NaN</td>\n",
       "    </tr>\n",
       "    <tr>\n",
       "      <td>31923</td>\n",
       "      <td>Social and Economic Factors</td>\n",
       "      <td>Median Household Income (Dollars)</td>\n",
       "      <td>2012</td>\n",
       "      <td>Both</td>\n",
       "      <td>All</td>\n",
       "      <td>41354.0</td>\n",
       "      <td>Dallas, TX</td>\n",
       "      <td>Median household income (in 2012 inflation-adj...</td>\n",
       "      <td>US Census Bureau, American Community Survey 1-...</td>\n",
       "      <td>NaN</td>\n",
       "      <td>FIPS code 48113 was used to isolate data for D...</td>\n",
       "      <td>NaN</td>\n",
       "      <td>NaN</td>\n",
       "      <td>NaN</td>\n",
       "      <td>NaN</td>\n",
       "    </tr>\n",
       "    <tr>\n",
       "      <td>...</td>\n",
       "      <td>...</td>\n",
       "      <td>...</td>\n",
       "      <td>...</td>\n",
       "      <td>...</td>\n",
       "      <td>...</td>\n",
       "      <td>...</td>\n",
       "      <td>...</td>\n",
       "      <td>...</td>\n",
       "      <td>...</td>\n",
       "      <td>...</td>\n",
       "      <td>...</td>\n",
       "      <td>...</td>\n",
       "      <td>...</td>\n",
       "      <td>...</td>\n",
       "      <td>...</td>\n",
       "    </tr>\n",
       "    <tr>\n",
       "      <td>32052</td>\n",
       "      <td>Social and Economic Factors</td>\n",
       "      <td>Median Household Income (Dollars)</td>\n",
       "      <td>2016</td>\n",
       "      <td>Both</td>\n",
       "      <td>All</td>\n",
       "      <td>70824.0</td>\n",
       "      <td>San Diego County, CA</td>\n",
       "      <td>Median household income (in 2016 inflation-adj...</td>\n",
       "      <td>US Census Bureau, American Community Survey 1-...</td>\n",
       "      <td>NaN</td>\n",
       "      <td>FIPS code 06073 was used to isolate data for S...</td>\n",
       "      <td>NaN</td>\n",
       "      <td>NaN</td>\n",
       "      <td>NaN</td>\n",
       "      <td>NaN</td>\n",
       "    </tr>\n",
       "    <tr>\n",
       "      <td>32053</td>\n",
       "      <td>Social and Economic Factors</td>\n",
       "      <td>Median Household Income (Dollars)</td>\n",
       "      <td>2016</td>\n",
       "      <td>Both</td>\n",
       "      <td>All</td>\n",
       "      <td>75506.0</td>\n",
       "      <td>Washington, DC</td>\n",
       "      <td>Median household income (in 2016 inflation-adj...</td>\n",
       "      <td>US Census Bureau, American Community Survey 1-...</td>\n",
       "      <td>NaN</td>\n",
       "      <td>FIPS code 1150000 was used to isolate data for...</td>\n",
       "      <td>NaN</td>\n",
       "      <td>NaN</td>\n",
       "      <td>NaN</td>\n",
       "      <td>NaN</td>\n",
       "    </tr>\n",
       "    <tr>\n",
       "      <td>32054</td>\n",
       "      <td>Social and Economic Factors</td>\n",
       "      <td>Median Household Income (Dollars)</td>\n",
       "      <td>2016</td>\n",
       "      <td>Both</td>\n",
       "      <td>All</td>\n",
       "      <td>83476.0</td>\n",
       "      <td>Seattle, WA</td>\n",
       "      <td>Median household income (in 2016 inflation-adj...</td>\n",
       "      <td>US Census Bureau, American Community Survey 1-...</td>\n",
       "      <td>NaN</td>\n",
       "      <td>FIPS code 5363000 was used to isolate data for...</td>\n",
       "      <td>NaN</td>\n",
       "      <td>NaN</td>\n",
       "      <td>NaN</td>\n",
       "      <td>NaN</td>\n",
       "    </tr>\n",
       "    <tr>\n",
       "      <td>32055</td>\n",
       "      <td>Social and Economic Factors</td>\n",
       "      <td>Median Household Income (Dollars)</td>\n",
       "      <td>2016</td>\n",
       "      <td>Both</td>\n",
       "      <td>All</td>\n",
       "      <td>101940.0</td>\n",
       "      <td>San Jose, CA</td>\n",
       "      <td>Median household income (in 2016 inflation-adj...</td>\n",
       "      <td>US Census Bureau, American Community Survey 1-...</td>\n",
       "      <td>NaN</td>\n",
       "      <td>FIPS code 0668000 was used to isolate data for...</td>\n",
       "      <td>NaN</td>\n",
       "      <td>NaN</td>\n",
       "      <td>NaN</td>\n",
       "      <td>NaN</td>\n",
       "    </tr>\n",
       "    <tr>\n",
       "      <td>32056</td>\n",
       "      <td>Social and Economic Factors</td>\n",
       "      <td>Median Household Income (Dollars)</td>\n",
       "      <td>2016</td>\n",
       "      <td>Both</td>\n",
       "      <td>All</td>\n",
       "      <td>103801.0</td>\n",
       "      <td>San Francisco, CA</td>\n",
       "      <td>Median household income (in 2016 inflation-adj...</td>\n",
       "      <td>US Census Bureau, American Community Survey 1-...</td>\n",
       "      <td>NaN</td>\n",
       "      <td>FIPS code 0667000 was used to isolate data for...</td>\n",
       "      <td>NaN</td>\n",
       "      <td>NaN</td>\n",
       "      <td>NaN</td>\n",
       "      <td>NaN</td>\n",
       "    </tr>\n",
       "  </tbody>\n",
       "</table>\n",
       "<p>138 rows × 15 columns</p>\n",
       "</div>"
      ],
      "text/plain": [
       "                Indicator Category                          Indicator  Year  \\\n",
       "31919  Social and Economic Factors  Median Household Income (Dollars)  2012   \n",
       "31920  Social and Economic Factors  Median Household Income (Dollars)  2012   \n",
       "31921  Social and Economic Factors  Median Household Income (Dollars)  2012   \n",
       "31922  Social and Economic Factors  Median Household Income (Dollars)  2012   \n",
       "31923  Social and Economic Factors  Median Household Income (Dollars)  2012   \n",
       "...                            ...                                ...   ...   \n",
       "32052  Social and Economic Factors  Median Household Income (Dollars)  2016   \n",
       "32053  Social and Economic Factors  Median Household Income (Dollars)  2016   \n",
       "32054  Social and Economic Factors  Median Household Income (Dollars)  2016   \n",
       "32055  Social and Economic Factors  Median Household Income (Dollars)  2016   \n",
       "32056  Social and Economic Factors  Median Household Income (Dollars)  2016   \n",
       "\n",
       "        Sex Race/Ethnicity     Value                 Place  \\\n",
       "31919  Both            All   23600.0           Detroit, MI   \n",
       "31920  Both            All   24257.0         Cleveland, OH   \n",
       "31921  Both            All   35386.0      Philadelphia, PA   \n",
       "31922  Both            All   39241.0         Baltimore, MD   \n",
       "31923  Both            All   41354.0            Dallas, TX   \n",
       "...     ...            ...       ...                   ...   \n",
       "32052  Both            All   70824.0  San Diego County, CA   \n",
       "32053  Both            All   75506.0        Washington, DC   \n",
       "32054  Both            All   83476.0           Seattle, WA   \n",
       "32055  Both            All  101940.0          San Jose, CA   \n",
       "32056  Both            All  103801.0     San Francisco, CA   \n",
       "\n",
       "                              BCHC Requested Methodology  \\\n",
       "31919  Median household income (in 2012 inflation-adj...   \n",
       "31920  Median household income (in 2012 inflation-adj...   \n",
       "31921  Median household income (in 2012 inflation-adj...   \n",
       "31922  Median household income (in 2012 inflation-adj...   \n",
       "31923  Median household income (in 2012 inflation-adj...   \n",
       "...                                                  ...   \n",
       "32052  Median household income (in 2016 inflation-adj...   \n",
       "32053  Median household income (in 2016 inflation-adj...   \n",
       "32054  Median household income (in 2016 inflation-adj...   \n",
       "32055  Median household income (in 2016 inflation-adj...   \n",
       "32056  Median household income (in 2016 inflation-adj...   \n",
       "\n",
       "                                                  Source Methods  \\\n",
       "31919  US Census Bureau, American Community Survey 1-...     NaN   \n",
       "31920  US Census Bureau, American Community Survey 1-...     NaN   \n",
       "31921  US Census Bureau, American Community Survey 1-...     NaN   \n",
       "31922  US Census Bureau, American Community Survey 1-...     NaN   \n",
       "31923  US Census Bureau, American Community Survey 1-...     NaN   \n",
       "...                                                  ...     ...   \n",
       "32052  US Census Bureau, American Community Survey 1-...     NaN   \n",
       "32053  US Census Bureau, American Community Survey 1-...     NaN   \n",
       "32054  US Census Bureau, American Community Survey 1-...     NaN   \n",
       "32055  US Census Bureau, American Community Survey 1-...     NaN   \n",
       "32056  US Census Bureau, American Community Survey 1-...     NaN   \n",
       "\n",
       "                                                   Notes  \\\n",
       "31919  FIPS code 2622000 was used to isolate data for...   \n",
       "31920  FIPS code 3916000 was used to isolate data for...   \n",
       "31921  FIPS code 4260000 was used to isolate data for...   \n",
       "31922  FIPS code 2404000 was used to isolate data for...   \n",
       "31923  FIPS code 48113 was used to isolate data for D...   \n",
       "...                                                  ...   \n",
       "32052  FIPS code 06073 was used to isolate data for S...   \n",
       "32053  FIPS code 1150000 was used to isolate data for...   \n",
       "32054  FIPS code 5363000 was used to isolate data for...   \n",
       "32055  FIPS code 0668000 was used to isolate data for...   \n",
       "32056  FIPS code 0667000 was used to isolate data for...   \n",
       "\n",
       "       90% Confidence Level - Low  90% Confidence Level - High  \\\n",
       "31919                         NaN                          NaN   \n",
       "31920                         NaN                          NaN   \n",
       "31921                         NaN                          NaN   \n",
       "31922                         NaN                          NaN   \n",
       "31923                         NaN                          NaN   \n",
       "...                           ...                          ...   \n",
       "32052                         NaN                          NaN   \n",
       "32053                         NaN                          NaN   \n",
       "32054                         NaN                          NaN   \n",
       "32055                         NaN                          NaN   \n",
       "32056                         NaN                          NaN   \n",
       "\n",
       "       95% Confidence Level - Low  95% Confidence Level - High  \n",
       "31919                         NaN                          NaN  \n",
       "31920                         NaN                          NaN  \n",
       "31921                         NaN                          NaN  \n",
       "31922                         NaN                          NaN  \n",
       "31923                         NaN                          NaN  \n",
       "...                           ...                          ...  \n",
       "32052                         NaN                          NaN  \n",
       "32053                         NaN                          NaN  \n",
       "32054                         NaN                          NaN  \n",
       "32055                         NaN                          NaN  \n",
       "32056                         NaN                          NaN  \n",
       "\n",
       "[138 rows x 15 columns]"
      ]
     },
     "execution_count": 526,
     "metadata": {},
     "output_type": "execute_result"
    }
   ],
   "source": [
    "df.loc[df[\"Indicator\"] == \"Median Household Income (Dollars)\"]"
   ]
  },
  {
   "cell_type": "code",
   "execution_count": 527,
   "metadata": {
    "scrolled": true
   },
   "outputs": [
    {
     "data": {
      "text/html": [
       "<div>\n",
       "<style scoped>\n",
       "    .dataframe tbody tr th:only-of-type {\n",
       "        vertical-align: middle;\n",
       "    }\n",
       "\n",
       "    .dataframe tbody tr th {\n",
       "        vertical-align: top;\n",
       "    }\n",
       "\n",
       "    .dataframe thead th {\n",
       "        text-align: right;\n",
       "    }\n",
       "</style>\n",
       "<table border=\"1\" class=\"dataframe\">\n",
       "  <thead>\n",
       "    <tr style=\"text-align: right;\">\n",
       "      <th></th>\n",
       "      <th>Indicator Category</th>\n",
       "      <th>Indicator</th>\n",
       "      <th>Year</th>\n",
       "      <th>Sex</th>\n",
       "      <th>Race/Ethnicity</th>\n",
       "      <th>Value</th>\n",
       "      <th>Place</th>\n",
       "      <th>BCHC Requested Methodology</th>\n",
       "      <th>Source</th>\n",
       "      <th>Methods</th>\n",
       "      <th>Notes</th>\n",
       "      <th>90% Confidence Level - Low</th>\n",
       "      <th>90% Confidence Level - High</th>\n",
       "      <th>95% Confidence Level - Low</th>\n",
       "      <th>95% Confidence Level - High</th>\n",
       "    </tr>\n",
       "  </thead>\n",
       "  <tbody>\n",
       "    <tr>\n",
       "      <td>6502</td>\n",
       "      <td>Chronic Disease</td>\n",
       "      <td>Percent of Adults Who Are Obese</td>\n",
       "      <td>2010</td>\n",
       "      <td>Both</td>\n",
       "      <td>All</td>\n",
       "      <td>18.0</td>\n",
       "      <td>Seattle, WA</td>\n",
       "      <td>BRFSS (or similar survey). Percent of populati...</td>\n",
       "      <td>BRFSS</td>\n",
       "      <td>NaN</td>\n",
       "      <td>NaN</td>\n",
       "      <td>NaN</td>\n",
       "      <td>NaN</td>\n",
       "      <td>14.0</td>\n",
       "      <td>22.0</td>\n",
       "    </tr>\n",
       "    <tr>\n",
       "      <td>6503</td>\n",
       "      <td>Chronic Disease</td>\n",
       "      <td>Percent of Adults Who Are Obese</td>\n",
       "      <td>2010</td>\n",
       "      <td>Both</td>\n",
       "      <td>All</td>\n",
       "      <td>20.3</td>\n",
       "      <td>Boston, MA</td>\n",
       "      <td>BRFSS (or similar survey). Percent of populati...</td>\n",
       "      <td>Boston Behavioral Risk Factor Survey, Boston P...</td>\n",
       "      <td>NaN</td>\n",
       "      <td>This survey is not conducted annually.</td>\n",
       "      <td>NaN</td>\n",
       "      <td>NaN</td>\n",
       "      <td>18.1</td>\n",
       "      <td>22.5</td>\n",
       "    </tr>\n",
       "    <tr>\n",
       "      <td>6504</td>\n",
       "      <td>Chronic Disease</td>\n",
       "      <td>Percent of Adults Who Are Obese</td>\n",
       "      <td>2010</td>\n",
       "      <td>Both</td>\n",
       "      <td>All</td>\n",
       "      <td>26.1</td>\n",
       "      <td>San Diego County, CA</td>\n",
       "      <td>BRFSS (or similar survey). Percent of populati...</td>\n",
       "      <td>Centers for Disease Control and Prevention (CD...</td>\n",
       "      <td>NaN</td>\n",
       "      <td>NaN</td>\n",
       "      <td>NaN</td>\n",
       "      <td>NaN</td>\n",
       "      <td>NaN</td>\n",
       "      <td>NaN</td>\n",
       "    </tr>\n",
       "    <tr>\n",
       "      <td>6505</td>\n",
       "      <td>Chronic Disease</td>\n",
       "      <td>Percent of Adults Who Are Obese</td>\n",
       "      <td>2010</td>\n",
       "      <td>Both</td>\n",
       "      <td>All</td>\n",
       "      <td>26.7</td>\n",
       "      <td>Charlotte, NC</td>\n",
       "      <td>BRFSS (or similar survey). Percent of populati...</td>\n",
       "      <td>2010 NC BRFSS (Mecklenburg Sample)</td>\n",
       "      <td>NaN</td>\n",
       "      <td>NaN</td>\n",
       "      <td>NaN</td>\n",
       "      <td>NaN</td>\n",
       "      <td>21.8</td>\n",
       "      <td>31.6</td>\n",
       "    </tr>\n",
       "    <tr>\n",
       "      <td>6506</td>\n",
       "      <td>Chronic Disease</td>\n",
       "      <td>Percent of Adults Who Are Obese</td>\n",
       "      <td>2010</td>\n",
       "      <td>Both</td>\n",
       "      <td>All</td>\n",
       "      <td>29.2</td>\n",
       "      <td>Baltimore, MD</td>\n",
       "      <td>BRFSS (or similar survey). Percent of populati...</td>\n",
       "      <td>CDC BRFSS</td>\n",
       "      <td>The three most recent years of available data ...</td>\n",
       "      <td>Due to changes in BRFSS sampling methodology, ...</td>\n",
       "      <td>NaN</td>\n",
       "      <td>NaN</td>\n",
       "      <td>NaN</td>\n",
       "      <td>NaN</td>\n",
       "    </tr>\n",
       "    <tr>\n",
       "      <td>...</td>\n",
       "      <td>...</td>\n",
       "      <td>...</td>\n",
       "      <td>...</td>\n",
       "      <td>...</td>\n",
       "      <td>...</td>\n",
       "      <td>...</td>\n",
       "      <td>...</td>\n",
       "      <td>...</td>\n",
       "      <td>...</td>\n",
       "      <td>...</td>\n",
       "      <td>...</td>\n",
       "      <td>...</td>\n",
       "      <td>...</td>\n",
       "      <td>...</td>\n",
       "      <td>...</td>\n",
       "    </tr>\n",
       "    <tr>\n",
       "      <td>7171</td>\n",
       "      <td>Chronic Disease</td>\n",
       "      <td>Percent of Adults Who Are Obese</td>\n",
       "      <td>2016</td>\n",
       "      <td>Female</td>\n",
       "      <td>All</td>\n",
       "      <td>NaN</td>\n",
       "      <td>Oakland (Alameda County), CA</td>\n",
       "      <td>BRFSS (or similar survey). Percent of populati...</td>\n",
       "      <td>California Health Interview Survey (AskCHIS)</td>\n",
       "      <td>California Health Interview Survey. Percent of...</td>\n",
       "      <td>Data is for Alameda County; Records where the ...</td>\n",
       "      <td>NaN</td>\n",
       "      <td>NaN</td>\n",
       "      <td>NaN</td>\n",
       "      <td>NaN</td>\n",
       "    </tr>\n",
       "    <tr>\n",
       "      <td>7172</td>\n",
       "      <td>Chronic Disease</td>\n",
       "      <td>Percent of Adults Who Are Obese</td>\n",
       "      <td>2016</td>\n",
       "      <td>Male</td>\n",
       "      <td>All</td>\n",
       "      <td>17.8</td>\n",
       "      <td>Denver, CO</td>\n",
       "      <td>BRFSS (or similar survey). Percent of populati...</td>\n",
       "      <td>Colorado BRFSS</td>\n",
       "      <td>Colorado BRFSS</td>\n",
       "      <td>NaN</td>\n",
       "      <td>NaN</td>\n",
       "      <td>NaN</td>\n",
       "      <td>14.2</td>\n",
       "      <td>21.3</td>\n",
       "    </tr>\n",
       "    <tr>\n",
       "      <td>7173</td>\n",
       "      <td>Chronic Disease</td>\n",
       "      <td>Percent of Adults Who Are Obese</td>\n",
       "      <td>2016</td>\n",
       "      <td>Male</td>\n",
       "      <td>All</td>\n",
       "      <td>20.0</td>\n",
       "      <td>Philadelphia, PA</td>\n",
       "      <td>BRFSS (or similar survey). Percent of populati...</td>\n",
       "      <td>PA Eddie--&gt;BRFSS</td>\n",
       "      <td>NaN</td>\n",
       "      <td>NaN</td>\n",
       "      <td>NaN</td>\n",
       "      <td>NaN</td>\n",
       "      <td>15.0</td>\n",
       "      <td>26.0</td>\n",
       "    </tr>\n",
       "    <tr>\n",
       "      <td>7174</td>\n",
       "      <td>Chronic Disease</td>\n",
       "      <td>Percent of Adults Who Are Obese</td>\n",
       "      <td>2016</td>\n",
       "      <td>Male</td>\n",
       "      <td>All</td>\n",
       "      <td>35.2</td>\n",
       "      <td>Columbus, OH</td>\n",
       "      <td>BRFSS (or similar survey). Percent of populati...</td>\n",
       "      <td>BRFSS</td>\n",
       "      <td>NaN</td>\n",
       "      <td>NaN</td>\n",
       "      <td>NaN</td>\n",
       "      <td>NaN</td>\n",
       "      <td>26.4</td>\n",
       "      <td>44.0</td>\n",
       "    </tr>\n",
       "    <tr>\n",
       "      <td>7175</td>\n",
       "      <td>Chronic Disease</td>\n",
       "      <td>Percent of Adults Who Are Obese</td>\n",
       "      <td>2016</td>\n",
       "      <td>Male</td>\n",
       "      <td>All</td>\n",
       "      <td>NaN</td>\n",
       "      <td>Oakland (Alameda County), CA</td>\n",
       "      <td>BRFSS (or similar survey). Percent of populati...</td>\n",
       "      <td>California Health Interview Survey (AskCHIS)</td>\n",
       "      <td>California Health Interview Survey. Percent of...</td>\n",
       "      <td>Data is for Alameda County; Records where the ...</td>\n",
       "      <td>NaN</td>\n",
       "      <td>NaN</td>\n",
       "      <td>NaN</td>\n",
       "      <td>NaN</td>\n",
       "    </tr>\n",
       "  </tbody>\n",
       "</table>\n",
       "<p>674 rows × 15 columns</p>\n",
       "</div>"
      ],
      "text/plain": [
       "     Indicator Category                        Indicator  Year     Sex  \\\n",
       "6502    Chronic Disease  Percent of Adults Who Are Obese  2010    Both   \n",
       "6503    Chronic Disease  Percent of Adults Who Are Obese  2010    Both   \n",
       "6504    Chronic Disease  Percent of Adults Who Are Obese  2010    Both   \n",
       "6505    Chronic Disease  Percent of Adults Who Are Obese  2010    Both   \n",
       "6506    Chronic Disease  Percent of Adults Who Are Obese  2010    Both   \n",
       "...                 ...                              ...   ...     ...   \n",
       "7171    Chronic Disease  Percent of Adults Who Are Obese  2016  Female   \n",
       "7172    Chronic Disease  Percent of Adults Who Are Obese  2016    Male   \n",
       "7173    Chronic Disease  Percent of Adults Who Are Obese  2016    Male   \n",
       "7174    Chronic Disease  Percent of Adults Who Are Obese  2016    Male   \n",
       "7175    Chronic Disease  Percent of Adults Who Are Obese  2016    Male   \n",
       "\n",
       "     Race/Ethnicity  Value                         Place  \\\n",
       "6502            All   18.0                   Seattle, WA   \n",
       "6503            All   20.3                    Boston, MA   \n",
       "6504            All   26.1          San Diego County, CA   \n",
       "6505            All   26.7                 Charlotte, NC   \n",
       "6506            All   29.2                 Baltimore, MD   \n",
       "...             ...    ...                           ...   \n",
       "7171            All    NaN  Oakland (Alameda County), CA   \n",
       "7172            All   17.8                    Denver, CO   \n",
       "7173            All   20.0              Philadelphia, PA   \n",
       "7174            All   35.2                  Columbus, OH   \n",
       "7175            All    NaN  Oakland (Alameda County), CA   \n",
       "\n",
       "                             BCHC Requested Methodology  \\\n",
       "6502  BRFSS (or similar survey). Percent of populati...   \n",
       "6503  BRFSS (or similar survey). Percent of populati...   \n",
       "6504  BRFSS (or similar survey). Percent of populati...   \n",
       "6505  BRFSS (or similar survey). Percent of populati...   \n",
       "6506  BRFSS (or similar survey). Percent of populati...   \n",
       "...                                                 ...   \n",
       "7171  BRFSS (or similar survey). Percent of populati...   \n",
       "7172  BRFSS (or similar survey). Percent of populati...   \n",
       "7173  BRFSS (or similar survey). Percent of populati...   \n",
       "7174  BRFSS (or similar survey). Percent of populati...   \n",
       "7175  BRFSS (or similar survey). Percent of populati...   \n",
       "\n",
       "                                                 Source  \\\n",
       "6502                                              BRFSS   \n",
       "6503  Boston Behavioral Risk Factor Survey, Boston P...   \n",
       "6504  Centers for Disease Control and Prevention (CD...   \n",
       "6505                 2010 NC BRFSS (Mecklenburg Sample)   \n",
       "6506                                          CDC BRFSS   \n",
       "...                                                 ...   \n",
       "7171       California Health Interview Survey (AskCHIS)   \n",
       "7172                                     Colorado BRFSS   \n",
       "7173                                  PA Eddie-->BRFSS    \n",
       "7174                                              BRFSS   \n",
       "7175       California Health Interview Survey (AskCHIS)   \n",
       "\n",
       "                                                Methods  \\\n",
       "6502                                                NaN   \n",
       "6503                                                NaN   \n",
       "6504                                                NaN   \n",
       "6505                                                NaN   \n",
       "6506  The three most recent years of available data ...   \n",
       "...                                                 ...   \n",
       "7171  California Health Interview Survey. Percent of...   \n",
       "7172                                     Colorado BRFSS   \n",
       "7173                                                NaN   \n",
       "7174                                                NaN   \n",
       "7175  California Health Interview Survey. Percent of...   \n",
       "\n",
       "                                                  Notes  \\\n",
       "6502                                                NaN   \n",
       "6503             This survey is not conducted annually.   \n",
       "6504                                                NaN   \n",
       "6505                                                NaN   \n",
       "6506  Due to changes in BRFSS sampling methodology, ...   \n",
       "...                                                 ...   \n",
       "7171  Data is for Alameda County; Records where the ...   \n",
       "7172                                                NaN   \n",
       "7173                                                NaN   \n",
       "7174                                                NaN   \n",
       "7175  Data is for Alameda County; Records where the ...   \n",
       "\n",
       "      90% Confidence Level - Low  90% Confidence Level - High  \\\n",
       "6502                         NaN                          NaN   \n",
       "6503                         NaN                          NaN   \n",
       "6504                         NaN                          NaN   \n",
       "6505                         NaN                          NaN   \n",
       "6506                         NaN                          NaN   \n",
       "...                          ...                          ...   \n",
       "7171                         NaN                          NaN   \n",
       "7172                         NaN                          NaN   \n",
       "7173                         NaN                          NaN   \n",
       "7174                         NaN                          NaN   \n",
       "7175                         NaN                          NaN   \n",
       "\n",
       "      95% Confidence Level - Low  95% Confidence Level - High  \n",
       "6502                        14.0                         22.0  \n",
       "6503                        18.1                         22.5  \n",
       "6504                         NaN                          NaN  \n",
       "6505                        21.8                         31.6  \n",
       "6506                         NaN                          NaN  \n",
       "...                          ...                          ...  \n",
       "7171                         NaN                          NaN  \n",
       "7172                        14.2                         21.3  \n",
       "7173                        15.0                         26.0  \n",
       "7174                        26.4                         44.0  \n",
       "7175                         NaN                          NaN  \n",
       "\n",
       "[674 rows x 15 columns]"
      ]
     },
     "execution_count": 527,
     "metadata": {},
     "output_type": "execute_result"
    }
   ],
   "source": [
    "df.loc[df[\"Indicator\"] == \"Percent of Adults Who Are Obese\"]"
   ]
  },
  {
   "cell_type": "markdown",
   "metadata": {},
   "source": [
    "Obesity Hypothesis\n",
    "\n",
    "I predict that there will be a inverse corellation between median income and obesity rate on a city by city basis\n",
    "\n",
    "Cities in the south and midwest have a higher than average obesity rate, cities in the northeast and west coast have a lower than average obesity rate\n",
    "\n",
    "Lower physical activity levels correlate with higher obesity\n",
    "\n",
    "Higher disability rate correllates with higher obesity rate"
   ]
  },
  {
   "cell_type": "code",
   "execution_count": 528,
   "metadata": {},
   "outputs": [
    {
     "name": "stderr",
     "output_type": "stream",
     "text": [
      "/home/geekj3t/anaconda3/lib/python3.7/site-packages/pandas/core/frame.py:4223: SettingWithCopyWarning: \n",
      "A value is trying to be set on a copy of a slice from a DataFrame\n",
      "\n",
      "See the caveats in the documentation: http://pandas.pydata.org/pandas-docs/stable/user_guide/indexing.html#returning-a-view-versus-a-copy\n",
      "  return super().rename(**kwargs)\n"
     ]
    },
    {
     "data": {
      "text/plain": [
       "<seaborn.axisgrid.FacetGrid at 0x7f5c6490c990>"
      ]
     },
     "execution_count": 528,
     "metadata": {},
     "output_type": "execute_result"
    },
    {
     "data": {
      "image/png": "[encoded data removed]",
      "text/plain": [
       "<Figure size 360x360 with 1 Axes>"
      ]
     },
     "metadata": {},
     "output_type": "display_data"
    }
   ],
   "source": [
    "#get income data\n",
    "incomes = df[df[\"Indicator\"] == \"Median Household Income (Dollars)\"]\n",
    "incomes.rename(columns={'Value':'Income'},inplace=True)\n",
    "\n",
    "# get obesity data    \n",
    "obesity = df[(df[\"Indicator\"] == \"Percent of Adults Who Are Obese\") &\n",
    "            (df[\"Race/Ethnicity\"] == \"All\") &\n",
    "            (df[\"Sex\"] == \"Both\")]\n",
    "obesity.rename(columns={'Value':'Obesity'},inplace=True)\n",
    "\n",
    "ob_data = pandas.merge(incomes, obesity, on=[\"Place\", \"Year\"], how=\"inner\")\n",
    "\n",
    "# graph the output\n",
    "import matplotlib.pyplot as plt\n",
    "import seaborn\n",
    "\n",
    "seaborn.relplot(x=\"Income\", y=\"Obesity\", data=ob_data)"
   ]
  },
  {
   "cell_type": "code",
   "execution_count": 529,
   "metadata": {},
   "outputs": [
    {
     "name": "stdout",
     "output_type": "stream",
     "text": [
      "0.2530990331556403\n"
     ]
    },
    {
     "data": {
      "text/html": [
       "<div>\n",
       "<style scoped>\n",
       "    .dataframe tbody tr th:only-of-type {\n",
       "        vertical-align: middle;\n",
       "    }\n",
       "\n",
       "    .dataframe tbody tr th {\n",
       "        vertical-align: top;\n",
       "    }\n",
       "\n",
       "    .dataframe thead th {\n",
       "        text-align: right;\n",
       "    }\n",
       "</style>\n",
       "<table border=\"1\" class=\"dataframe\">\n",
       "  <thead>\n",
       "    <tr style=\"text-align: right;\">\n",
       "      <th></th>\n",
       "      <th>Year</th>\n",
       "      <th>Income</th>\n",
       "      <th>90% Confidence Level - Low_x</th>\n",
       "      <th>90% Confidence Level - High_x</th>\n",
       "      <th>95% Confidence Level - Low_x</th>\n",
       "      <th>95% Confidence Level - High_x</th>\n",
       "      <th>Obesity</th>\n",
       "      <th>90% Confidence Level - Low_y</th>\n",
       "      <th>90% Confidence Level - High_y</th>\n",
       "      <th>95% Confidence Level - Low_y</th>\n",
       "      <th>95% Confidence Level - High_y</th>\n",
       "    </tr>\n",
       "  </thead>\n",
       "  <tbody>\n",
       "    <tr>\n",
       "      <td>Year</td>\n",
       "      <td>1.000000</td>\n",
       "      <td>0.187199</td>\n",
       "      <td>NaN</td>\n",
       "      <td>NaN</td>\n",
       "      <td>NaN</td>\n",
       "      <td>NaN</td>\n",
       "      <td>0.104833</td>\n",
       "      <td>NaN</td>\n",
       "      <td>NaN</td>\n",
       "      <td>-0.093243</td>\n",
       "      <td>0.066988</td>\n",
       "    </tr>\n",
       "    <tr>\n",
       "      <td>Income</td>\n",
       "      <td>0.187199</td>\n",
       "      <td>1.000000</td>\n",
       "      <td>NaN</td>\n",
       "      <td>NaN</td>\n",
       "      <td>NaN</td>\n",
       "      <td>NaN</td>\n",
       "      <td>-0.697650</td>\n",
       "      <td>NaN</td>\n",
       "      <td>NaN</td>\n",
       "      <td>-0.794615</td>\n",
       "      <td>-0.612335</td>\n",
       "    </tr>\n",
       "    <tr>\n",
       "      <td>90% Confidence Level - Low_x</td>\n",
       "      <td>NaN</td>\n",
       "      <td>NaN</td>\n",
       "      <td>NaN</td>\n",
       "      <td>NaN</td>\n",
       "      <td>NaN</td>\n",
       "      <td>NaN</td>\n",
       "      <td>NaN</td>\n",
       "      <td>NaN</td>\n",
       "      <td>NaN</td>\n",
       "      <td>NaN</td>\n",
       "      <td>NaN</td>\n",
       "    </tr>\n",
       "    <tr>\n",
       "      <td>90% Confidence Level - High_x</td>\n",
       "      <td>NaN</td>\n",
       "      <td>NaN</td>\n",
       "      <td>NaN</td>\n",
       "      <td>NaN</td>\n",
       "      <td>NaN</td>\n",
       "      <td>NaN</td>\n",
       "      <td>NaN</td>\n",
       "      <td>NaN</td>\n",
       "      <td>NaN</td>\n",
       "      <td>NaN</td>\n",
       "      <td>NaN</td>\n",
       "    </tr>\n",
       "    <tr>\n",
       "      <td>95% Confidence Level - Low_x</td>\n",
       "      <td>NaN</td>\n",
       "      <td>NaN</td>\n",
       "      <td>NaN</td>\n",
       "      <td>NaN</td>\n",
       "      <td>NaN</td>\n",
       "      <td>NaN</td>\n",
       "      <td>NaN</td>\n",
       "      <td>NaN</td>\n",
       "      <td>NaN</td>\n",
       "      <td>NaN</td>\n",
       "      <td>NaN</td>\n",
       "    </tr>\n",
       "  </tbody>\n",
       "</table>\n",
       "</div>"
      ],
      "text/plain": [
       "                                   Year    Income  \\\n",
       "Year                           1.000000  0.187199   \n",
       "Income                         0.187199  1.000000   \n",
       "90% Confidence Level - Low_x        NaN       NaN   \n",
       "90% Confidence Level - High_x       NaN       NaN   \n",
       "95% Confidence Level - Low_x        NaN       NaN   \n",
       "\n",
       "                               90% Confidence Level - Low_x  \\\n",
       "Year                                                    NaN   \n",
       "Income                                                  NaN   \n",
       "90% Confidence Level - Low_x                            NaN   \n",
       "90% Confidence Level - High_x                           NaN   \n",
       "95% Confidence Level - Low_x                            NaN   \n",
       "\n",
       "                               90% Confidence Level - High_x  \\\n",
       "Year                                                     NaN   \n",
       "Income                                                   NaN   \n",
       "90% Confidence Level - Low_x                             NaN   \n",
       "90% Confidence Level - High_x                            NaN   \n",
       "95% Confidence Level - Low_x                             NaN   \n",
       "\n",
       "                               95% Confidence Level - Low_x  \\\n",
       "Year                                                    NaN   \n",
       "Income                                                  NaN   \n",
       "90% Confidence Level - Low_x                            NaN   \n",
       "90% Confidence Level - High_x                           NaN   \n",
       "95% Confidence Level - Low_x                            NaN   \n",
       "\n",
       "                               95% Confidence Level - High_x   Obesity  \\\n",
       "Year                                                     NaN  0.104833   \n",
       "Income                                                   NaN -0.697650   \n",
       "90% Confidence Level - Low_x                             NaN       NaN   \n",
       "90% Confidence Level - High_x                            NaN       NaN   \n",
       "95% Confidence Level - Low_x                             NaN       NaN   \n",
       "\n",
       "                               90% Confidence Level - Low_y  \\\n",
       "Year                                                    NaN   \n",
       "Income                                                  NaN   \n",
       "90% Confidence Level - Low_x                            NaN   \n",
       "90% Confidence Level - High_x                           NaN   \n",
       "95% Confidence Level - Low_x                            NaN   \n",
       "\n",
       "                               90% Confidence Level - High_y  \\\n",
       "Year                                                     NaN   \n",
       "Income                                                   NaN   \n",
       "90% Confidence Level - Low_x                             NaN   \n",
       "90% Confidence Level - High_x                            NaN   \n",
       "95% Confidence Level - Low_x                             NaN   \n",
       "\n",
       "                               95% Confidence Level - Low_y  \\\n",
       "Year                                              -0.093243   \n",
       "Income                                            -0.794615   \n",
       "90% Confidence Level - Low_x                            NaN   \n",
       "90% Confidence Level - High_x                           NaN   \n",
       "95% Confidence Level - Low_x                            NaN   \n",
       "\n",
       "                               95% Confidence Level - High_y  \n",
       "Year                                                0.066988  \n",
       "Income                                             -0.612335  \n",
       "90% Confidence Level - Low_x                             NaN  \n",
       "90% Confidence Level - High_x                            NaN  \n",
       "95% Confidence Level - Low_x                             NaN  "
      ]
     },
     "execution_count": 529,
     "metadata": {},
     "output_type": "execute_result"
    }
   ],
   "source": [
    "from sklearn.linear_model import LinearRegression\n",
    "from sklearn.model_selection import cross_validate, ShuffleSplit\n",
    "\n",
    "X = ob_data[[\"Income\"]]\n",
    "y = ob_data[\"Obesity\"]\n",
    "\n",
    "model = LinearRegression()\n",
    "res = cross_validate(model, X, y, cv=10)\n",
    "print(res[\"test_score\"].mean())\n",
    "\n",
    "ob_data.corr().head()"
   ]
  },
  {
   "cell_type": "markdown",
   "metadata": {},
   "source": [
    "**Hypothesis:** Obesity rate shares an inverse correlation with median income level\n",
    "\n",
    "**Testing Method:** Using the data set, get the median income each year in each city. Match with the obesity rate each year in each city in a new dataframe. Graph the dataframe with seaborn and get the correllation value. Then use the pandas `corr()` function to find correlations in the data.\n",
    "\n",
    "**Conclusion:** There appears to be a 70% inverse correlation between income level and obesity rate"
   ]
  },
  {
   "cell_type": "code",
   "execution_count": null,
   "metadata": {},
   "outputs": [],
   "source": []
  }
 ],
 "metadata": {
  "anaconda-cloud": {},
  "kernelspec": {
   "display_name": "Python 3",
   "language": "python",
   "name": "python3"
  },
  "language_info": {
   "codemirror_mode": {
    "name": "ipython",
    "version": 3
   },
   "file_extension": ".py",
   "mimetype": "text/x-python",
   "name": "python",
   "nbconvert_exporter": "python",
   "pygments_lexer": "ipython3",
   "version": "3.7.4"
  }
 },
 "nbformat": 4,
 "nbformat_minor": 2
}
