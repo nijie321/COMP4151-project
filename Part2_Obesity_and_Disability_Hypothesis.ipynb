{
 "cells": [
  {
   "cell_type": "markdown",
   "metadata": {},
   "source": [
    "# COMP 4151 Project - Part II - My Hypothesis"
   ]
  },
  {
   "cell_type": "markdown",
   "metadata": {},
   "source": [
    "This notebook contains my testing and analysis of the hypothesis that **higher disability rates correllate with higher obesity rates**."
   ]
  },
  {
   "cell_type": "markdown",
   "metadata": {},
   "source": [
    "### II. Data Exploration"
   ]
  },
  {
   "cell_type": "markdown",
   "metadata": {},
   "source": [
    "Study obesity in both adults and high school students in this data set.\n",
    "\n",
    "Such a study may involve a number steps:\n",
    "\n",
    "* Quick exploration of the data on the subject of obesity.\n",
    "    + This requires that you ask basic questions. Many of these questions can be answered using pandas.\n",
    "    + This may also require that you draw figures to get a better understanding of the data.  seaborn should be helpful here.\n",
    "\n",
    "* Establishing a number of hypotheses about obesity (cause, effect, etc.)\n",
    "\n",
    "* Analyze, report on your hypotheses.\n",
    "\n",
    "An important goal of the project is for you to communicate effectively. Clarity in writing (English and Python) is extremely important. Readers do not want to guess how you arrive to your findings.\n",
    "\n",
    "\n"
   ]
  },
  {
   "cell_type": "code",
   "execution_count": 1,
   "metadata": {},
   "outputs": [],
   "source": [
    "import pandas as pd\n",
    "import seaborn as sns"
   ]
  },
  {
   "cell_type": "code",
   "execution_count": 2,
   "metadata": {},
   "outputs": [],
   "source": [
    "data_src = 'BCHI-dataset_2019-03-04.csv'\n",
    "df = pd.read_csv(data_src) \\\n",
    "       .rename(columns={'Race/Ethnicity': 'Race_Ethnicity'})"
   ]
  },
  {
   "cell_type": "code",
   "execution_count": 3,
   "metadata": {},
   "outputs": [],
   "source": [
    "obese_adult = df.loc[df['Indicator'] == 'Percent of Adults Who Are Obese'] \\\n",
    "                .rename(columns={'Value': 'Obesity_Rate'})\n",
    "\n",
    "obese_hs = df.loc[df['Indicator'] == 'Percent of High School Students Who Are Obese'] \\\n",
    "             .rename(columns={'Value': 'Obesity_Rate'})\n",
    "\n",
    "disabled = df.loc[df['Indicator'] == 'Percent of Population with a Disability'] \\\n",
    "             .rename(columns={'Value': 'Disability_Rate'})"
   ]
  },
  {
   "cell_type": "code",
   "execution_count": 4,
   "metadata": {},
   "outputs": [],
   "source": [
    "obese_adult =  obese_adult[['Year', 'Sex', 'Race_Ethnicity', 'Place', 'Obesity_Rate']]\n",
    "obese_hs = obese_hs[['Year', 'Sex', 'Race_Ethnicity', 'Place', 'Obesity_Rate']]\n",
    "disabled = disabled[['Year', 'Sex', 'Race_Ethnicity', 'Place', 'Disability_Rate']]\n",
    "\n",
    "obese_adult = obese_adult.dropna()\n",
    "obese_hs = obese_hs.dropna()\n",
    "disabled = disabled.dropna()\n",
    "\n",
    "obese_adult['Status'] = 'Adult'\n",
    "obese_hs['Status'] = 'HS Student'\n",
    "\n",
    "obese_all = pd.concat([obese_adult, obese_hs])\n",
    "\n",
    "obese_all = obese_all[['Year', 'Sex', 'Race_Ethnicity', 'Place', 'Status', 'Obesity_Rate']]\n",
    "\n",
    "obese_adult = obese_adult.drop(columns=['Status'])\n",
    "obese_hs = obese_hs.drop(columns=['Status'])"
   ]
  },
  {
   "cell_type": "code",
   "execution_count": 5,
   "metadata": {},
   "outputs": [
    {
     "data": {
      "text/html": [
       "<div>\n",
       "<style scoped>\n",
       "    .dataframe tbody tr th:only-of-type {\n",
       "        vertical-align: middle;\n",
       "    }\n",
       "\n",
       "    .dataframe tbody tr th {\n",
       "        vertical-align: top;\n",
       "    }\n",
       "\n",
       "    .dataframe thead th {\n",
       "        text-align: right;\n",
       "    }\n",
       "</style>\n",
       "<table border=\"1\" class=\"dataframe\">\n",
       "  <thead>\n",
       "    <tr style=\"text-align: right;\">\n",
       "      <th></th>\n",
       "      <th>Year</th>\n",
       "      <th>Sex</th>\n",
       "      <th>Race_Ethnicity</th>\n",
       "      <th>Place</th>\n",
       "      <th>Obesity_Rate</th>\n",
       "      <th>Disability_Rate</th>\n",
       "    </tr>\n",
       "  </thead>\n",
       "  <tbody>\n",
       "    <tr>\n",
       "      <th>160</th>\n",
       "      <td>2013</td>\n",
       "      <td>Both</td>\n",
       "      <td>White</td>\n",
       "      <td>Boston, MA</td>\n",
       "      <td>16.2</td>\n",
       "      <td>9.5</td>\n",
       "    </tr>\n",
       "    <tr>\n",
       "      <th>119</th>\n",
       "      <td>2013</td>\n",
       "      <td>Both</td>\n",
       "      <td>Asian/PI</td>\n",
       "      <td>New York City, NY</td>\n",
       "      <td>10.2</td>\n",
       "      <td>6.2</td>\n",
       "    </tr>\n",
       "    <tr>\n",
       "      <th>302</th>\n",
       "      <td>2015</td>\n",
       "      <td>Both</td>\n",
       "      <td>Asian/PI</td>\n",
       "      <td>New York City, NY</td>\n",
       "      <td>7.3</td>\n",
       "      <td>6.6</td>\n",
       "    </tr>\n",
       "  </tbody>\n",
       "</table>\n",
       "</div>"
      ],
      "text/plain": [
       "     Year   Sex Race_Ethnicity              Place  Obesity_Rate  \\\n",
       "160  2013  Both          White         Boston, MA          16.2   \n",
       "119  2013  Both       Asian/PI  New York City, NY          10.2   \n",
       "302  2015  Both       Asian/PI  New York City, NY           7.3   \n",
       "\n",
       "     Disability_Rate  \n",
       "160              9.5  \n",
       "119              6.2  \n",
       "302              6.6  "
      ]
     },
     "execution_count": 5,
     "metadata": {},
     "output_type": "execute_result"
    }
   ],
   "source": [
    "obese_disabled_adult = obese_adult.merge(disabled)\n",
    "obese_disabled_adult.sample(3)"
   ]
  },
  {
   "cell_type": "code",
   "execution_count": 6,
   "metadata": {},
   "outputs": [
    {
     "data": {
      "text/html": [
       "<div>\n",
       "<style scoped>\n",
       "    .dataframe tbody tr th:only-of-type {\n",
       "        vertical-align: middle;\n",
       "    }\n",
       "\n",
       "    .dataframe tbody tr th {\n",
       "        vertical-align: top;\n",
       "    }\n",
       "\n",
       "    .dataframe thead th {\n",
       "        text-align: right;\n",
       "    }\n",
       "</style>\n",
       "<table border=\"1\" class=\"dataframe\">\n",
       "  <thead>\n",
       "    <tr style=\"text-align: right;\">\n",
       "      <th></th>\n",
       "      <th>Year</th>\n",
       "      <th>Sex</th>\n",
       "      <th>Race_Ethnicity</th>\n",
       "      <th>Place</th>\n",
       "      <th>Obesity_Rate</th>\n",
       "      <th>Disability_Rate</th>\n",
       "    </tr>\n",
       "  </thead>\n",
       "  <tbody>\n",
       "    <tr>\n",
       "      <th>73</th>\n",
       "      <td>2013</td>\n",
       "      <td>Male</td>\n",
       "      <td>All</td>\n",
       "      <td>San Francisco, CA</td>\n",
       "      <td>10.3</td>\n",
       "      <td>10.0</td>\n",
       "    </tr>\n",
       "    <tr>\n",
       "      <th>116</th>\n",
       "      <td>2015</td>\n",
       "      <td>Both</td>\n",
       "      <td>Black</td>\n",
       "      <td>Boston, MA</td>\n",
       "      <td>17.1</td>\n",
       "      <td>16.2</td>\n",
       "    </tr>\n",
       "    <tr>\n",
       "      <th>95</th>\n",
       "      <td>2015</td>\n",
       "      <td>Both</td>\n",
       "      <td>All</td>\n",
       "      <td>Las Vegas (Clark County), NV</td>\n",
       "      <td>11.4</td>\n",
       "      <td>12.0</td>\n",
       "    </tr>\n",
       "  </tbody>\n",
       "</table>\n",
       "</div>"
      ],
      "text/plain": [
       "     Year   Sex Race_Ethnicity                         Place  Obesity_Rate  \\\n",
       "73   2013  Male            All             San Francisco, CA          10.3   \n",
       "116  2015  Both          Black                    Boston, MA          17.1   \n",
       "95   2015  Both            All  Las Vegas (Clark County), NV          11.4   \n",
       "\n",
       "     Disability_Rate  \n",
       "73              10.0  \n",
       "116             16.2  \n",
       "95              12.0  "
      ]
     },
     "execution_count": 6,
     "metadata": {},
     "output_type": "execute_result"
    }
   ],
   "source": [
    "obese_disabled_hs = obese_hs.merge(disabled)\n",
    "obese_disabled_hs.sample(3)"
   ]
  },
  {
   "cell_type": "code",
   "execution_count": 7,
   "metadata": {},
   "outputs": [
    {
     "data": {
      "text/html": [
       "<div>\n",
       "<style scoped>\n",
       "    .dataframe tbody tr th:only-of-type {\n",
       "        vertical-align: middle;\n",
       "    }\n",
       "\n",
       "    .dataframe tbody tr th {\n",
       "        vertical-align: top;\n",
       "    }\n",
       "\n",
       "    .dataframe thead th {\n",
       "        text-align: right;\n",
       "    }\n",
       "</style>\n",
       "<table border=\"1\" class=\"dataframe\">\n",
       "  <thead>\n",
       "    <tr style=\"text-align: right;\">\n",
       "      <th></th>\n",
       "      <th>Year</th>\n",
       "      <th>Sex</th>\n",
       "      <th>Race_Ethnicity</th>\n",
       "      <th>Place</th>\n",
       "      <th>Status</th>\n",
       "      <th>Obesity_Rate</th>\n",
       "      <th>Disability_Rate</th>\n",
       "    </tr>\n",
       "  </thead>\n",
       "  <tbody>\n",
       "    <tr>\n",
       "      <th>118</th>\n",
       "      <td>2013</td>\n",
       "      <td>Both</td>\n",
       "      <td>All</td>\n",
       "      <td>New York City, NY</td>\n",
       "      <td>HS Student</td>\n",
       "      <td>11.8</td>\n",
       "      <td>10.3</td>\n",
       "    </tr>\n",
       "    <tr>\n",
       "      <th>81</th>\n",
       "      <td>2012</td>\n",
       "      <td>Female</td>\n",
       "      <td>All</td>\n",
       "      <td>San Antonio, TX</td>\n",
       "      <td>Adult</td>\n",
       "      <td>31.0</td>\n",
       "      <td>14.0</td>\n",
       "    </tr>\n",
       "    <tr>\n",
       "      <th>308</th>\n",
       "      <td>2014</td>\n",
       "      <td>Both</td>\n",
       "      <td>Hispanic</td>\n",
       "      <td>San Diego County, CA</td>\n",
       "      <td>Adult</td>\n",
       "      <td>25.6</td>\n",
       "      <td>7.2</td>\n",
       "    </tr>\n",
       "  </tbody>\n",
       "</table>\n",
       "</div>"
      ],
      "text/plain": [
       "     Year     Sex Race_Ethnicity                 Place      Status  \\\n",
       "118  2013    Both            All     New York City, NY  HS Student   \n",
       "81   2012  Female            All       San Antonio, TX       Adult   \n",
       "308  2014    Both       Hispanic  San Diego County, CA       Adult   \n",
       "\n",
       "     Obesity_Rate  Disability_Rate  \n",
       "118          11.8             10.3  \n",
       "81           31.0             14.0  \n",
       "308          25.6              7.2  "
      ]
     },
     "execution_count": 7,
     "metadata": {},
     "output_type": "execute_result"
    }
   ],
   "source": [
    "obese_disabled_all = obese_all.merge(disabled)\n",
    "obese_disabled_all.sample(3)"
   ]
  },
  {
   "cell_type": "code",
   "execution_count": 8,
   "metadata": {},
   "outputs": [
    {
     "data": {
      "text/plain": [
       "<seaborn.axisgrid.FacetGrid at 0x7f7af8f110b8>"
      ]
     },
     "execution_count": 8,
     "metadata": {},
     "output_type": "execute_result"
    },
    {
     "data": {
      "image/png": "[encoded data removed]",
      "text/plain": [
       "<Figure size 360x360 with 1 Axes>"
      ]
     },
     "metadata": {
      "needs_background": "light"
     },
     "output_type": "display_data"
    }
   ],
   "source": [
    "sns.relplot(x='Disability_Rate', y='Obesity_Rate', data=obese_disabled_adult)"
   ]
  },
  {
   "cell_type": "code",
   "execution_count": 9,
   "metadata": {},
   "outputs": [
    {
     "data": {
      "text/html": [
       "<div>\n",
       "<style scoped>\n",
       "    .dataframe tbody tr th:only-of-type {\n",
       "        vertical-align: middle;\n",
       "    }\n",
       "\n",
       "    .dataframe tbody tr th {\n",
       "        vertical-align: top;\n",
       "    }\n",
       "\n",
       "    .dataframe thead th {\n",
       "        text-align: right;\n",
       "    }\n",
       "</style>\n",
       "<table border=\"1\" class=\"dataframe\">\n",
       "  <thead>\n",
       "    <tr style=\"text-align: right;\">\n",
       "      <th></th>\n",
       "      <th>Obesity_Rate</th>\n",
       "      <th>Disability_Rate</th>\n",
       "    </tr>\n",
       "  </thead>\n",
       "  <tbody>\n",
       "    <tr>\n",
       "      <th>Obesity_Rate</th>\n",
       "      <td>1.000000</td>\n",
       "      <td>0.578036</td>\n",
       "    </tr>\n",
       "    <tr>\n",
       "      <th>Disability_Rate</th>\n",
       "      <td>0.578036</td>\n",
       "      <td>1.000000</td>\n",
       "    </tr>\n",
       "  </tbody>\n",
       "</table>\n",
       "</div>"
      ],
      "text/plain": [
       "                 Obesity_Rate  Disability_Rate\n",
       "Obesity_Rate         1.000000         0.578036\n",
       "Disability_Rate      0.578036         1.000000"
      ]
     },
     "execution_count": 9,
     "metadata": {},
     "output_type": "execute_result"
    }
   ],
   "source": [
    "obese_disabled_adult[['Obesity_Rate', 'Disability_Rate']].corr()"
   ]
  },
  {
   "cell_type": "markdown",
   "metadata": {},
   "source": [
    "The correlation between the rates of disability in populations and the rates of obesity in the adults of populations is $0.578$."
   ]
  },
  {
   "cell_type": "code",
   "execution_count": 10,
   "metadata": {},
   "outputs": [
    {
     "data": {
      "text/plain": [
       "<seaborn.axisgrid.FacetGrid at 0x7f7af8b57940>"
      ]
     },
     "execution_count": 10,
     "metadata": {},
     "output_type": "execute_result"
    },
    {
     "data": {
      "image/png": "[encoded data removed]",
      "text/plain": [
       "<Figure size 360x360 with 1 Axes>"
      ]
     },
     "metadata": {
      "needs_background": "light"
     },
     "output_type": "display_data"
    }
   ],
   "source": [
    "sns.relplot(x='Disability_Rate', y='Obesity_Rate', data=obese_disabled_hs)"
   ]
  },
  {
   "cell_type": "code",
   "execution_count": 11,
   "metadata": {},
   "outputs": [
    {
     "data": {
      "text/html": [
       "<div>\n",
       "<style scoped>\n",
       "    .dataframe tbody tr th:only-of-type {\n",
       "        vertical-align: middle;\n",
       "    }\n",
       "\n",
       "    .dataframe tbody tr th {\n",
       "        vertical-align: top;\n",
       "    }\n",
       "\n",
       "    .dataframe thead th {\n",
       "        text-align: right;\n",
       "    }\n",
       "</style>\n",
       "<table border=\"1\" class=\"dataframe\">\n",
       "  <thead>\n",
       "    <tr style=\"text-align: right;\">\n",
       "      <th></th>\n",
       "      <th>Obesity_Rate</th>\n",
       "      <th>Disability_Rate</th>\n",
       "    </tr>\n",
       "  </thead>\n",
       "  <tbody>\n",
       "    <tr>\n",
       "      <th>Obesity_Rate</th>\n",
       "      <td>1.000000</td>\n",
       "      <td>0.376346</td>\n",
       "    </tr>\n",
       "    <tr>\n",
       "      <th>Disability_Rate</th>\n",
       "      <td>0.376346</td>\n",
       "      <td>1.000000</td>\n",
       "    </tr>\n",
       "  </tbody>\n",
       "</table>\n",
       "</div>"
      ],
      "text/plain": [
       "                 Obesity_Rate  Disability_Rate\n",
       "Obesity_Rate         1.000000         0.376346\n",
       "Disability_Rate      0.376346         1.000000"
      ]
     },
     "execution_count": 11,
     "metadata": {},
     "output_type": "execute_result"
    }
   ],
   "source": [
    "obese_disabled_hs[['Obesity_Rate', 'Disability_Rate']].corr()"
   ]
  },
  {
   "cell_type": "markdown",
   "metadata": {},
   "source": [
    "The correlation between the rates of disability in populations and the rates of obesity in the high school students of populations is $0.376$."
   ]
  },
  {
   "cell_type": "code",
   "execution_count": 12,
   "metadata": {},
   "outputs": [
    {
     "data": {
      "text/plain": [
       "<seaborn.axisgrid.FacetGrid at 0x7f7af8ad98d0>"
      ]
     },
     "execution_count": 12,
     "metadata": {},
     "output_type": "execute_result"
    },
    {
     "data": {
      "image/png": "[encoded data removed]",
      "text/plain": [
       "<Figure size 360x360 with 1 Axes>"
      ]
     },
     "metadata": {
      "needs_background": "light"
     },
     "output_type": "display_data"
    }
   ],
   "source": [
    "sns.relplot(x='Disability_Rate', y='Obesity_Rate', data=obese_disabled_all)"
   ]
  },
  {
   "cell_type": "code",
   "execution_count": 13,
   "metadata": {},
   "outputs": [
    {
     "data": {
      "text/html": [
       "<div>\n",
       "<style scoped>\n",
       "    .dataframe tbody tr th:only-of-type {\n",
       "        vertical-align: middle;\n",
       "    }\n",
       "\n",
       "    .dataframe tbody tr th {\n",
       "        vertical-align: top;\n",
       "    }\n",
       "\n",
       "    .dataframe thead th {\n",
       "        text-align: right;\n",
       "    }\n",
       "</style>\n",
       "<table border=\"1\" class=\"dataframe\">\n",
       "  <thead>\n",
       "    <tr style=\"text-align: right;\">\n",
       "      <th></th>\n",
       "      <th>Obesity_Rate</th>\n",
       "      <th>Disability_Rate</th>\n",
       "    </tr>\n",
       "  </thead>\n",
       "  <tbody>\n",
       "    <tr>\n",
       "      <th>Obesity_Rate</th>\n",
       "      <td>1.000000</td>\n",
       "      <td>0.405618</td>\n",
       "    </tr>\n",
       "    <tr>\n",
       "      <th>Disability_Rate</th>\n",
       "      <td>0.405618</td>\n",
       "      <td>1.000000</td>\n",
       "    </tr>\n",
       "  </tbody>\n",
       "</table>\n",
       "</div>"
      ],
      "text/plain": [
       "                 Obesity_Rate  Disability_Rate\n",
       "Obesity_Rate         1.000000         0.405618\n",
       "Disability_Rate      0.405618         1.000000"
      ]
     },
     "execution_count": 13,
     "metadata": {},
     "output_type": "execute_result"
    }
   ],
   "source": [
    "obese_disabled_all[['Obesity_Rate', 'Disability_Rate']].corr()"
   ]
  },
  {
   "cell_type": "markdown",
   "metadata": {},
   "source": [
    "The correlation between the rates of disability in populations and the rates of obesity in populations is $0.406$."
   ]
  },
  {
   "cell_type": "code",
   "execution_count": 14,
   "metadata": {},
   "outputs": [
    {
     "data": {
      "text/plain": [
       "<seaborn.axisgrid.FacetGrid at 0x7f7af8ac3ac8>"
      ]
     },
     "execution_count": 14,
     "metadata": {},
     "output_type": "execute_result"
    },
    {
     "data": {
      "image/png": "[encoded data removed]",
      "text/plain": [
       "<Figure size 452.125x360 with 1 Axes>"
      ]
     },
     "metadata": {
      "needs_background": "light"
     },
     "output_type": "display_data"
    }
   ],
   "source": [
    "sns.relplot(x='Disability_Rate', y='Obesity_Rate', hue='Status', data=obese_disabled_all)"
   ]
  },
  {
   "cell_type": "code",
   "execution_count": null,
   "metadata": {},
   "outputs": [],
   "source": []
  },
  {
   "cell_type": "markdown",
   "metadata": {},
   "source": [
    "Now, let's build some regression models that try to predict $\\textit{Obesity Rate}$ given $\\textit{Disability Rate}$ or try to predict $\\textit{Disability Rate}$ given $\\textit{Obesity Rate}$."
   ]
  },
  {
   "cell_type": "code",
   "execution_count": 15,
   "metadata": {},
   "outputs": [],
   "source": [
    "from sklearn.model_selection import cross_validate, ShuffleSplit, train_test_split\n",
    "from sklearn.tree import DecisionTreeRegressor\n",
    "from sklearn.ensemble import RandomForestRegressor\n",
    "from sklearn.linear_model import LinearRegression, Lasso, Ridge\n",
    "from sklearn.svm import SVR"
   ]
  },
  {
   "cell_type": "code",
   "execution_count": 16,
   "metadata": {},
   "outputs": [],
   "source": [
    "adult_obesity_rate_X = obese_disabled_adult[['Obesity_Rate']]\n",
    "hs_obesity_rate_X = obese_disabled_hs[['Obesity_Rate']]\n",
    "all_obesity_rate_X = obese_disabled_all[['Obesity_Rate']]\n",
    "\n",
    "adult_obesity_rate_y = obese_disabled_adult['Obesity_Rate']\n",
    "hs_obesity_rate_y = obese_disabled_hs['Obesity_Rate']\n",
    "all_obesity_rate_y = obese_disabled_all['Obesity_Rate']\n",
    "\n",
    "adult_disability_rate_X = obese_disabled_adult[['Disability_Rate']]\n",
    "hs_disability_rate_X = obese_disabled_hs[['Disability_Rate']]\n",
    "all_disability_rate_X = obese_disabled_all[['Disability_Rate']]\n",
    "\n",
    "adult_disability_rate_y = obese_disabled_adult['Disability_Rate']\n",
    "hs_disability_rate_y = obese_disabled_hs['Disability_Rate']\n",
    "all_disability_rate_y = obese_disabled_all['Disability_Rate']\n",
    "\n",
    "cv = ShuffleSplit(n_splits=10)"
   ]
  },
  {
   "cell_type": "code",
   "execution_count": 17,
   "metadata": {},
   "outputs": [],
   "source": [
    "dtr = DecisionTreeRegressor()\n",
    "rfr = RandomForestRegressor(n_estimators=100)\n",
    "lr = LinearRegression()\n",
    "lasso = Lasso()\n",
    "ridge = Ridge()\n",
    "svm_lin = SVR(kernel='linear', gamma='auto')\n",
    "svm_poly = SVR(kernel='poly', degree=2, gamma='auto')"
   ]
  },
  {
   "cell_type": "code",
   "execution_count": 18,
   "metadata": {},
   "outputs": [],
   "source": [
    "def evaluate(model):\n",
    "    score = round(cross_validate(model, adult_disability_rate_X, adult_obesity_rate_y, cv=cv)['test_score'].mean(), 2)\n",
    "    print('X = Adult Disability Rate, y = Adult Obesity Rate, score = ', score)\n",
    "    score = round(cross_validate(model, adult_obesity_rate_X, adult_disability_rate_y, cv=cv)['test_score'].mean(), 2)\n",
    "    print('X = Adult Obesity Rate, y = Adult Disability Rate, score = ', score)\n",
    "    score = round(cross_validate(model, hs_disability_rate_X, hs_obesity_rate_y, cv=cv)['test_score'].mean(), 2)\n",
    "    print('X = HS Disability Rate, y = HS Obesity Rate, score = ', score)\n",
    "    score = round(cross_validate(model, hs_obesity_rate_X, hs_disability_rate_y, cv=cv)['test_score'].mean(), 2)\n",
    "    print('X = HS Obesity Rate, y = HS Disability Rate, score = ', score)\n",
    "    score = round(cross_validate(model, all_disability_rate_X, all_obesity_rate_y, cv=cv)['test_score'].mean(), 2)\n",
    "    print('X = All Disability Rate, y = All Obesity Rate, score = ', score)\n",
    "    score = round(cross_validate(model, all_obesity_rate_X, all_disability_rate_y, cv=cv)['test_score'].mean(), 2)\n",
    "    print('X = All Obesity Rate, y = All Disability Rate, score = ', score)"
   ]
  },
  {
   "cell_type": "code",
   "execution_count": 19,
   "metadata": {},
   "outputs": [
    {
     "name": "stdout",
     "output_type": "stream",
     "text": [
      "Decision Tree Regressor Scores:\n",
      "X = Adult Disability Rate, y = Adult Obesity Rate, score =  -0.05\n",
      "X = Adult Obesity Rate, y = Adult Disability Rate, score =  -0.02\n",
      "X = HS Disability Rate, y = HS Obesity Rate, score =  -0.67\n",
      "X = HS Obesity Rate, y = HS Disability Rate, score =  -1.34\n",
      "X = All Disability Rate, y = All Obesity Rate, score =  -0.1\n",
      "X = All Obesity Rate, y = All Disability Rate, score =  -0.34\n"
     ]
    }
   ],
   "source": [
    "print('Decision Tree Regressor Scores:')\n",
    "evaluate(dtr)"
   ]
  },
  {
   "cell_type": "code",
   "execution_count": 20,
   "metadata": {},
   "outputs": [
    {
     "name": "stdout",
     "output_type": "stream",
     "text": [
      "Random Forest Regressor Scores:\n",
      "X = Adult Disability Rate, y = Adult Obesity Rate, score =  0.35\n",
      "X = Adult Obesity Rate, y = Adult Disability Rate, score =  0.01\n",
      "X = HS Disability Rate, y = HS Obesity Rate, score =  -0.35\n",
      "X = HS Obesity Rate, y = HS Disability Rate, score =  -0.22\n",
      "X = All Disability Rate, y = All Obesity Rate, score =  -0.03\n",
      "X = All Obesity Rate, y = All Disability Rate, score =  -0.13\n"
     ]
    }
   ],
   "source": [
    "print('Random Forest Regressor Scores:')\n",
    "evaluate(rfr)"
   ]
  },
  {
   "cell_type": "code",
   "execution_count": 21,
   "metadata": {},
   "outputs": [
    {
     "name": "stdout",
     "output_type": "stream",
     "text": [
      "Linear Regression Scores:\n",
      "X = Adult Disability Rate, y = Adult Obesity Rate, score =  0.28\n",
      "X = Adult Obesity Rate, y = Adult Disability Rate, score =  0.36\n",
      "X = HS Disability Rate, y = HS Obesity Rate, score =  0.09\n",
      "X = HS Obesity Rate, y = HS Disability Rate, score =  -0.24\n",
      "X = All Disability Rate, y = All Obesity Rate, score =  0.15\n",
      "X = All Obesity Rate, y = All Disability Rate, score =  0.08\n"
     ]
    }
   ],
   "source": [
    "print('Linear Regression Scores:')\n",
    "evaluate(lr)"
   ]
  },
  {
   "cell_type": "code",
   "execution_count": 22,
   "metadata": {},
   "outputs": [
    {
     "name": "stdout",
     "output_type": "stream",
     "text": [
      "Lasso Scores:\n",
      "X = Adult Disability Rate, y = Adult Obesity Rate, score =  0.31\n",
      "X = Adult Obesity Rate, y = Adult Disability Rate, score =  0.26\n",
      "X = HS Disability Rate, y = HS Obesity Rate, score =  0.08\n",
      "X = HS Obesity Rate, y = HS Disability Rate, score =  0.1\n",
      "X = All Disability Rate, y = All Obesity Rate, score =  0.14\n",
      "X = All Obesity Rate, y = All Disability Rate, score =  0.16\n"
     ]
    }
   ],
   "source": [
    "print('Lasso Scores:')\n",
    "evaluate(lasso)"
   ]
  },
  {
   "cell_type": "code",
   "execution_count": 23,
   "metadata": {},
   "outputs": [
    {
     "name": "stdout",
     "output_type": "stream",
     "text": [
      "Ridge Scores:\n",
      "X = Adult Disability Rate, y = Adult Obesity Rate, score =  0.29\n",
      "X = Adult Obesity Rate, y = Adult Disability Rate, score =  0.29\n",
      "X = HS Disability Rate, y = HS Obesity Rate, score =  0.02\n",
      "X = HS Obesity Rate, y = HS Disability Rate, score =  0.07\n",
      "X = All Disability Rate, y = All Obesity Rate, score =  0.18\n",
      "X = All Obesity Rate, y = All Disability Rate, score =  0.14\n"
     ]
    }
   ],
   "source": [
    "print('Ridge Scores:')\n",
    "evaluate(ridge)"
   ]
  },
  {
   "cell_type": "code",
   "execution_count": 24,
   "metadata": {},
   "outputs": [
    {
     "name": "stdout",
     "output_type": "stream",
     "text": [
      "Linear Support Vector Machine Scores:\n",
      "X = Adult Disability Rate, y = Adult Obesity Rate, score =  0.27\n",
      "X = Adult Obesity Rate, y = Adult Disability Rate, score =  0.24\n",
      "X = HS Disability Rate, y = HS Obesity Rate, score =  0.13\n",
      "X = HS Obesity Rate, y = HS Disability Rate, score =  0.01\n",
      "X = All Disability Rate, y = All Obesity Rate, score =  0.12\n",
      "X = All Obesity Rate, y = All Disability Rate, score =  0.14\n"
     ]
    }
   ],
   "source": [
    "print('Linear Support Vector Machine Scores:')\n",
    "evaluate(svm_lin)"
   ]
  },
  {
   "cell_type": "code",
   "execution_count": 25,
   "metadata": {},
   "outputs": [
    {
     "name": "stdout",
     "output_type": "stream",
     "text": [
      "Polynomial (Degree 2) Support Vector Machine Scores:\n",
      "X = Adult Disability Rate, y = Adult Obesity Rate, score =  0.29\n",
      "X = Adult Obesity Rate, y = Adult Disability Rate, score =  0.3\n",
      "X = HS Disability Rate, y = HS Obesity Rate, score =  0.14\n",
      "X = HS Obesity Rate, y = HS Disability Rate, score =  -0.02\n",
      "X = All Disability Rate, y = All Obesity Rate, score =  0.16\n",
      "X = All Obesity Rate, y = All Disability Rate, score =  0.15\n"
     ]
    }
   ],
   "source": [
    "model = svm_poly\n",
    "\n",
    "print('Polynomial (Degree 2) Support Vector Machine Scores:')\n",
    "\n",
    "X_train, X_test, y_train, y_test = train_test_split(adult_disability_rate_X, adult_obesity_rate_y, test_size=0.33)\n",
    "model.fit(X_train, y_train)\n",
    "score = round(model.score(X_test, y_test), 2)\n",
    "print('X = Adult Disability Rate, y = Adult Obesity Rate, score = ', score)\n",
    "\n",
    "X_train, X_test, y_train, y_test = train_test_split(adult_obesity_rate_X, adult_disability_rate_y, test_size=0.33)\n",
    "model.fit(X_train, y_train)\n",
    "score = round(model.score(X_test, y_test), 2)\n",
    "print('X = Adult Obesity Rate, y = Adult Disability Rate, score = ', score)\n",
    "\n",
    "X_train, X_test, y_train, y_test = train_test_split(hs_disability_rate_X, hs_obesity_rate_y, test_size=0.33)\n",
    "model.fit(X_train, y_train)\n",
    "score = round(model.score(X_test, y_test), 2)\n",
    "print('X = HS Disability Rate, y = HS Obesity Rate, score = ', score)\n",
    "\n",
    "X_train, X_test, y_train, y_test = train_test_split(hs_obesity_rate_X, hs_disability_rate_y, test_size=0.33)\n",
    "model.fit(X_train, y_train)\n",
    "score = round(model.score(X_test, y_test), 2)\n",
    "print('X = HS Obesity Rate, y = HS Disability Rate, score = ', score)\n",
    "\n",
    "X_train, X_test, y_train, y_test = train_test_split(all_disability_rate_X, all_obesity_rate_y, test_size=0.33)\n",
    "model.fit(X_train, y_train)\n",
    "score = round(model.score(X_test, y_test), 2)\n",
    "print('X = All Disability Rate, y = All Obesity Rate, score = ', score)\n",
    "\n",
    "X_train, X_test, y_train, y_test = train_test_split(all_obesity_rate_X, all_disability_rate_y, test_size=0.33)\n",
    "model.fit(X_train, y_train)\n",
    "score = round(model.score(X_test, y_test), 2)\n",
    "print('X = All Obesity Rate, y = All Disability Rate, score = ', score)"
   ]
  },
  {
   "cell_type": "code",
   "execution_count": null,
   "metadata": {},
   "outputs": [],
   "source": []
  },
  {
   "cell_type": "markdown",
   "metadata": {},
   "source": [
    "Now, let's build a Ridge model."
   ]
  },
  {
   "cell_type": "code",
   "execution_count": 26,
   "metadata": {},
   "outputs": [
    {
     "name": "stdout",
     "output_type": "stream",
     "text": [
      "X = Adult Disability Rate, y = Adult Obesity Rate, score =  0.32\n"
     ]
    }
   ],
   "source": [
    "model = Ridge()\n",
    "X_train, X_test, y_train, y_test = train_test_split(adult_disability_rate_X, adult_obesity_rate_y, test_size=0.33)\n",
    "model.fit(X_train, y_train)\n",
    "score = round(model.score(X_test, y_test), 2)\n",
    "print('X = Adult Disability Rate, y = Adult Obesity Rate, score = ', score)"
   ]
  },
  {
   "cell_type": "code",
   "execution_count": 27,
   "metadata": {},
   "outputs": [],
   "source": [
    "ob_dis = obese_disabled_adult.copy(deep=True)\n",
    "ob_dis = ob_dis[['Year', 'Sex', 'Race_Ethnicity', 'Place', 'Disability_Rate', 'Obesity_Rate']]\n",
    "predictions = model.predict(ob_dis[['Disability_Rate']])\n",
    "ob_dis['Predicted_Obesity_Rate'] = predictions"
   ]
  },
  {
   "cell_type": "code",
   "execution_count": 28,
   "metadata": {},
   "outputs": [
    {
     "data": {
      "text/html": [
       "<div>\n",
       "<style scoped>\n",
       "    .dataframe tbody tr th:only-of-type {\n",
       "        vertical-align: middle;\n",
       "    }\n",
       "\n",
       "    .dataframe tbody tr th {\n",
       "        vertical-align: top;\n",
       "    }\n",
       "\n",
       "    .dataframe thead th {\n",
       "        text-align: right;\n",
       "    }\n",
       "</style>\n",
       "<table border=\"1\" class=\"dataframe\">\n",
       "  <thead>\n",
       "    <tr style=\"text-align: right;\">\n",
       "      <th></th>\n",
       "      <th>Year</th>\n",
       "      <th>Sex</th>\n",
       "      <th>Race_Ethnicity</th>\n",
       "      <th>Place</th>\n",
       "      <th>Disability_Rate</th>\n",
       "      <th>Obesity_Rate</th>\n",
       "      <th>Predicted_Obesity_Rate</th>\n",
       "    </tr>\n",
       "  </thead>\n",
       "  <tbody>\n",
       "    <tr>\n",
       "      <th>117</th>\n",
       "      <td>2013</td>\n",
       "      <td>Both</td>\n",
       "      <td>Asian/PI</td>\n",
       "      <td>U.S. Total, U.S. Total</td>\n",
       "      <td>6.5</td>\n",
       "      <td>9.6</td>\n",
       "      <td>19.096066</td>\n",
       "    </tr>\n",
       "    <tr>\n",
       "      <th>143</th>\n",
       "      <td>2013</td>\n",
       "      <td>Both</td>\n",
       "      <td>Hispanic</td>\n",
       "      <td>Boston, MA</td>\n",
       "      <td>13.5</td>\n",
       "      <td>27.3</td>\n",
       "      <td>28.724781</td>\n",
       "    </tr>\n",
       "    <tr>\n",
       "      <th>74</th>\n",
       "      <td>2012</td>\n",
       "      <td>Female</td>\n",
       "      <td>All</td>\n",
       "      <td>Las Vegas (Clark County), NV</td>\n",
       "      <td>10.5</td>\n",
       "      <td>27.4</td>\n",
       "      <td>24.598189</td>\n",
       "    </tr>\n",
       "    <tr>\n",
       "      <th>145</th>\n",
       "      <td>2013</td>\n",
       "      <td>Both</td>\n",
       "      <td>Hispanic</td>\n",
       "      <td>New York City, NY</td>\n",
       "      <td>11.2</td>\n",
       "      <td>30.8</td>\n",
       "      <td>25.561061</td>\n",
       "    </tr>\n",
       "    <tr>\n",
       "      <th>199</th>\n",
       "      <td>2013</td>\n",
       "      <td>Male</td>\n",
       "      <td>All</td>\n",
       "      <td>Philadelphia, PA</td>\n",
       "      <td>14.7</td>\n",
       "      <td>24.0</td>\n",
       "      <td>30.375418</td>\n",
       "    </tr>\n",
       "  </tbody>\n",
       "</table>\n",
       "</div>"
      ],
      "text/plain": [
       "     Year     Sex Race_Ethnicity                         Place  \\\n",
       "117  2013    Both       Asian/PI        U.S. Total, U.S. Total   \n",
       "143  2013    Both       Hispanic                    Boston, MA   \n",
       "74   2012  Female            All  Las Vegas (Clark County), NV   \n",
       "145  2013    Both       Hispanic             New York City, NY   \n",
       "199  2013    Male            All              Philadelphia, PA   \n",
       "\n",
       "     Disability_Rate  Obesity_Rate  Predicted_Obesity_Rate  \n",
       "117              6.5           9.6               19.096066  \n",
       "143             13.5          27.3               28.724781  \n",
       "74              10.5          27.4               24.598189  \n",
       "145             11.2          30.8               25.561061  \n",
       "199             14.7          24.0               30.375418  "
      ]
     },
     "execution_count": 28,
     "metadata": {},
     "output_type": "execute_result"
    }
   ],
   "source": [
    "ob_dis.sample(5)"
   ]
  },
  {
   "cell_type": "code",
   "execution_count": 29,
   "metadata": {},
   "outputs": [
    {
     "data": {
      "text/plain": [
       "<seaborn.axisgrid.FacetGrid at 0x7f7af600fc18>"
      ]
     },
     "execution_count": 29,
     "metadata": {},
     "output_type": "execute_result"
    },
    {
     "data": {
      "image/png": "[encoded data removed]",
      "text/plain": [
       "<Figure size 360x360 with 1 Axes>"
      ]
     },
     "metadata": {
      "needs_background": "light"
     },
     "output_type": "display_data"
    },
    {
     "data": {
      "image/png": "[encoded data removed]",
      "text/plain": [
       "<Figure size 360x360 with 1 Axes>"
      ]
     },
     "metadata": {
      "needs_background": "light"
     },
     "output_type": "display_data"
    }
   ],
   "source": [
    "sns.relplot(x='Disability_Rate', y='Obesity_Rate', data=ob_dis)\n",
    "sns.relplot(x='Disability_Rate', y='Predicted_Obesity_Rate', data=ob_dis)"
   ]
  },
  {
   "cell_type": "code",
   "execution_count": null,
   "metadata": {},
   "outputs": [],
   "source": []
  }
 ],
 "metadata": {
  "kernelspec": {
   "display_name": "Python 3",
   "language": "python",
   "name": "python3"
  },
  "language_info": {
   "codemirror_mode": {
    "name": "ipython",
    "version": 3
   },
   "file_extension": ".py",
   "mimetype": "text/x-python",
   "name": "python",
   "nbconvert_exporter": "python",
   "pygments_lexer": "ipython3",
   "version": "3.7.3"
  }
 },
 "nbformat": 4,
 "nbformat_minor": 2
}
