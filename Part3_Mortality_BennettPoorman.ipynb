{
 "cells": [
  {
   "cell_type": "code",
   "execution_count": 1,
   "metadata": {},
   "outputs": [],
   "source": [
    "import pandas as pd\n",
    "import seaborn as sns"
   ]
  },
  {
   "cell_type": "markdown",
   "metadata": {},
   "source": [
    "The BCHI dataset does not provide the mortality rate for very many years and it does not provide the mortality rate of different age groups. However, this Human Mortality dataset contains data regarding the mortality rate in the U.S.A. for ages 0-110 years old (110 really means older than 110 years old) and for years 1933-2017. The dataset comes from the Human Mortality Database at https://mortality.org/."
   ]
  },
  {
   "cell_type": "code",
   "execution_count": 2,
   "metadata": {},
   "outputs": [],
   "source": [
    "df = pd.read_csv('Datasets/USA.Mx_1x1_copy.csv', delim_whitespace=True) \\\n",
    "       .dropna() \\\n",
    "       .drop(columns=['Male', 'Female']) \\\n",
    "       .rename(columns={'Total': 'Mortality_Rate'})"
   ]
  },
  {
   "cell_type": "code",
   "execution_count": 3,
   "metadata": {},
   "outputs": [
    {
     "data": {
      "text/html": [
       "<div>\n",
       "<style scoped>\n",
       "    .dataframe tbody tr th:only-of-type {\n",
       "        vertical-align: middle;\n",
       "    }\n",
       "\n",
       "    .dataframe tbody tr th {\n",
       "        vertical-align: top;\n",
       "    }\n",
       "\n",
       "    .dataframe thead th {\n",
       "        text-align: right;\n",
       "    }\n",
       "</style>\n",
       "<table border=\"1\" class=\"dataframe\">\n",
       "  <thead>\n",
       "    <tr style=\"text-align: right;\">\n",
       "      <th></th>\n",
       "      <th>Year</th>\n",
       "      <th>Age</th>\n",
       "      <th>Mortality_Rate</th>\n",
       "    </tr>\n",
       "  </thead>\n",
       "  <tbody>\n",
       "    <tr>\n",
       "      <th>0</th>\n",
       "      <td>1933</td>\n",
       "      <td>0</td>\n",
       "      <td>0.061292</td>\n",
       "    </tr>\n",
       "    <tr>\n",
       "      <th>5529</th>\n",
       "      <td>1982</td>\n",
       "      <td>90</td>\n",
       "      <td>0.166737</td>\n",
       "    </tr>\n",
       "    <tr>\n",
       "      <th>5989</th>\n",
       "      <td>1986</td>\n",
       "      <td>106</td>\n",
       "      <td>0.445498</td>\n",
       "    </tr>\n",
       "    <tr>\n",
       "      <th>3043</th>\n",
       "      <td>1960</td>\n",
       "      <td>46</td>\n",
       "      <td>0.005264</td>\n",
       "    </tr>\n",
       "    <tr>\n",
       "      <th>8424</th>\n",
       "      <td>2008</td>\n",
       "      <td>99</td>\n",
       "      <td>0.372601</td>\n",
       "    </tr>\n",
       "  </tbody>\n",
       "</table>\n",
       "</div>"
      ],
      "text/plain": [
       "      Year  Age  Mortality_Rate\n",
       "0     1933    0        0.061292\n",
       "5529  1982   90        0.166737\n",
       "5989  1986  106        0.445498\n",
       "3043  1960   46        0.005264\n",
       "8424  2008   99        0.372601"
      ]
     },
     "execution_count": 3,
     "metadata": {},
     "output_type": "execute_result"
    }
   ],
   "source": [
    "df.sample(5)"
   ]
  },
  {
   "cell_type": "markdown",
   "metadata": {},
   "source": [
    "Now, let's build a regression model that predicts the mortality rate of a specific age group given some year."
   ]
  },
  {
   "cell_type": "code",
   "execution_count": 4,
   "metadata": {},
   "outputs": [],
   "source": [
    "from sklearn.tree import DecisionTreeRegressor\n",
    "from sklearn.model_selection import cross_validate, ShuffleSplit, train_test_split, cross_val_predict"
   ]
  },
  {
   "cell_type": "code",
   "execution_count": 5,
   "metadata": {},
   "outputs": [],
   "source": [
    "def evaluate(model, X, y):\n",
    "    score = round(cross_validate(model, X, y, scoring='r2', cv=ShuffleSplit(n_splits=50, \\\n",
    "                                 test_size=1/3))['test_score'].mean(), 2)\n",
    "    return score"
   ]
  },
  {
   "cell_type": "code",
   "execution_count": 6,
   "metadata": {},
   "outputs": [],
   "source": [
    "X = df[['Year', 'Age']]\n",
    "y = df['Mortality_Rate']\n",
    "cv = ShuffleSplit(n_splits=50,test_size=1/3)"
   ]
  },
  {
   "cell_type": "code",
   "execution_count": 7,
   "metadata": {},
   "outputs": [
    {
     "data": {
      "text/plain": [
       "0.98"
      ]
     },
     "execution_count": 7,
     "metadata": {},
     "output_type": "execute_result"
    }
   ],
   "source": [
    "evaluate(DecisionTreeRegressor(), X, y)"
   ]
  },
  {
   "cell_type": "markdown",
   "metadata": {},
   "source": [
    "Decision Tree Regressor has a cross-validation $R^2$ score of $0.98$."
   ]
  },
  {
   "cell_type": "code",
   "execution_count": 8,
   "metadata": {},
   "outputs": [
    {
     "data": {
      "text/html": [
       "<div>\n",
       "<style scoped>\n",
       "    .dataframe tbody tr th:only-of-type {\n",
       "        vertical-align: middle;\n",
       "    }\n",
       "\n",
       "    .dataframe tbody tr th {\n",
       "        vertical-align: top;\n",
       "    }\n",
       "\n",
       "    .dataframe thead th {\n",
       "        text-align: right;\n",
       "    }\n",
       "</style>\n",
       "<table border=\"1\" class=\"dataframe\">\n",
       "  <thead>\n",
       "    <tr style=\"text-align: right;\">\n",
       "      <th></th>\n",
       "      <th>Year</th>\n",
       "      <th>Age</th>\n",
       "      <th>Mortality_Rate</th>\n",
       "      <th>Predicted_Mortality_Rate</th>\n",
       "    </tr>\n",
       "  </thead>\n",
       "  <tbody>\n",
       "    <tr>\n",
       "      <th>3135</th>\n",
       "      <td>1961</td>\n",
       "      <td>27</td>\n",
       "      <td>0.001252</td>\n",
       "      <td>0.001296</td>\n",
       "    </tr>\n",
       "    <tr>\n",
       "      <th>9213</th>\n",
       "      <td>2016</td>\n",
       "      <td>0</td>\n",
       "      <td>0.005864</td>\n",
       "      <td>0.006161</td>\n",
       "    </tr>\n",
       "    <tr>\n",
       "      <th>5942</th>\n",
       "      <td>1986</td>\n",
       "      <td>59</td>\n",
       "      <td>0.011688</td>\n",
       "      <td>0.011111</td>\n",
       "    </tr>\n",
       "    <tr>\n",
       "      <th>5962</th>\n",
       "      <td>1986</td>\n",
       "      <td>79</td>\n",
       "      <td>0.061327</td>\n",
       "      <td>0.060975</td>\n",
       "    </tr>\n",
       "    <tr>\n",
       "      <th>3211</th>\n",
       "      <td>1961</td>\n",
       "      <td>103</td>\n",
       "      <td>0.378709</td>\n",
       "      <td>0.347550</td>\n",
       "    </tr>\n",
       "    <tr>\n",
       "      <th>2082</th>\n",
       "      <td>1951</td>\n",
       "      <td>84</td>\n",
       "      <td>0.144924</td>\n",
       "      <td>0.145907</td>\n",
       "    </tr>\n",
       "    <tr>\n",
       "      <th>6509</th>\n",
       "      <td>1991</td>\n",
       "      <td>71</td>\n",
       "      <td>0.029903</td>\n",
       "      <td>0.029059</td>\n",
       "    </tr>\n",
       "    <tr>\n",
       "      <th>4561</th>\n",
       "      <td>1974</td>\n",
       "      <td>10</td>\n",
       "      <td>0.000293</td>\n",
       "      <td>0.000325</td>\n",
       "    </tr>\n",
       "    <tr>\n",
       "      <th>152</th>\n",
       "      <td>1934</td>\n",
       "      <td>41</td>\n",
       "      <td>0.006584</td>\n",
       "      <td>0.006511</td>\n",
       "    </tr>\n",
       "    <tr>\n",
       "      <th>856</th>\n",
       "      <td>1940</td>\n",
       "      <td>79</td>\n",
       "      <td>0.114937</td>\n",
       "      <td>0.110125</td>\n",
       "    </tr>\n",
       "  </tbody>\n",
       "</table>\n",
       "</div>"
      ],
      "text/plain": [
       "      Year  Age  Mortality_Rate  Predicted_Mortality_Rate\n",
       "3135  1961   27        0.001252                  0.001296\n",
       "9213  2016    0        0.005864                  0.006161\n",
       "5942  1986   59        0.011688                  0.011111\n",
       "5962  1986   79        0.061327                  0.060975\n",
       "3211  1961  103        0.378709                  0.347550\n",
       "2082  1951   84        0.144924                  0.145907\n",
       "6509  1991   71        0.029903                  0.029059\n",
       "4561  1974   10        0.000293                  0.000325\n",
       "152   1934   41        0.006584                  0.006511\n",
       "856   1940   79        0.114937                  0.110125"
      ]
     },
     "execution_count": 8,
     "metadata": {},
     "output_type": "execute_result"
    }
   ],
   "source": [
    "prediction = cross_val_predict(DecisionTreeRegressor(), X, y, cv=20)\n",
    "df2 = df.copy(deep=True)\n",
    "df2['Predicted_Mortality_Rate'] = prediction\n",
    "df2.sample(10)"
   ]
  },
  {
   "cell_type": "markdown",
   "metadata": {},
   "source": [
    "Train a model that predicts the mortality rate of a particular age group given a particular year."
   ]
  },
  {
   "cell_type": "code",
   "execution_count": 9,
   "metadata": {},
   "outputs": [
    {
     "name": "stdout",
     "output_type": "stream",
     "text": [
      "Score: 0.9847428172121558\n",
      "Some Predictions: [0.0140035  0.00141279 0.202741   0.243893   0.2709445 ]\n"
     ]
    }
   ],
   "source": [
    "X_train, X_test, y_train, y_test = train_test_split(X, y, test_size=1/3)\n",
    "model = DecisionTreeRegressor()\n",
    "model.fit(X_train, y_train)\n",
    "score = model.score(X_test, y_test)\n",
    "print('Score: ', score, sep='')\n",
    "print('Some Predictions: ', model.predict([\n",
    "        [1996, 62],\n",
    "        [1935, 10],\n",
    "        [1983, 92],\n",
    "        [1947, 90],\n",
    "        [2009, 95]]), sep='')"
   ]
  },
  {
   "cell_type": "code",
   "execution_count": 10,
   "metadata": {},
   "outputs": [],
   "source": [
    "def plot_mortality(age, year):\n",
    "    years = [year for year in range(1933, year)]\n",
    "    predictions = model.predict([[year, age] for year in years])\n",
    "    df3 = pd.DataFrame(data={'Year': years, 'Predicted_Mortality_Rate': predictions})\n",
    "    sns.relplot(x='Year', y='Predicted_Mortality_Rate', data=df3)"
   ]
  },
  {
   "cell_type": "code",
   "execution_count": 11,
   "metadata": {},
   "outputs": [
    {
     "name": "stdout",
     "output_type": "stream",
     "text": [
      "Predicted Mortality Rate for 80 Year Olds:\n"
     ]
    },
    {
     "data": {
      "image/png": "[encoded data removed]",
      "text/plain": [
       "<Figure size 360x360 with 1 Axes>"
      ]
     },
     "metadata": {
      "needs_background": "light"
     },
     "output_type": "display_data"
    }
   ],
   "source": [
    "print('Predicted Mortality Rate for 80 Year Olds:')\n",
    "plot_mortality(80, 2100)"
   ]
  },
  {
   "cell_type": "code",
   "execution_count": 12,
   "metadata": {},
   "outputs": [
    {
     "name": "stdout",
     "output_type": "stream",
     "text": [
      "Predicted Mortality Rate for 90 Year Olds:\n"
     ]
    },
    {
     "data": {
      "image/png": "[encoded data removed]",
      "text/plain": [
       "<Figure size 360x360 with 1 Axes>"
      ]
     },
     "metadata": {
      "needs_background": "light"
     },
     "output_type": "display_data"
    }
   ],
   "source": [
    "print('Predicted Mortality Rate for 90 Year Olds:')\n",
    "plot_mortality(90, 2100)"
   ]
  },
  {
   "cell_type": "code",
   "execution_count": null,
   "metadata": {},
   "outputs": [],
   "source": []
  }
 ],
 "metadata": {
  "kernelspec": {
   "display_name": "Python 3",
   "language": "python",
   "name": "python3"
  },
  "language_info": {
   "codemirror_mode": {
    "name": "ipython",
    "version": 3
   },
   "file_extension": ".py",
   "mimetype": "text/x-python",
   "name": "python",
   "nbconvert_exporter": "python",
   "pygments_lexer": "ipython3",
   "version": "3.7.3"
  }
 },
 "nbformat": 4,
 "nbformat_minor": 2
}
